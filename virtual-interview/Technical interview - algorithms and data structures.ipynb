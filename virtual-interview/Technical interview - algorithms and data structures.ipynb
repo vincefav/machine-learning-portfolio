{
 "cells": [
  {
   "cell_type": "markdown",
   "metadata": {},
   "source": [
    "I completed this problems as part of Udacity's technical interview practice. I'll admit I'm MUCH more of a statistician and machine learning engineer than a computer scientist, and I probably wouldn't be able to solve these problems on the spot. But given enough time, I'm clever and resourceful enough to figure these sorts of things out. :)"
   ]
  },
  {
   "cell_type": "markdown",
   "metadata": {},
   "source": [
    "# Question 1\n",
    "\n",
    "Given two strings s and t, determine whether some anagram of t is a substring of s. For example: if s = \"udacity\" and t = \"ad\", then the function returns True. Your function definition should look like: question1(s, t) and return a boolean True or False."
   ]
  },
  {
   "cell_type": "code",
   "execution_count": 288,
   "metadata": {
    "collapsed": true
   },
   "outputs": [],
   "source": [
    "from itertools import permutations\n",
    "\n",
    "def question1(s, t):\n",
    "    if (type(s) != str) or (type(t) != str) or (len(s) == 0) or (len(t) == 0):\n",
    "        return False\n",
    "    if len(t) > 8:\n",
    "        print(\"Error! It's going to take too long to process this. Try a shorter string for t.\")\n",
    "        return False\n",
    "    anagrams = [\"\".join(i) for i in permutations(t, len(t))]\n",
    "    for ana in anagrams:\n",
    "        if ana in s:\n",
    "            return True\n",
    "    return False"
   ]
  },
  {
   "cell_type": "code",
   "execution_count": 289,
   "metadata": {
    "collapsed": false
   },
   "outputs": [
    {
     "name": "stdout",
     "output_type": "stream",
     "text": [
      "True\n"
     ]
    }
   ],
   "source": [
    "print(question1('udacity', 'caity'))"
   ]
  },
  {
   "cell_type": "code",
   "execution_count": 291,
   "metadata": {
    "collapsed": false
   },
   "outputs": [
    {
     "name": "stdout",
     "output_type": "stream",
     "text": [
      "Error! It's going to take too long to process this. Try a shorter string for t.\n",
      "False\n"
     ]
    }
   ],
   "source": [
    "print(question1('udacityudacityudacityudacity', 'caitycaitycaitycaity'))"
   ]
  },
  {
   "cell_type": "code",
   "execution_count": 292,
   "metadata": {
    "collapsed": false
   },
   "outputs": [
    {
     "name": "stdout",
     "output_type": "stream",
     "text": [
      "False\n"
     ]
    }
   ],
   "source": [
    "print(question1('udacity', ''))"
   ]
  },
  {
   "cell_type": "markdown",
   "metadata": {},
   "source": [
    "I can think of at least one other way to solve this, but after discovering itertools a while back, I use it whenever I have a good excuse to. :) It's an efficient and compact way to create permutations, which is exactly what we need to do.\n",
    "\n",
    "I think that's the main design choice I made. Lists were the obvious choice for storing permutations because we have to process every item in the data structure and lookup speed isn't important. \n",
    "\n",
    "I believe the time and space complexity of this algorithm are both O(n!); a 2-letter string will have 2 permutations ($2*1$), a 3-letter string will have 6 ($3*2*1$), and so on. It's admittedly slow, because it's a factorial problem, and it's naturally going to take longer for longer strings. As a precaution, I limit the allowed length of \"t\" to 8 characters to prevent the function from taking too much time or memory."
   ]
  },
  {
   "cell_type": "markdown",
   "metadata": {},
   "source": [
    "# Question 2\n",
    "\n",
    "Given a string a, find the longest palindromic substring contained in a. Your function definition should look like question2(a), and return a string.\n",
    "\n"
   ]
  },
  {
   "cell_type": "code",
   "execution_count": 293,
   "metadata": {
    "collapsed": false
   },
   "outputs": [],
   "source": [
    "from numpy import argmax\n",
    "from string import punctuation\n",
    "\n",
    "def question2(a):\n",
    "    if type(a) != str:\n",
    "        print('Error! Not a string.')\n",
    "        return None\n",
    "\n",
    "    # Clean up the string\n",
    "    a = a.lower().replace(' ', '')\n",
    "    for i in punctuation:\n",
    "        a = a.lower().replace(i, '')\n",
    "\n",
    "    # Iterate over the string and save all palindromes found\n",
    "    pals_found = []\n",
    "    for len_check in range(2, len(a)+1):\n",
    "        for ix in range(len(a)):\n",
    "            pal_to_check = a[ix:ix+len_check]\n",
    "            if len(pal_to_check) < 2:\n",
    "                continue\n",
    "            if pal_to_check == pal_to_check[::-1]:\n",
    "                pals_found.append(pal_to_check)\n",
    "    if len(pals_found) == 0:\n",
    "        return None\n",
    "\n",
    "    # Calculate the length of each palindrome\n",
    "    pal_lens = [len(i) for i in pals_found]\n",
    "\n",
    "    # Return the one that is longest\n",
    "    return pals_found[argmax(pal_lens)]"
   ]
  },
  {
   "cell_type": "code",
   "execution_count": 294,
   "metadata": {
    "collapsed": false
   },
   "outputs": [
    {
     "name": "stdout",
     "output_type": "stream",
     "text": [
      "aduuda\n"
     ]
    }
   ],
   "source": [
    "print(question2('xanadu udacity'))"
   ]
  },
  {
   "cell_type": "code",
   "execution_count": 295,
   "metadata": {
    "collapsed": false
   },
   "outputs": [
    {
     "name": "stdout",
     "output_type": "stream",
     "text": [
      "amanaplanacanalpanama\n"
     ]
    }
   ],
   "source": [
    "print(question2('a man a pla!?n a .,\"canal panama'))"
   ]
  },
  {
   "cell_type": "code",
   "execution_count": 296,
   "metadata": {
    "collapsed": false
   },
   "outputs": [
    {
     "name": "stdout",
     "output_type": "stream",
     "text": [
      "Error! Not a string.\n",
      "None\n"
     ]
    }
   ],
   "source": [
    "print(question2(4554))"
   ]
  },
  {
   "cell_type": "markdown",
   "metadata": {},
   "source": [
    "This function has a few moving parts. First, I decided to clean up the string by removing spaces and punctuation from it. This wasn't specifically asked, but I think it improves the function by allowing it to find potentially longer anagrams that are within sentences.\n",
    "\n",
    "Then I iterate over the string provided and find palindromes of increasing length. I create another list to track the lengths of each palindrome and then use NumPy's argmax function to find the index with the longest palindrome.\n",
    "\n",
    "This function appears to have O(n^2) time and space complexity based on my understanding and testing of it. As the length of the string gets longer, it's going to take more time to a) generate palindromes, and b) search over the string. We could elect to limit the string length like I did in question 1, but even a string length of 100+ characters takes only about 20ms to process."
   ]
  },
  {
   "cell_type": "markdown",
   "metadata": {},
   "source": [
    "# Question 3"
   ]
  },
  {
   "cell_type": "code",
   "execution_count": 297,
   "metadata": {
    "collapsed": true
   },
   "outputs": [],
   "source": [
    "class Node(object):\n",
    "    def __init__(self, value):\n",
    "        self.value = value\n",
    "        self.edges = []\n",
    "\n",
    "class Edge(object):\n",
    "    def __init__(self, value, node_from, node_to):\n",
    "        self.value = value\n",
    "        self.node_from = node_from\n",
    "        self.node_to = node_to\n",
    "\n",
    "class Graph(object):\n",
    "    def __init__(self, nodes=[], edges=[]):\n",
    "        self.nodes = nodes\n",
    "        self.edges = edges\n",
    "\n",
    "from collections import defaultdict\n",
    "def question3(G):\n",
    "    if type(G) != dict:\n",
    "        print('Error! G is not dictionary.')\n",
    "        return None\n",
    "\n",
    "    if len(G) < 2:\n",
    "        print('Error! The graph should have at least 2 nodes.')\n",
    "        return None\n",
    "\n",
    "    nodes = list(G.keys())\n",
    "    edges = []\n",
    "\n",
    "    for node in nodes:\n",
    "        for connected_node in G[node]:\n",
    "            try:\n",
    "                a_to_b = (connected_node[1], connected_node[0], node)\n",
    "                b_to_a = (connected_node[1], node, connected_node[0])\n",
    "            except IndexError:\n",
    "                print('Error! Was unable to connect nodes.')\n",
    "                return None\n",
    "            if node > connected_node[0] and a_to_b not in edges:\n",
    "                edges.append(a_to_b)\n",
    "            elif node < connected_node[0] and a_to_b not in edges:\n",
    "                edges.append(b_to_a)\n",
    "\n",
    "    # Sort edges and prepare for processing\n",
    "    edges = sorted(edges)\n",
    "    edges_processed = []\n",
    "    nodes = [[i] for i in nodes]\n",
    "\n",
    "    for edge in edges:\n",
    "        from_, to_ = edge[1], edge[2]\n",
    "        for node_ix in range(len(nodes)):\n",
    "            if from_ in nodes[node_ix]:\n",
    "                node_ix_1 = node_ix\n",
    "            if to_ in nodes[node_ix]:\n",
    "                node_ix_2 = node_ix\n",
    "\n",
    "        if node_ix_1 < node_ix_2:\n",
    "            nodes[node_ix_1] = set(list(nodes[node_ix_1]) + list(nodes[node_ix_2]))\n",
    "            nodes.pop(node_ix_2) # remove the larger index/weight\n",
    "            edges_processed.append(edge)\n",
    "        if node_ix_1 > node_ix_2:\n",
    "            nodes[node_ix_2] = set(list(nodes[node_ix_1]) + list(nodes[node_ix_2]))\n",
    "            nodes.pop(node_ix_1)\n",
    "            edges_processed.append(edge)\n",
    "\n",
    "    # Generate the minimum spanning tree\n",
    "    graph = defaultdict(list)\n",
    "    for edge in edges_processed:\n",
    "        from_, to_ = edge[1], edge[2]\n",
    "        weight = edge[0]\n",
    "        graph[from_].append((to_, weight))\n",
    "        graph[to_].append((from_, weight))\n",
    "    return dict(graph)"
   ]
  },
  {
   "cell_type": "code",
   "execution_count": 298,
   "metadata": {
    "collapsed": false
   },
   "outputs": [
    {
     "name": "stdout",
     "output_type": "stream",
     "text": [
      "{'A': [('B', 1)], 'B': [('A', 1), ('D', 1), ('C', 2)], 'D': [('B', 1)], 'C': [('B', 2)]}\n"
     ]
    }
   ],
   "source": [
    "g = {'A': [('B', 5), ('C', 3)],\n",
    "     'B': [('A', 1), ('C', 6)],\n",
    "     'C': [('A', 3), ('B', 2)],\n",
    "     'D': [('B', 1)]}\n",
    "print(question3(g))"
   ]
  },
  {
   "cell_type": "code",
   "execution_count": 299,
   "metadata": {
    "collapsed": false
   },
   "outputs": [
    {
     "name": "stdout",
     "output_type": "stream",
     "text": [
      "Error! The graph should have at least 2 nodes.\n",
      "None\n"
     ]
    }
   ],
   "source": [
    "g = {'A': [('B', 5)]}\n",
    "print(question3(g))"
   ]
  },
  {
   "cell_type": "code",
   "execution_count": 300,
   "metadata": {
    "collapsed": false
   },
   "outputs": [
    {
     "name": "stdout",
     "output_type": "stream",
     "text": [
      "Error! Was unable to connect nodes.\n",
      "None\n"
     ]
    }
   ],
   "source": [
    "g = {'A': [()],\n",
    "     'B': [('A', 2)],}\n",
    "print(question3(g))"
   ]
  },
  {
   "cell_type": "markdown",
   "metadata": {},
   "source": [
    "I chose to solve this problem with Kruskal's algorithm. In basic terms, this algorithm sorts the edges by their ascending weights, and preferentially chooses the edges that a) add new nodes to the list of nodes visited, and b) don't complete a cycle. This process continues until the algorithm finds the graph's minimum spanning tree.\n",
    "\n",
    "Kruskal's algorithm is known to run in O(E log E) time, where E is the number of edges in the graph. My understanding is that it has a linear space complexity of O(n), increasing with the size of the graph.\n",
    "\n",
    "My implementation of Kruskal's algorithm is fairly straightforward. I occasionally used sets as a data structure to avoid processing nodes more than once. I also made use of the collection module's defaultdict to create a graph on-the-fly, rather than looking up whether edges were already in it. This isn't strictly necessary, but it would have been 3 more lines of code to check whether keys were in the dictionary and to add them if they weren't.\n",
    "\n",
    "There are quite a few different errors you can make when using this function, and I think I found ways to catch all of them. The function requires a dictionary with nodes that connect to one another. If the function doesn't receive a dictionary, gets a single node, or can't connect the nodes, it outputs an error message and returns None."
   ]
  },
  {
   "cell_type": "markdown",
   "metadata": {
    "collapsed": true
   },
   "source": [
    "# Question 4\n",
    "\n",
    "Find the least common ancestor between two nodes on a binary search tree. The least common ancestor is the farthest node from the root that is an ancestor of both nodes. For example, the root is a common ancestor of all nodes on the tree, but if both nodes are descendents of the root's left child, then that left child might be the lowest common ancestor. You can assume that both nodes are in the tree, and the tree itself adheres to all BST properties. The function definition should look like question4(T, r, n1, n2), where T is the tree represented as a matrix, where the index of the list is equal to the integer stored in that node and a 1 represents a child node, r is a non-negative integer representing the root, and n1 and n2 are non-negative integers representing the two nodes in no particular order. For example, one test case might be "
   ]
  },
  {
   "cell_type": "code",
   "execution_count": 301,
   "metadata": {
    "collapsed": true
   },
   "outputs": [],
   "source": [
    "def question4(T, r, n1, n2):\n",
    "    if type(T) != list or type(T[0]) != list:\n",
    "        print(\"Error! This doesn't appear to be an adjacency matrix.\")\n",
    "        return None\n",
    "    if type(r) != int or type(n1) != int or type(n2) != int:\n",
    "        print(\"Error! r, n1, and n2 must be integers.\")\n",
    "        return None\n",
    "    n1_ancestors = []\n",
    "    attempts = 0\n",
    "    while n1 != r:\n",
    "        for i in range(len(T)):\n",
    "            if T[i][n1] == 1:\n",
    "                n1 = i\n",
    "                n1_ancestors.append(n1)\n",
    "        attempts += 1\n",
    "        if attempts > len(T):\n",
    "            print('No common ancestor found!')\n",
    "            return None\n",
    "    if len(n1_ancestors) == 0:\n",
    "        print(\"Error! N1 has no parents. (Perhaps he's Batman?)\")\n",
    "        return None\n",
    "    attempts = 0\n",
    "    while n2 != r:\n",
    "        for i in range(len(T)):\n",
    "            if T[i][n2] == 1:\n",
    "                n2 = i\n",
    "        attempts += 1\n",
    "        if attempts > len(T):\n",
    "            print('No common ancestor found!')\n",
    "            return None\n",
    "    if n2 in n1_ancestors:\n",
    "        return n2\n",
    "    else:\n",
    "        print('No common ancestor found!')\n",
    "        return None"
   ]
  },
  {
   "cell_type": "code",
   "execution_count": 302,
   "metadata": {
    "collapsed": false
   },
   "outputs": [
    {
     "name": "stdout",
     "output_type": "stream",
     "text": [
      "3\n"
     ]
    }
   ],
   "source": [
    "print(question4([[0, 1, 0, 0, 0],\n",
    "           [0, 0, 0, 0, 0],\n",
    "           [0, 0, 0, 0, 0],\n",
    "           [1, 0, 0, 0, 1],\n",
    "           [0, 0, 0, 0, 0]],\n",
    "          r=3,\n",
    "          n1=1,\n",
    "          n2=4))"
   ]
  },
  {
   "cell_type": "code",
   "execution_count": 303,
   "metadata": {
    "collapsed": false
   },
   "outputs": [
    {
     "name": "stdout",
     "output_type": "stream",
     "text": [
      "No common ancestor found!\n"
     ]
    }
   ],
   "source": [
    "question4([[0, 0, 0, 0, 0],\n",
    "           [0, 0, 0, 0, 0],\n",
    "           [0, 0, 0, 0, 0],\n",
    "           [0, 0, 0, 0, 1],\n",
    "           [0, 0, 0, 0, 0]],\n",
    "          r=3,\n",
    "          n1=1,\n",
    "          n2=4)"
   ]
  },
  {
   "cell_type": "code",
   "execution_count": 304,
   "metadata": {
    "collapsed": false
   },
   "outputs": [
    {
     "name": "stdout",
     "output_type": "stream",
     "text": [
      "Error! This doesn't appear to be an adjacency matrix.\n"
     ]
    }
   ],
   "source": [
    "question4(\"um, it's like a tree where node 0 connects to nodes 1 and 2, and node 1 connects to node 3\",\n",
    "          r=0,\n",
    "          n1=0,\n",
    "          n2=0)"
   ]
  },
  {
   "cell_type": "markdown",
   "metadata": {},
   "source": [
    "Again, the code I used here is fairly straightforward. The main idea is to find the ancestors of both elements and identify the first ancestor of n2 that appears in the list of n1's ancestors.\n",
    "\n",
    "This function appears to have a time complexity of O(n) because it has to traverse up the tree, and the length of the tree is going to affect how much time it takes. The space complexity is also O(n), since the most memory-intensive thing we're doing is storing a list of increasing length."
   ]
  },
  {
   "cell_type": "markdown",
   "metadata": {},
   "source": [
    "# Question 5\n",
    "\n",
    "Find the element in a singly linked list that's m elements from the end. For example, if a linked list has 5 elements, the 3rd element from the end is the 3rd element. The function definition should look like question5(ll, m), where ll is the first node of a linked list and m is the \"mth number from the end\". You should copy/paste the Node class below to use as a representation of a node in the linked list. Return the value of the node at that position."
   ]
  },
  {
   "cell_type": "code",
   "execution_count": 305,
   "metadata": {
    "collapsed": false
   },
   "outputs": [],
   "source": [
    "class Node(object):\n",
    "    def __init__(self, data):\n",
    "        self.data = data\n",
    "        self.next = None\n",
    "\n",
    "class LinkedList(object):\n",
    "    def __init__(self, head=None):\n",
    "        self.head = head\n",
    "\n",
    "    def append(self, data):\n",
    "        current = self.head\n",
    "        if self.head:\n",
    "            while current.next:\n",
    "                current = current.next\n",
    "            current.next = data\n",
    "        else:\n",
    "            self.head = data\n",
    "\n",
    "    def position(self, position):\n",
    "        count = 1\n",
    "        current_pos = self.head\n",
    "        if position < 1:\n",
    "            return None\n",
    "        while count <= position and current_pos:\n",
    "            if count == position:\n",
    "                return current_pos\n",
    "            count += 1\n",
    "            current_pos = current_pos.next\n",
    "        return None\n",
    "\n",
    "    def __len__(self):\n",
    "        current = self.head\n",
    "        count = 0\n",
    "        while current:\n",
    "            count += 1\n",
    "            current = current.next # continue until next is None\n",
    "        return count\n",
    "\n",
    "def question5(ll, m):\n",
    "    try:\n",
    "        return ll.position(len(ll) + 1 - m).data\n",
    "    except:\n",
    "        print(\"Error! You didn't provide a valid position.\")\n",
    "        return None"
   ]
  },
  {
   "cell_type": "code",
   "execution_count": 307,
   "metadata": {
    "collapsed": false
   },
   "outputs": [
    {
     "name": "stdout",
     "output_type": "stream",
     "text": [
      "10\n"
     ]
    }
   ],
   "source": [
    "ll = LinkedList()\n",
    "\n",
    "# Append some sequential numbers\n",
    "for i in range(1,11):\n",
    "    ll.append(Node(i))\n",
    "\n",
    "print(question5(ll, 1))"
   ]
  },
  {
   "cell_type": "code",
   "execution_count": 308,
   "metadata": {
    "collapsed": false
   },
   "outputs": [
    {
     "name": "stdout",
     "output_type": "stream",
     "text": [
      "9\n"
     ]
    }
   ],
   "source": [
    "print(question5(ll, 2))"
   ]
  },
  {
   "cell_type": "code",
   "execution_count": 309,
   "metadata": {
    "collapsed": false
   },
   "outputs": [
    {
     "name": "stdout",
     "output_type": "stream",
     "text": [
      "Error! You didn't provide a valid position.\n",
      "None\n"
     ]
    }
   ],
   "source": [
    "print(question5(ll,0))"
   ]
  },
  {
   "cell_type": "code",
   "execution_count": 310,
   "metadata": {
    "collapsed": false
   },
   "outputs": [
    {
     "name": "stdout",
     "output_type": "stream",
     "text": [
      "Error! You didn't provide a valid position.\n",
      "None\n"
     ]
    }
   ],
   "source": [
    "ll = LinkedList() # Try it with an empty list\n",
    "print(question5(ll,1))"
   ]
  },
  {
   "cell_type": "markdown",
   "metadata": {},
   "source": [
    "I built upon Udacity's implementation of a linked list in order to make this work. There are a few methods we'll need to add to the LinkedList class:\n",
    "\n",
    "- The `.append` method, as its name suggests, allows us to append data to the list. It looks over each node until it finds the last one (where self.next is None) and then appends the data there.\n",
    "\n",
    "- The `.position` method is similar to indexing, but it starts counting at 1.\n",
    "\n",
    "- The `.__len__` method returns the length of the list.\n",
    "\n",
    "With these methods implemented, the function for question 5 is extremely simple! It just calls the .position method and returns the data \"m\" steps back from the end of the list. I followed the pythonic principle of asking for forgiveness rather than permission by just attempting this right away, and then returning an error if it doesn't work for whatever reason.\n",
    "\n",
    "This function has a time and space complexity of O(n) because it has to iterate over the linked list to find the correct position."
   ]
  }
 ],
 "metadata": {
  "anaconda-cloud": {},
  "kernelspec": {
   "display_name": "Python 3",
   "language": "python",
   "name": "python3"
  },
  "language_info": {
   "codemirror_mode": {
    "name": "ipython",
    "version": 3
   },
   "file_extension": ".py",
   "mimetype": "text/x-python",
   "name": "python",
   "nbconvert_exporter": "python",
   "pygments_lexer": "ipython3",
   "version": "3.6.0"
  }
 },
 "nbformat": 4,
 "nbformat_minor": 1
}
