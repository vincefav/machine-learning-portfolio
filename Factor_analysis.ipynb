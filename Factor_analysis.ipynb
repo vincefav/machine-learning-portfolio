{
 "cells": [
  {
   "cell_type": "markdown",
   "metadata": {},
   "source": [
    "# Factor Analysis\n",
    "**(The tool you might not be using)**\n",
    "\n",
    "Everyone knows that you can use clustering to assign labels to the observations in your dataset.\n",
    "\n",
    "But what if you want to assign labels to the *features*? Did you know there's a tool for that? It's called **factor analysis**, and it's commonly used in psychology research. This notebook is a quick introduction to how it works."
   ]
  },
  {
   "cell_type": "markdown",
   "metadata": {},
   "source": [
    "# The dataset\n",
    "\n",
    "The dataset I'll be using is a fun one: The **Young People Survey** by Miroslav Sabo. It examines various personality traits as well as things that Slovakian college students like and don't like.\n",
    "\n",
    "You can find it here:\n",
    "\n",
    "https://www.kaggle.com/miroslavsabo/young-people-survey"
   ]
  },
  {
   "cell_type": "code",
   "execution_count": 1,
   "metadata": {
    "collapsed": false
   },
   "outputs": [
    {
     "name": "stdout",
     "output_type": "stream",
     "text": [
      "Populating the interactive namespace from numpy and matplotlib\n"
     ]
    }
   ],
   "source": [
    "import pandas as pd\n",
    "import numpy as np\n",
    "import seaborn as sns\n",
    "import matplotlib.pyplot as plt\n",
    "\n",
    "from sklearn.decomposition import FactorAnalysis\n",
    "\n",
    "%pylab inline"
   ]
  },
  {
   "cell_type": "code",
   "execution_count": 2,
   "metadata": {
    "collapsed": false
   },
   "outputs": [
    {
     "data": {
      "text/html": [
       "<div>\n",
       "<style>\n",
       "    .dataframe thead tr:only-child th {\n",
       "        text-align: right;\n",
       "    }\n",
       "\n",
       "    .dataframe thead th {\n",
       "        text-align: left;\n",
       "    }\n",
       "\n",
       "    .dataframe tbody tr th {\n",
       "        vertical-align: top;\n",
       "    }\n",
       "</style>\n",
       "<table border=\"1\" class=\"dataframe\">\n",
       "  <thead>\n",
       "    <tr style=\"text-align: right;\">\n",
       "      <th></th>\n",
       "      <th>music</th>\n",
       "      <th>slow_songs_or_fast_songs</th>\n",
       "      <th>dance</th>\n",
       "      <th>folk</th>\n",
       "      <th>country</th>\n",
       "      <th>classical_music</th>\n",
       "      <th>musical</th>\n",
       "      <th>pop</th>\n",
       "      <th>rock</th>\n",
       "      <th>metal_or_hardrock</th>\n",
       "      <th>...</th>\n",
       "      <th>number_of_siblings</th>\n",
       "      <th>gender</th>\n",
       "      <th>left__right_handed</th>\n",
       "      <th>education</th>\n",
       "      <th>only_child</th>\n",
       "      <th>village__town</th>\n",
       "      <th>house__block_of_flats</th>\n",
       "      <th>i_am_always_on_time</th>\n",
       "      <th>i_lie_to_others</th>\n",
       "      <th>i_spend_a_lot_of_time_online</th>\n",
       "    </tr>\n",
       "  </thead>\n",
       "  <tbody>\n",
       "    <tr>\n",
       "      <th>0</th>\n",
       "      <td>5.0</td>\n",
       "      <td>3.0</td>\n",
       "      <td>2.0</td>\n",
       "      <td>1.0</td>\n",
       "      <td>2.0</td>\n",
       "      <td>2.0</td>\n",
       "      <td>1.0</td>\n",
       "      <td>5.0</td>\n",
       "      <td>5.0</td>\n",
       "      <td>1.0</td>\n",
       "      <td>...</td>\n",
       "      <td>1.0</td>\n",
       "      <td>female</td>\n",
       "      <td>right handed</td>\n",
       "      <td>college/bachelor degree</td>\n",
       "      <td>no</td>\n",
       "      <td>village</td>\n",
       "      <td>block of flats</td>\n",
       "      <td>5</td>\n",
       "      <td>1</td>\n",
       "      <td>3</td>\n",
       "    </tr>\n",
       "    <tr>\n",
       "      <th>1</th>\n",
       "      <td>4.0</td>\n",
       "      <td>4.0</td>\n",
       "      <td>2.0</td>\n",
       "      <td>1.0</td>\n",
       "      <td>1.0</td>\n",
       "      <td>1.0</td>\n",
       "      <td>2.0</td>\n",
       "      <td>3.0</td>\n",
       "      <td>5.0</td>\n",
       "      <td>4.0</td>\n",
       "      <td>...</td>\n",
       "      <td>2.0</td>\n",
       "      <td>female</td>\n",
       "      <td>right handed</td>\n",
       "      <td>college/bachelor degree</td>\n",
       "      <td>no</td>\n",
       "      <td>city</td>\n",
       "      <td>block of flats</td>\n",
       "      <td>3</td>\n",
       "      <td>3</td>\n",
       "      <td>3</td>\n",
       "    </tr>\n",
       "    <tr>\n",
       "      <th>2</th>\n",
       "      <td>5.0</td>\n",
       "      <td>5.0</td>\n",
       "      <td>2.0</td>\n",
       "      <td>2.0</td>\n",
       "      <td>3.0</td>\n",
       "      <td>4.0</td>\n",
       "      <td>5.0</td>\n",
       "      <td>3.0</td>\n",
       "      <td>5.0</td>\n",
       "      <td>3.0</td>\n",
       "      <td>...</td>\n",
       "      <td>2.0</td>\n",
       "      <td>female</td>\n",
       "      <td>right handed</td>\n",
       "      <td>secondary school</td>\n",
       "      <td>no</td>\n",
       "      <td>city</td>\n",
       "      <td>block of flats</td>\n",
       "      <td>1</td>\n",
       "      <td>3</td>\n",
       "      <td>3</td>\n",
       "    </tr>\n",
       "    <tr>\n",
       "      <th>3</th>\n",
       "      <td>5.0</td>\n",
       "      <td>3.0</td>\n",
       "      <td>2.0</td>\n",
       "      <td>1.0</td>\n",
       "      <td>1.0</td>\n",
       "      <td>1.0</td>\n",
       "      <td>1.0</td>\n",
       "      <td>2.0</td>\n",
       "      <td>2.0</td>\n",
       "      <td>1.0</td>\n",
       "      <td>...</td>\n",
       "      <td>1.0</td>\n",
       "      <td>female</td>\n",
       "      <td>right handed</td>\n",
       "      <td>college/bachelor degree</td>\n",
       "      <td>yes</td>\n",
       "      <td>city</td>\n",
       "      <td>house/bungalow</td>\n",
       "      <td>3</td>\n",
       "      <td>2</td>\n",
       "      <td>5</td>\n",
       "    </tr>\n",
       "    <tr>\n",
       "      <th>4</th>\n",
       "      <td>5.0</td>\n",
       "      <td>3.0</td>\n",
       "      <td>4.0</td>\n",
       "      <td>3.0</td>\n",
       "      <td>2.0</td>\n",
       "      <td>4.0</td>\n",
       "      <td>3.0</td>\n",
       "      <td>5.0</td>\n",
       "      <td>3.0</td>\n",
       "      <td>1.0</td>\n",
       "      <td>...</td>\n",
       "      <td>1.0</td>\n",
       "      <td>female</td>\n",
       "      <td>right handed</td>\n",
       "      <td>secondary school</td>\n",
       "      <td>no</td>\n",
       "      <td>village</td>\n",
       "      <td>house/bungalow</td>\n",
       "      <td>5</td>\n",
       "      <td>5</td>\n",
       "      <td>3</td>\n",
       "    </tr>\n",
       "  </tbody>\n",
       "</table>\n",
       "<p>5 rows × 148 columns</p>\n",
       "</div>"
      ],
      "text/plain": [
       "   music  slow_songs_or_fast_songs  dance  folk  country  classical_music  \\\n",
       "0    5.0                       3.0    2.0   1.0      2.0              2.0   \n",
       "1    4.0                       4.0    2.0   1.0      1.0              1.0   \n",
       "2    5.0                       5.0    2.0   2.0      3.0              4.0   \n",
       "3    5.0                       3.0    2.0   1.0      1.0              1.0   \n",
       "4    5.0                       3.0    4.0   3.0      2.0              4.0   \n",
       "\n",
       "   musical  pop  rock  metal_or_hardrock              ...               \\\n",
       "0      1.0  5.0   5.0                1.0              ...                \n",
       "1      2.0  3.0   5.0                4.0              ...                \n",
       "2      5.0  3.0   5.0                3.0              ...                \n",
       "3      1.0  2.0   2.0                1.0              ...                \n",
       "4      3.0  5.0   3.0                1.0              ...                \n",
       "\n",
       "   number_of_siblings  gender  left__right_handed                education  \\\n",
       "0                 1.0  female        right handed  college/bachelor degree   \n",
       "1                 2.0  female        right handed  college/bachelor degree   \n",
       "2                 2.0  female        right handed         secondary school   \n",
       "3                 1.0  female        right handed  college/bachelor degree   \n",
       "4                 1.0  female        right handed         secondary school   \n",
       "\n",
       "   only_child  village__town  house__block_of_flats  i_am_always_on_time  \\\n",
       "0          no        village         block of flats                    5   \n",
       "1          no           city         block of flats                    3   \n",
       "2          no           city         block of flats                    1   \n",
       "3         yes           city         house/bungalow                    3   \n",
       "4          no        village         house/bungalow                    5   \n",
       "\n",
       "   i_lie_to_others  i_spend_a_lot_of_time_online  \n",
       "0                1                             3  \n",
       "1                3                             3  \n",
       "2                3                             3  \n",
       "3                2                             5  \n",
       "4                5                             3  \n",
       "\n",
       "[5 rows x 148 columns]"
      ]
     },
     "execution_count": 2,
     "metadata": {},
     "output_type": "execute_result"
    }
   ],
   "source": [
    "# Load the (lightly-wrangled) data\n",
    "data = pd.read_csv('responses2.csv')\n",
    "\n",
    "# These will mess up our analysis if we keep them in the dataframe\n",
    "weight = data.pop('weight')\n",
    "height = data.pop('height')\n",
    "age = data.pop('age')\n",
    "\n",
    "# Remove extra column(s)\n",
    "for col in data.columns:\n",
    "    if 'Unnamed' in col:\n",
    "        del data[col]\n",
    "\n",
    "data.head()"
   ]
  },
  {
   "cell_type": "code",
   "execution_count": 3,
   "metadata": {
    "collapsed": false
   },
   "outputs": [
    {
     "data": {
      "text/plain": [
       "float64    131\n",
       "uint8       26\n",
       "int64        8\n",
       "dtype: int64"
      ]
     },
     "execution_count": 3,
     "metadata": {},
     "output_type": "execute_result"
    }
   ],
   "source": [
    "# Dummify the categorical variables\n",
    "\n",
    "for i in data.columns:\n",
    "    if data[i].dtype == 'O':\n",
    "        dums = pd.get_dummies(data[i])\n",
    "        dums.rename(columns=lambda x: str(i) + '_' + x, inplace=True)\n",
    "        del data[i]\n",
    "        data = pd.concat([data, dums], axis=1)\n",
    "\n",
    "# Now that everything is numerical, let's just use the median\n",
    "# for missing values.\n",
    "data.fillna(data.median(), inplace=True)\n",
    "\n",
    "data.dtypes.value_counts()"
   ]
  },
  {
   "cell_type": "markdown",
   "metadata": {},
   "source": [
    "# Determining the number of factors\n",
    "\n",
    "Just like with clustering, you typically don't know how many \"factors\" are ideal for your data. There's going to be some trial and error here.\n",
    "\n",
    "In psychology, it's widely accepted that there are 5 factors (or dimensions, if you prefer) of personality. So let's do a quick walkthrough with 5."
   ]
  },
  {
   "cell_type": "code",
   "execution_count": 4,
   "metadata": {
    "collapsed": false
   },
   "outputs": [],
   "source": [
    "from sklearn.decomposition import FactorAnalysis\n",
    "\n",
    "n_factors = 5\n",
    "\n",
    "factor = FactorAnalysis(n_components=n_factors, random_state=1).fit(data)\n",
    "\n",
    "# Stick it in a dataframe\n",
    "factors = pd.DataFrame(factor.components_, columns=data.columns).T"
   ]
  },
  {
   "cell_type": "markdown",
   "metadata": {},
   "source": [
    "# Absolute values\n",
    "\n",
    "In a factor analysis, negative scores (\"loadings\") are just as important as positive ones. So it's helps to create new columns with absolute values."
   ]
  },
  {
   "cell_type": "code",
   "execution_count": 5,
   "metadata": {
    "collapsed": false
   },
   "outputs": [
    {
     "data": {
      "text/html": [
       "<div>\n",
       "<style>\n",
       "    .dataframe thead tr:only-child th {\n",
       "        text-align: right;\n",
       "    }\n",
       "\n",
       "    .dataframe thead th {\n",
       "        text-align: left;\n",
       "    }\n",
       "\n",
       "    .dataframe tbody tr th {\n",
       "        vertical-align: top;\n",
       "    }\n",
       "</style>\n",
       "<table border=\"1\" class=\"dataframe\">\n",
       "  <thead>\n",
       "    <tr style=\"text-align: right;\">\n",
       "      <th></th>\n",
       "      <th>0</th>\n",
       "      <th>1</th>\n",
       "      <th>2</th>\n",
       "      <th>3</th>\n",
       "      <th>4</th>\n",
       "      <th>factor_0_abs</th>\n",
       "      <th>factor_1_abs</th>\n",
       "      <th>factor_2_abs</th>\n",
       "      <th>factor_3_abs</th>\n",
       "      <th>factor_4_abs</th>\n",
       "    </tr>\n",
       "  </thead>\n",
       "  <tbody>\n",
       "    <tr>\n",
       "      <th>music</th>\n",
       "      <td>-0.069289</td>\n",
       "      <td>0.069775</td>\n",
       "      <td>-0.079647</td>\n",
       "      <td>0.036091</td>\n",
       "      <td>0.090142</td>\n",
       "      <td>0.069289</td>\n",
       "      <td>0.069775</td>\n",
       "      <td>0.079647</td>\n",
       "      <td>0.036091</td>\n",
       "      <td>0.090142</td>\n",
       "    </tr>\n",
       "    <tr>\n",
       "      <th>slow_songs_or_fast_songs</th>\n",
       "      <td>0.069043</td>\n",
       "      <td>-0.057569</td>\n",
       "      <td>-0.152157</td>\n",
       "      <td>0.073751</td>\n",
       "      <td>-0.039089</td>\n",
       "      <td>0.069043</td>\n",
       "      <td>0.057569</td>\n",
       "      <td>0.152157</td>\n",
       "      <td>0.073751</td>\n",
       "      <td>0.039089</td>\n",
       "    </tr>\n",
       "    <tr>\n",
       "      <th>dance</th>\n",
       "      <td>-0.052491</td>\n",
       "      <td>0.050287</td>\n",
       "      <td>-0.477107</td>\n",
       "      <td>-0.178482</td>\n",
       "      <td>-0.045520</td>\n",
       "      <td>0.052491</td>\n",
       "      <td>0.050287</td>\n",
       "      <td>0.477107</td>\n",
       "      <td>0.178482</td>\n",
       "      <td>0.045520</td>\n",
       "    </tr>\n",
       "    <tr>\n",
       "      <th>folk</th>\n",
       "      <td>-0.051890</td>\n",
       "      <td>0.491406</td>\n",
       "      <td>0.147621</td>\n",
       "      <td>-0.133936</td>\n",
       "      <td>-0.029970</td>\n",
       "      <td>0.051890</td>\n",
       "      <td>0.491406</td>\n",
       "      <td>0.147621</td>\n",
       "      <td>0.133936</td>\n",
       "      <td>0.029970</td>\n",
       "    </tr>\n",
       "    <tr>\n",
       "      <th>country</th>\n",
       "      <td>0.081322</td>\n",
       "      <td>0.362444</td>\n",
       "      <td>0.116771</td>\n",
       "      <td>-0.048368</td>\n",
       "      <td>0.006489</td>\n",
       "      <td>0.081322</td>\n",
       "      <td>0.362444</td>\n",
       "      <td>0.116771</td>\n",
       "      <td>0.048368</td>\n",
       "      <td>0.006489</td>\n",
       "    </tr>\n",
       "  </tbody>\n",
       "</table>\n",
       "</div>"
      ],
      "text/plain": [
       "                                 0         1         2         3         4  \\\n",
       "music                    -0.069289  0.069775 -0.079647  0.036091  0.090142   \n",
       "slow_songs_or_fast_songs  0.069043 -0.057569 -0.152157  0.073751 -0.039089   \n",
       "dance                    -0.052491  0.050287 -0.477107 -0.178482 -0.045520   \n",
       "folk                     -0.051890  0.491406  0.147621 -0.133936 -0.029970   \n",
       "country                   0.081322  0.362444  0.116771 -0.048368  0.006489   \n",
       "\n",
       "                          factor_0_abs  factor_1_abs  factor_2_abs  \\\n",
       "music                         0.069289      0.069775      0.079647   \n",
       "slow_songs_or_fast_songs      0.069043      0.057569      0.152157   \n",
       "dance                         0.052491      0.050287      0.477107   \n",
       "folk                          0.051890      0.491406      0.147621   \n",
       "country                       0.081322      0.362444      0.116771   \n",
       "\n",
       "                          factor_3_abs  factor_4_abs  \n",
       "music                         0.036091      0.090142  \n",
       "slow_songs_or_fast_songs      0.073751      0.039089  \n",
       "dance                         0.178482      0.045520  \n",
       "folk                          0.133936      0.029970  \n",
       "country                       0.048368      0.006489  "
      ]
     },
     "execution_count": 5,
     "metadata": {},
     "output_type": "execute_result"
    }
   ],
   "source": [
    "# Loop through and create absolute correlations\n",
    "for i in range(n_factors):\n",
    "    factors['factor_' + str(i) + '_abs'] = np.abs(factors[i])\n",
    "\n",
    "factors.head()"
   ]
  },
  {
   "cell_type": "markdown",
   "metadata": {},
   "source": [
    "# ___\n",
    "Now we can see how each factor clustered its features."
   ]
  },
  {
   "cell_type": "code",
   "execution_count": 6,
   "metadata": {
    "collapsed": false
   },
   "outputs": [
    {
     "data": {
      "text/html": [
       "<div>\n",
       "<style>\n",
       "    .dataframe thead tr:only-child th {\n",
       "        text-align: right;\n",
       "    }\n",
       "\n",
       "    .dataframe thead th {\n",
       "        text-align: left;\n",
       "    }\n",
       "\n",
       "    .dataframe tbody tr th {\n",
       "        vertical-align: top;\n",
       "    }\n",
       "</style>\n",
       "<table border=\"1\" class=\"dataframe\">\n",
       "  <thead>\n",
       "    <tr style=\"text-align: right;\">\n",
       "      <th></th>\n",
       "      <th>0</th>\n",
       "    </tr>\n",
       "  </thead>\n",
       "  <tbody>\n",
       "    <tr>\n",
       "      <th>i_cry_when_i_feel_down_or_things_dont_go_the_right_way</th>\n",
       "      <td>-0.790265</td>\n",
       "    </tr>\n",
       "    <tr>\n",
       "      <th>cars</th>\n",
       "      <td>0.635572</td>\n",
       "    </tr>\n",
       "    <tr>\n",
       "      <th>pc</th>\n",
       "      <td>0.613949</td>\n",
       "    </tr>\n",
       "    <tr>\n",
       "      <th>war</th>\n",
       "      <td>0.560328</td>\n",
       "    </tr>\n",
       "    <tr>\n",
       "      <th>reading</th>\n",
       "      <td>-0.550274</td>\n",
       "    </tr>\n",
       "    <tr>\n",
       "      <th>romantic</th>\n",
       "      <td>-0.540305</td>\n",
       "    </tr>\n",
       "    <tr>\n",
       "      <th>phobia_spiders</th>\n",
       "      <td>-0.522057</td>\n",
       "    </tr>\n",
       "    <tr>\n",
       "      <th>action</th>\n",
       "      <td>0.510107</td>\n",
       "    </tr>\n",
       "    <tr>\n",
       "      <th>shopping</th>\n",
       "      <td>-0.507094</td>\n",
       "    </tr>\n",
       "    <tr>\n",
       "      <th>gender_female</th>\n",
       "      <td>-0.488925</td>\n",
       "    </tr>\n",
       "  </tbody>\n",
       "</table>\n",
       "</div>"
      ],
      "text/plain": [
       "                                                           0\n",
       "i_cry_when_i_feel_down_or_things_dont_go_the_ri... -0.790265\n",
       "cars                                                0.635572\n",
       "pc                                                  0.613949\n",
       "war                                                 0.560328\n",
       "reading                                            -0.550274\n",
       "romantic                                           -0.540305\n",
       "phobia_spiders                                     -0.522057\n",
       "action                                              0.510107\n",
       "shopping                                           -0.507094\n",
       "gender_female                                      -0.488925"
      ]
     },
     "execution_count": 6,
     "metadata": {},
     "output_type": "execute_result"
    }
   ],
   "source": [
    "factors.sort_values('factor_0_abs', ascending=False)[[0]].head(10)"
   ]
  },
  {
   "cell_type": "markdown",
   "metadata": {},
   "source": [
    "I'd call this factor \"masculinity,\" for better or worse. We see the qualities of people who score high in this factor:\n",
    "\n",
    "- They're not comfortable crying when they're upset.\n",
    "- They like cars, computers, and war(?!).\n",
    "- They don't like reading.\n",
    "- They're not romantic.\n",
    "- They're not afraid of spiders.\n",
    "- They like action movies.\n",
    "- They don't like shopping.\n",
    "- They're... umm... not female."
   ]
  },
  {
   "cell_type": "code",
   "execution_count": 7,
   "metadata": {
    "collapsed": false
   },
   "outputs": [
    {
     "data": {
      "text/html": [
       "<div>\n",
       "<style>\n",
       "    .dataframe thead tr:only-child th {\n",
       "        text-align: right;\n",
       "    }\n",
       "\n",
       "    .dataframe thead th {\n",
       "        text-align: left;\n",
       "    }\n",
       "\n",
       "    .dataframe tbody tr th {\n",
       "        vertical-align: top;\n",
       "    }\n",
       "</style>\n",
       "<table border=\"1\" class=\"dataframe\">\n",
       "  <thead>\n",
       "    <tr style=\"text-align: right;\">\n",
       "      <th></th>\n",
       "      <th>1</th>\n",
       "    </tr>\n",
       "  </thead>\n",
       "  <tbody>\n",
       "    <tr>\n",
       "      <th>classical_music</th>\n",
       "      <td>0.718513</td>\n",
       "    </tr>\n",
       "    <tr>\n",
       "      <th>opera</th>\n",
       "      <td>0.647939</td>\n",
       "    </tr>\n",
       "    <tr>\n",
       "      <th>art_exhibitions</th>\n",
       "      <td>0.647370</td>\n",
       "    </tr>\n",
       "    <tr>\n",
       "      <th>musical_instruments</th>\n",
       "      <td>0.634725</td>\n",
       "    </tr>\n",
       "    <tr>\n",
       "      <th>swing_jazz</th>\n",
       "      <td>0.627336</td>\n",
       "    </tr>\n",
       "    <tr>\n",
       "      <th>theatre</th>\n",
       "      <td>0.606226</td>\n",
       "    </tr>\n",
       "    <tr>\n",
       "      <th>reading</th>\n",
       "      <td>0.587846</td>\n",
       "    </tr>\n",
       "    <tr>\n",
       "      <th>religion</th>\n",
       "      <td>0.553330</td>\n",
       "    </tr>\n",
       "    <tr>\n",
       "      <th>history</th>\n",
       "      <td>0.525101</td>\n",
       "    </tr>\n",
       "    <tr>\n",
       "      <th>medicine</th>\n",
       "      <td>0.521877</td>\n",
       "    </tr>\n",
       "  </tbody>\n",
       "</table>\n",
       "</div>"
      ],
      "text/plain": [
       "                            1\n",
       "classical_music      0.718513\n",
       "opera                0.647939\n",
       "art_exhibitions      0.647370\n",
       "musical_instruments  0.634725\n",
       "swing_jazz           0.627336\n",
       "theatre              0.606226\n",
       "reading              0.587846\n",
       "religion             0.553330\n",
       "history              0.525101\n",
       "medicine             0.521877"
      ]
     },
     "execution_count": 7,
     "metadata": {},
     "output_type": "execute_result"
    }
   ],
   "source": [
    "factors.sort_values('factor_1_abs', ascending=False)[[1]].head(10)"
   ]
  },
  {
   "cell_type": "markdown",
   "metadata": {},
   "source": [
    "This happens to be a personality trait we call [**openness to experience**](https://en.wikipedia.org/wiki/Openness_to_experience)! People who score high in this trait like art, philosophy, culture, learning new things, and questioning the status quo. People who score low in this trait are conventional and old-fashioned."
   ]
  },
  {
   "cell_type": "code",
   "execution_count": 8,
   "metadata": {
    "collapsed": false
   },
   "outputs": [
    {
     "data": {
      "text/html": [
       "<div>\n",
       "<style>\n",
       "    .dataframe thead tr:only-child th {\n",
       "        text-align: right;\n",
       "    }\n",
       "\n",
       "    .dataframe thead th {\n",
       "        text-align: left;\n",
       "    }\n",
       "\n",
       "    .dataframe tbody tr th {\n",
       "        vertical-align: top;\n",
       "    }\n",
       "</style>\n",
       "<table border=\"1\" class=\"dataframe\">\n",
       "  <thead>\n",
       "    <tr style=\"text-align: right;\">\n",
       "      <th></th>\n",
       "      <th>2</th>\n",
       "    </tr>\n",
       "  </thead>\n",
       "  <tbody>\n",
       "    <tr>\n",
       "      <th>i_spend_a_lot_of_money_on_my_appearance</th>\n",
       "      <td>-0.712287</td>\n",
       "    </tr>\n",
       "    <tr>\n",
       "      <th>i_enjoy_going_to_large_shopping_centres</th>\n",
       "      <td>-0.683669</td>\n",
       "    </tr>\n",
       "    <tr>\n",
       "      <th>shopping</th>\n",
       "      <td>-0.680718</td>\n",
       "    </tr>\n",
       "    <tr>\n",
       "      <th>hiphop_rap</th>\n",
       "      <td>-0.637750</td>\n",
       "    </tr>\n",
       "    <tr>\n",
       "      <th>i_prefer_branded_clothing_to_non_branded</th>\n",
       "      <td>-0.573938</td>\n",
       "    </tr>\n",
       "    <tr>\n",
       "      <th>i_have_lots_of_friends</th>\n",
       "      <td>-0.505963</td>\n",
       "    </tr>\n",
       "    <tr>\n",
       "      <th>adrenaline_sports</th>\n",
       "      <td>-0.502618</td>\n",
       "    </tr>\n",
       "    <tr>\n",
       "      <th>active_sport</th>\n",
       "      <td>-0.498756</td>\n",
       "    </tr>\n",
       "    <tr>\n",
       "      <th>i_am_always_full_of_life_and_energy</th>\n",
       "      <td>-0.490226</td>\n",
       "    </tr>\n",
       "    <tr>\n",
       "      <th>dance</th>\n",
       "      <td>-0.477107</td>\n",
       "    </tr>\n",
       "  </tbody>\n",
       "</table>\n",
       "</div>"
      ],
      "text/plain": [
       "                                                 2\n",
       "i_spend_a_lot_of_money_on_my_appearance  -0.712287\n",
       "i_enjoy_going_to_large_shopping_centres  -0.683669\n",
       "shopping                                 -0.680718\n",
       "hiphop_rap                               -0.637750\n",
       "i_prefer_branded_clothing_to_non_branded -0.573938\n",
       "i_have_lots_of_friends                   -0.505963\n",
       "adrenaline_sports                        -0.502618\n",
       "active_sport                             -0.498756\n",
       "i_am_always_full_of_life_and_energy      -0.490226\n",
       "dance                                    -0.477107"
      ]
     },
     "execution_count": 8,
     "metadata": {},
     "output_type": "execute_result"
    }
   ],
   "source": [
    "factors.sort_values('factor_2_abs', ascending=False)[[2]].head(10)"
   ]
  },
  {
   "cell_type": "markdown",
   "metadata": {},
   "source": [
    "It might not be obvious, but this is actually measuring how introverted you are! A perhaps little-known fact about extraverts is that they like to go shopping more than introverts do.\n",
    "\n",
    "This, combined with the fact that this factor is measuring how many friends you have, how much attention you like getting, and how energetic you are, makes me confident that our factor analysis has discovered the personality scale of extraversion/introversion."
   ]
  },
  {
   "cell_type": "code",
   "execution_count": 9,
   "metadata": {
    "collapsed": false
   },
   "outputs": [
    {
     "data": {
      "text/html": [
       "<div>\n",
       "<style>\n",
       "    .dataframe thead tr:only-child th {\n",
       "        text-align: right;\n",
       "    }\n",
       "\n",
       "    .dataframe thead th {\n",
       "        text-align: left;\n",
       "    }\n",
       "\n",
       "    .dataframe tbody tr th {\n",
       "        vertical-align: top;\n",
       "    }\n",
       "</style>\n",
       "<table border=\"1\" class=\"dataframe\">\n",
       "  <thead>\n",
       "    <tr style=\"text-align: right;\">\n",
       "      <th></th>\n",
       "      <th>3</th>\n",
       "    </tr>\n",
       "  </thead>\n",
       "  <tbody>\n",
       "    <tr>\n",
       "      <th>phobia_dangerous_dogs</th>\n",
       "      <td>-0.549490</td>\n",
       "    </tr>\n",
       "    <tr>\n",
       "      <th>phobia_snakes</th>\n",
       "      <td>-0.535865</td>\n",
       "    </tr>\n",
       "    <tr>\n",
       "      <th>phobia_rats</th>\n",
       "      <td>-0.466462</td>\n",
       "    </tr>\n",
       "    <tr>\n",
       "      <th>i_have_to_be_well_prepared_before_public_speaking</th>\n",
       "      <td>-0.442625</td>\n",
       "    </tr>\n",
       "    <tr>\n",
       "      <th>i_worry_about_my_health</th>\n",
       "      <td>-0.429908</td>\n",
       "    </tr>\n",
       "    <tr>\n",
       "      <th>i_prefer_big_dangerous_dogs_to_smaller_calmer_dogs</th>\n",
       "      <td>0.421149</td>\n",
       "    </tr>\n",
       "    <tr>\n",
       "      <th>i_take_my_time_to_make_decisions</th>\n",
       "      <td>-0.394376</td>\n",
       "    </tr>\n",
       "    <tr>\n",
       "      <th>metal_or_hardrock</th>\n",
       "      <td>0.382017</td>\n",
       "    </tr>\n",
       "    <tr>\n",
       "      <th>adrenaline_sports</th>\n",
       "      <td>0.382013</td>\n",
       "    </tr>\n",
       "    <tr>\n",
       "      <th>phobia_flying</th>\n",
       "      <td>-0.380886</td>\n",
       "    </tr>\n",
       "  </tbody>\n",
       "</table>\n",
       "</div>"
      ],
      "text/plain": [
       "                                                           3\n",
       "phobia_dangerous_dogs                              -0.549490\n",
       "phobia_snakes                                      -0.535865\n",
       "phobia_rats                                        -0.466462\n",
       "i_have_to_be_well_prepared_before_public_speaking  -0.442625\n",
       "i_worry_about_my_health                            -0.429908\n",
       "i_prefer_big_dangerous_dogs_to_smaller_calmer_dogs  0.421149\n",
       "i_take_my_time_to_make_decisions                   -0.394376\n",
       "metal_or_hardrock                                   0.382017\n",
       "adrenaline_sports                                   0.382013\n",
       "phobia_flying                                      -0.380886"
      ]
     },
     "execution_count": 9,
     "metadata": {},
     "output_type": "execute_result"
    }
   ],
   "source": [
    "factors.sort_values('factor_3_abs', ascending=False)[[3]].head(10)"
   ]
  },
  {
   "cell_type": "markdown",
   "metadata": {},
   "source": [
    "Again, our factor analysis has uncovered a well-known personality trait: [**neuroticism**](https://en.wikipedia.org/wiki/Neuroticism), which is characterized by worrying, depression, shyness, and other negative emotions. More accurately, we discovered the inverse of neuroticism: emotional stability.\n",
    "\n",
    "People who score high on this factor are not afraid of:\n",
    "- Dogs\n",
    "- Snakes\n",
    "- Rats\n",
    "- Public speaking\n",
    "- Their health\n",
    "- Extreme sports\n",
    "- Flying\n",
    "\n",
    "Surprisingly, they're not afraid of heavy metal either."
   ]
  },
  {
   "cell_type": "code",
   "execution_count": 10,
   "metadata": {
    "collapsed": false
   },
   "outputs": [
    {
     "data": {
      "text/html": [
       "<div>\n",
       "<style>\n",
       "    .dataframe thead tr:only-child th {\n",
       "        text-align: right;\n",
       "    }\n",
       "\n",
       "    .dataframe thead th {\n",
       "        text-align: left;\n",
       "    }\n",
       "\n",
       "    .dataframe tbody tr th {\n",
       "        vertical-align: top;\n",
       "    }\n",
       "</style>\n",
       "<table border=\"1\" class=\"dataframe\">\n",
       "  <thead>\n",
       "    <tr style=\"text-align: right;\">\n",
       "      <th></th>\n",
       "      <th>4</th>\n",
       "    </tr>\n",
       "  </thead>\n",
       "  <tbody>\n",
       "    <tr>\n",
       "      <th>i_wish_i_could_change_the_past_because_of_the_things_i_have_done</th>\n",
       "      <td>0.441551</td>\n",
       "    </tr>\n",
       "    <tr>\n",
       "      <th>i_feel_lonely_in_life</th>\n",
       "      <td>0.421935</td>\n",
       "    </tr>\n",
       "    <tr>\n",
       "      <th>i_am_always_on_time</th>\n",
       "      <td>-0.415737</td>\n",
       "    </tr>\n",
       "    <tr>\n",
       "      <th>phobia_aging</th>\n",
       "      <td>0.390074</td>\n",
       "    </tr>\n",
       "    <tr>\n",
       "      <th>alternative</th>\n",
       "      <td>0.382044</td>\n",
       "    </tr>\n",
       "    <tr>\n",
       "      <th>i_find_it_very_difficult_to_get_up_in_the_morning</th>\n",
       "      <td>0.381576</td>\n",
       "    </tr>\n",
       "    <tr>\n",
       "      <th>i_have_damaged_things_in_the_past_when_angry</th>\n",
       "      <td>0.369180</td>\n",
       "    </tr>\n",
       "    <tr>\n",
       "      <th>i_can_fall_for_someone_very_quickly_and_then_completely_lose_interest</th>\n",
       "      <td>0.323242</td>\n",
       "    </tr>\n",
       "    <tr>\n",
       "      <th>i_am_always_full_of_life_and_energy</th>\n",
       "      <td>-0.320402</td>\n",
       "    </tr>\n",
       "    <tr>\n",
       "      <th>i_spend_a_lot_of_money_on_my_appearance</th>\n",
       "      <td>0.319880</td>\n",
       "    </tr>\n",
       "  </tbody>\n",
       "</table>\n",
       "</div>"
      ],
      "text/plain": [
       "                                                           4\n",
       "i_wish_i_could_change_the_past_because_of_the_t...  0.441551\n",
       "i_feel_lonely_in_life                               0.421935\n",
       "i_am_always_on_time                                -0.415737\n",
       "phobia_aging                                        0.390074\n",
       "alternative                                         0.382044\n",
       "i_find_it_very_difficult_to_get_up_in_the_morning   0.381576\n",
       "i_have_damaged_things_in_the_past_when_angry        0.369180\n",
       "i_can_fall_for_someone_very_quickly_and_then_co...  0.323242\n",
       "i_am_always_full_of_life_and_energy                -0.320402\n",
       "i_spend_a_lot_of_money_on_my_appearance             0.319880"
      ]
     },
     "execution_count": 10,
     "metadata": {},
     "output_type": "execute_result"
    }
   ],
   "source": [
    "factors.sort_values('factor_4_abs', ascending=False)[[4]].head(10)"
   ]
  },
  {
   "cell_type": "markdown",
   "metadata": {},
   "source": [
    "Notice these loadings aren't as high as, say, factors 1 or 2. This, combined with the fact we seem to be seeing questions that measure **neuroticism** again, means that 5 factors probably isn't ideal for this dataset. (This is probably because it discovered masculinity as a personality trait, when it's really more of a gender/cultural phenomenon.)\n",
    "\n",
    "Now let's look at how we can determine the right number of factors..."
   ]
  },
  {
   "cell_type": "markdown",
   "metadata": {},
   "source": [
    "# How many factors should we use?\n",
    "\n",
    "I know of two ways to do this.\n",
    "\n",
    "This first method is based more on logic and intuition than any rigorous mathematical formula."
   ]
  },
  {
   "cell_type": "code",
   "execution_count": 11,
   "metadata": {
    "collapsed": false
   },
   "outputs": [
    {
     "name": "stdout",
     "output_type": "stream",
     "text": [
      "2 0.18338940507401466\n",
      "3 0.1861102601907512\n",
      "4 0.18036507597042736\n",
      "5 0.1754004243311831\n",
      "6 0.17229366846403377\n",
      "7 0.17081622266627164\n",
      "8 0.17535749296503964\n",
      "9 0.1734901975094079\n",
      "10 0.19903759312187663\n",
      "11 0.19880251137431298\n",
      "12 0.19798946895771272\n",
      "13 0.19453267242225716\n",
      "14 0.19236133964187488\n",
      "15 0.1931380975002367\n",
      "16 0.19208477774110586\n",
      "17 0.19368949876619157\n",
      "18 0.1924418911556603\n",
      "19 0.18980735703996554\n"
     ]
    }
   ],
   "source": [
    "# We're going to test a range of factors from 2 to 20.\n",
    "for i in range(2,20):\n",
    "    \n",
    "    # Fit to \"i\" factors\n",
    "    factor = FactorAnalysis(n_components=i, random_state=1).fit(data)\n",
    "    \n",
    "    # Put it in a dataframe\n",
    "    factors = pd.DataFrame(factor.components_,columns=data.columns)\n",
    "    \n",
    "    # See below; these next 2 lines are the tricky part.\n",
    "    factors = np.abs(factors) # (1)\n",
    "    print(i, factors.max().std()) # (2, 3)"
   ]
  },
  {
   "cell_type": "markdown",
   "metadata": {},
   "source": [
    "The idea is that we want to look at:\n",
    "    \n",
    "1. The absolute values, since negative numbers are just as relevant.\n",
    "2. The maximum value for each factor -- `.max()` -- to see how strong it is overall.\n",
    "3. How similar the max scores are: `.std()`. If some max scores are high and others are low, then the factors aren't effectively segregating the features.\n",
    "\n",
    "From this, it would appear that the ideal number of factors is **7** (which seems reasonable). \n",
    "\n",
    "___\n",
    "\n",
    "Method 2 uses some guidelines developed by other statisticians.\n",
    "\n",
    "Guadagnoli & Velicer (1988) consider a factor to be reliable if it has 4 or more loadings of at least 0.6, regardless of the sample size. Meanwhile, MacCallum et al. (1999, 2001) assert that I could go as low as 0.3 with the current sample size I have.\n",
    "\n",
    "Since 0.6 doesn't give good results with this dataset, I'll settle on 0.4 instead. The code below starts at 20 factors, and counts how many items would have a loading of 0.4 or higher. Then it iterates downward until it finds the maximum number of factors that gives us the desired results."
   ]
  },
  {
   "cell_type": "code",
   "execution_count": 12,
   "metadata": {
    "collapsed": false
   },
   "outputs": [
    {
     "name": "stdout",
     "output_type": "stream",
     "text": [
      "5 works!\n"
     ]
    }
   ],
   "source": [
    "for n in range(20,2,-1):\n",
    "    data = data.select_dtypes(include=[np.number])\n",
    "    factor = FactorAnalysis(n_components=n, random_state=1).fit(data)\n",
    "\n",
    "    # Stick it in a dataframe\n",
    "    factors = pd.DataFrame(factor.components_, columns=data.columns).T\n",
    "\n",
    "    col_names = []\n",
    "    for i in range(n):\n",
    "        # We'll need non-zero factor values for our next\n",
    "        # step, so we'll start counting at 1\n",
    "        col_names.append('factor_' + str(i + 1))\n",
    "\n",
    "    factors.columns = col_names\n",
    "\n",
    "    data_new = pd.DataFrame()\n",
    "    items = []\n",
    "    for i in col_names:\n",
    "        for k, v in zip(factors[i].index, factors[i]):\n",
    "            if np.abs(v) > 0.3: # factor loading\n",
    "                items.append((i,k,v))\n",
    "    \n",
    "    # This effectively counts the number of items in\n",
    "    # each factor. 4 or more should make the factor reliable. \n",
    "    items = pd.DataFrame(items)\n",
    "    group = items.groupby(0).count()\n",
    "    if len(group[group >= 4].dropna()) == n:\n",
    "        print(n, 'works!')\n",
    "        break"
   ]
  },
  {
   "cell_type": "markdown",
   "metadata": {},
   "source": [
    "It turns out this method still likes 5 factors. But since we've done that already, let's analyze the data with **7 factors**."
   ]
  },
  {
   "cell_type": "code",
   "execution_count": 13,
   "metadata": {
    "collapsed": false
   },
   "outputs": [],
   "source": [
    "n_comp = 7\n",
    "\n",
    "factor = FactorAnalysis(n_components=n_comp, random_state=1).fit(data)\n",
    "\n",
    "# Stick it in a dataframe\n",
    "factors = pd.DataFrame(factor.components_,columns=data.columns).T\n",
    "\n",
    "col_names = []\n",
    "for i in range(n_comp):\n",
    "    # We'll need non-zero factor values for our next\n",
    "    # step, so we'll start counting at 1\n",
    "    col_names.append('factor_' + str(i + 1))\n",
    "    \n",
    "factors.columns = col_names\n",
    "\n",
    "data_new = pd.DataFrame()\n",
    "items = []\n",
    "for i in col_names:\n",
    "    for k, v in zip(factors[i].index, factors[i]):\n",
    "        if np.abs(v) > .4:\n",
    "            items.append((i,k,v))"
   ]
  },
  {
   "cell_type": "markdown",
   "metadata": {},
   "source": [
    "Now we have an array of questions, their corresponding factors, and their loadings. It's pretty simple to iterate over them and separate the positive and negative loadings."
   ]
  },
  {
   "cell_type": "code",
   "execution_count": 14,
   "metadata": {
    "collapsed": true
   },
   "outputs": [],
   "source": [
    "from collections import defaultdict\n",
    "\n",
    "factor_dict = defaultdict(list)\n",
    "\n",
    "for i,k,v in items:\n",
    "    if v > 0:\n",
    "        factor_dict['+ ' + i].append(k)\n",
    "    elif v < 0:\n",
    "        factor_dict['- ' + i].append(k)"
   ]
  },
  {
   "cell_type": "code",
   "execution_count": 15,
   "metadata": {
    "collapsed": false
   },
   "outputs": [
    {
     "name": "stdout",
     "output_type": "stream",
     "text": [
      "Factor 1\n",
      "Positive:\n",
      "['village__town_village']\n",
      "\n",
      "Negative:\n",
      "['village__town_city']\n"
     ]
    }
   ],
   "source": [
    "def print_factor(n):\n",
    "    print('Factor {}'.format(str(n)))\n",
    "    print('Positive:')\n",
    "    print(factor_dict['+ factor_' + str(n)])\n",
    "    print('\\nNegative:')\n",
    "    print(factor_dict['- factor_' + str(n)])\n",
    "    \n",
    "print_factor(1)"
   ]
  },
  {
   "cell_type": "markdown",
   "metadata": {},
   "source": [
    "**Where they grew up**."
   ]
  },
  {
   "cell_type": "code",
   "execution_count": 16,
   "metadata": {
    "collapsed": false
   },
   "outputs": [
    {
     "name": "stdout",
     "output_type": "stream",
     "text": [
      "Factor 2\n",
      "Positive:\n",
      "['scifi', 'war', 'western', 'action', 'pc', 'cars', 'science_and_technology', 'gender_male']\n",
      "\n",
      "Negative:\n",
      "['romantic', 'reading', 'dancing', 'shopping', 'theatre', 'phobia_darkness', 'phobia_spiders', 'i_cry_when_i_feel_down_or_things_dont_go_the_right_way', 'gender_female']\n"
     ]
    }
   ],
   "source": [
    "print_factor(2)"
   ]
  },
  {
   "cell_type": "markdown",
   "metadata": {},
   "source": [
    "**Masculinity**."
   ]
  },
  {
   "cell_type": "code",
   "execution_count": 17,
   "metadata": {
    "collapsed": false
   },
   "outputs": [
    {
     "name": "stdout",
     "output_type": "stream",
     "text": [
      "Factor 3\n",
      "Positive:\n",
      "['folk', 'classical_music', 'musical', 'swing_jazz', 'rock_n_roll', 'alternative', 'latino', 'opera', 'documentary', 'history', 'psychology', 'physics', 'biology', 'reading', 'geography', 'medicine', 'art_exhibitions', 'religion', 'countryside_outdoors', 'dancing', 'musical_instruments', 'writing', 'science_and_technology', 'theatre', 'i_often_study_or_work_even_in_my_spare_time', 'i_always_try_to_vote_in_elections', 'i_have_many_different_hobbies_and_interests']\n",
      "\n",
      "Negative:\n",
      "[]\n"
     ]
    }
   ],
   "source": [
    "print_factor(3)"
   ]
  },
  {
   "cell_type": "markdown",
   "metadata": {},
   "source": [
    "[**Openness to experience**](https://en.wikipedia.org/wiki/Openness_to_experience)."
   ]
  },
  {
   "cell_type": "code",
   "execution_count": 18,
   "metadata": {
    "collapsed": false
   },
   "outputs": [
    {
     "name": "stdout",
     "output_type": "stream",
     "text": [
      "Factor 4\n",
      "Positive:\n",
      "['metal_or_hardrock']\n",
      "\n",
      "Negative:\n",
      "['dance', 'hiphop_rap', 'cars', 'dancing', 'active_sport', 'celebrities', 'shopping', 'adrenaline_sports', 'i_have_lots_of_friends', 'i_enjoy_meeting_new_people', 'i_always_make_sure_i_connect_with_the_right_people', 'i_am_always_full_of_life_and_energy', 'i_enjoy_going_to_large_shopping_centres', 'i_prefer_branded_clothing_to_non_branded', 'i_spend_a_lot_of_money_on_partying_and_socializing', 'i_spend_a_lot_of_money_on_my_appearance', 'i_spend_a_lot_of_money_on_gadgets']\n"
     ]
    }
   ],
   "source": [
    "print_factor(4)"
   ]
  },
  {
   "cell_type": "markdown",
   "metadata": {},
   "source": [
    "**Introversion**. (Interesting how heavy metal had such a strong loading.)"
   ]
  },
  {
   "cell_type": "code",
   "execution_count": 19,
   "metadata": {
    "collapsed": false
   },
   "outputs": [
    {
     "name": "stdout",
     "output_type": "stream",
     "text": [
      "Factor 5\n",
      "Positive:\n",
      "['adrenaline_sports', 'i_prefer_big_dangerous_dogs_to_smaller_calmer_dogs']\n",
      "\n",
      "Negative:\n",
      "['phobia_snakes', 'phobia_rats', 'phobia_dangerous_dogs', 'i_always_make_a_list_so_i_dont_forget_anything', 'i_take_my_time_to_make_decisions', 'i_worry_about_my_health', 'i_have_to_be_well_prepared_before_public_speaking']\n"
     ]
    }
   ],
   "source": [
    "print_factor(5)"
   ]
  },
  {
   "cell_type": "markdown",
   "metadata": {},
   "source": [
    "**Emotional stability**."
   ]
  },
  {
   "cell_type": "code",
   "execution_count": 20,
   "metadata": {
    "collapsed": false
   },
   "outputs": [
    {
     "name": "stdout",
     "output_type": "stream",
     "text": [
      "Factor 6\n",
      "Positive:\n",
      "['alternative', 'i_wish_i_could_change_the_past_because_of_the_things_i_have_done', 'i_find_it_very_difficult_to_get_up_in_the_morning']\n",
      "\n",
      "Negative:\n",
      "['i_am_always_on_time']\n"
     ]
    }
   ],
   "source": [
    "print_factor(6)"
   ]
  },
  {
   "cell_type": "markdown",
   "metadata": {},
   "source": [
    "I would call this **impulsiveness**, which is the opposite of [conscientiousness](https://en.wikipedia.org/wiki/Conscientiousness)."
   ]
  },
  {
   "cell_type": "code",
   "execution_count": 21,
   "metadata": {
    "collapsed": false
   },
   "outputs": [
    {
     "name": "stdout",
     "output_type": "stream",
     "text": [
      "Factor 7\n",
      "Positive:\n",
      "[]\n",
      "\n",
      "Negative:\n",
      "['pc']\n"
     ]
    }
   ],
   "source": [
    "print_factor(7)"
   ]
  },
  {
   "cell_type": "markdown",
   "metadata": {},
   "source": [
    "Hmmm... it's how much you like **computers**.\n",
    "\n",
    "Now we can see why 7 factors isn't quite perfect either. I'll exercise my own judgment and do the remaining analysis with **6 factors**."
   ]
  },
  {
   "cell_type": "markdown",
   "metadata": {},
   "source": [
    "# Clustering the questions"
   ]
  },
  {
   "cell_type": "code",
   "execution_count": 22,
   "metadata": {
    "collapsed": false
   },
   "outputs": [],
   "source": [
    "n_comp = 6\n",
    "\n",
    "factor = FactorAnalysis(n_components=n_comp, random_state=1).fit(data)\n",
    "\n",
    "# Stick it in a dataframe\n",
    "factors = pd.DataFrame(factor.components_,columns=data.columns).T\n",
    "\n",
    "col_names = []\n",
    "for i in range(n_comp):\n",
    "    col_names.append('factor_' + str(i + 1))\n",
    "factors.columns = col_names\n",
    "\n",
    "items = []\n",
    "for i in col_names:\n",
    "    for k, v in zip(factors[i].index, factors[i]):\n",
    "        if np.abs(v) > .4:\n",
    "            items.append((i,k,v))\n",
    "            \n",
    "factor_dict = defaultdict(list)\n",
    "\n",
    "for i,k,v in items:\n",
    "    if v > 0:\n",
    "        factor_dict['+ ' + i].append(k)\n",
    "    elif v < 0:\n",
    "        factor_dict['- ' + i].append(k)"
   ]
  },
  {
   "cell_type": "code",
   "execution_count": 23,
   "metadata": {
    "collapsed": false
   },
   "outputs": [
    {
     "data": {
      "text/html": [
       "<div>\n",
       "<style>\n",
       "    .dataframe thead tr:only-child th {\n",
       "        text-align: right;\n",
       "    }\n",
       "\n",
       "    .dataframe thead th {\n",
       "        text-align: left;\n",
       "    }\n",
       "\n",
       "    .dataframe tbody tr th {\n",
       "        vertical-align: top;\n",
       "    }\n",
       "</style>\n",
       "<table border=\"1\" class=\"dataframe\">\n",
       "  <thead>\n",
       "    <tr style=\"text-align: right;\">\n",
       "      <th></th>\n",
       "      <th>- factor_1</th>\n",
       "      <th>+ factor_1</th>\n",
       "      <th>- factor_2</th>\n",
       "      <th>+ factor_2</th>\n",
       "      <th>+ factor_3</th>\n",
       "      <th>- factor_4</th>\n",
       "      <th>+ factor_4</th>\n",
       "      <th>+ factor_5</th>\n",
       "      <th>- factor_5</th>\n",
       "      <th>+ factor_6</th>\n",
       "      <th>- factor_6</th>\n",
       "      <th>- factor_3</th>\n",
       "    </tr>\n",
       "  </thead>\n",
       "  <tbody>\n",
       "    <tr>\n",
       "      <th>0</th>\n",
       "      <td>0.0</td>\n",
       "      <td>1.0</td>\n",
       "      <td>3.75</td>\n",
       "      <td>2.25</td>\n",
       "      <td>9.50</td>\n",
       "      <td>8.50</td>\n",
       "      <td>0.00</td>\n",
       "      <td>0.75</td>\n",
       "      <td>4.50</td>\n",
       "      <td>0.25</td>\n",
       "      <td>1.0</td>\n",
       "      <td>0</td>\n",
       "    </tr>\n",
       "    <tr>\n",
       "      <th>1</th>\n",
       "      <td>1.0</td>\n",
       "      <td>0.0</td>\n",
       "      <td>3.00</td>\n",
       "      <td>3.00</td>\n",
       "      <td>9.00</td>\n",
       "      <td>6.75</td>\n",
       "      <td>0.75</td>\n",
       "      <td>1.25</td>\n",
       "      <td>2.50</td>\n",
       "      <td>2.50</td>\n",
       "      <td>0.5</td>\n",
       "      <td>0</td>\n",
       "    </tr>\n",
       "    <tr>\n",
       "      <th>2</th>\n",
       "      <td>1.0</td>\n",
       "      <td>0.0</td>\n",
       "      <td>5.75</td>\n",
       "      <td>1.75</td>\n",
       "      <td>17.75</td>\n",
       "      <td>8.75</td>\n",
       "      <td>0.50</td>\n",
       "      <td>1.50</td>\n",
       "      <td>2.00</td>\n",
       "      <td>2.75</td>\n",
       "      <td>0.0</td>\n",
       "      <td>0</td>\n",
       "    </tr>\n",
       "    <tr>\n",
       "      <th>3</th>\n",
       "      <td>1.0</td>\n",
       "      <td>0.0</td>\n",
       "      <td>4.75</td>\n",
       "      <td>2.00</td>\n",
       "      <td>12.75</td>\n",
       "      <td>5.75</td>\n",
       "      <td>0.00</td>\n",
       "      <td>0.00</td>\n",
       "      <td>5.75</td>\n",
       "      <td>2.00</td>\n",
       "      <td>0.5</td>\n",
       "      <td>0</td>\n",
       "    </tr>\n",
       "    <tr>\n",
       "      <th>4</th>\n",
       "      <td>0.0</td>\n",
       "      <td>1.0</td>\n",
       "      <td>3.25</td>\n",
       "      <td>3.00</td>\n",
       "      <td>12.00</td>\n",
       "      <td>8.50</td>\n",
       "      <td>0.00</td>\n",
       "      <td>0.75</td>\n",
       "      <td>3.25</td>\n",
       "      <td>1.75</td>\n",
       "      <td>1.0</td>\n",
       "      <td>0</td>\n",
       "    </tr>\n",
       "  </tbody>\n",
       "</table>\n",
       "</div>"
      ],
      "text/plain": [
       "   - factor_1  + factor_1  - factor_2  + factor_2  + factor_3  - factor_4  \\\n",
       "0         0.0         1.0        3.75        2.25        9.50        8.50   \n",
       "1         1.0         0.0        3.00        3.00        9.00        6.75   \n",
       "2         1.0         0.0        5.75        1.75       17.75        8.75   \n",
       "3         1.0         0.0        4.75        2.00       12.75        5.75   \n",
       "4         0.0         1.0        3.25        3.00       12.00        8.50   \n",
       "\n",
       "   + factor_4  + factor_5  - factor_5  + factor_6  - factor_6  - factor_3  \n",
       "0        0.00        0.75        4.50        0.25         1.0           0  \n",
       "1        0.75        1.25        2.50        2.50         0.5           0  \n",
       "2        0.50        1.50        2.00        2.75         0.0           0  \n",
       "3        0.00        0.00        5.75        2.00         0.5           0  \n",
       "4        0.00        0.75        3.25        1.75         1.0           0  "
      ]
     },
     "execution_count": 23,
     "metadata": {},
     "output_type": "execute_result"
    }
   ],
   "source": [
    "# We have to make sure each item is scored along the same scale\n",
    "from sklearn.preprocessing import MinMaxScaler\n",
    "mms = MinMaxScaler()\n",
    "cols = data.columns\n",
    "data = pd.DataFrame(mms.fit_transform(data))\n",
    "data.columns = cols\n",
    "\n",
    "factors_plus_minus = pd.DataFrame()\n",
    "for k, v in factor_dict.items():\n",
    "    factors_plus_minus[k] = data[v].sum(axis=1)\n",
    "    \n",
    "# No negative items for 3; we'll add it manually\n",
    "factors_plus_minus['- factor_3'] = 0\n",
    "\n",
    "factors_plus_minus.head()"
   ]
  },
  {
   "cell_type": "code",
   "execution_count": 24,
   "metadata": {
    "collapsed": false
   },
   "outputs": [],
   "source": [
    "# Let's scale it again, because some factors have more items than others\n",
    "cols = factors_plus_minus.columns\n",
    "factors_plus_minus = pd.DataFrame(mms.fit_transform(factors_plus_minus))\n",
    "factors_plus_minus.columns = cols"
   ]
  },
  {
   "cell_type": "code",
   "execution_count": 25,
   "metadata": {
    "collapsed": false
   },
   "outputs": [],
   "source": [
    "data_factors = pd.DataFrame()\n",
    "\n",
    "for i in range(1, n_comp+1):\n",
    "    plus_components = len(factor_dict['+ factor_' + str(i)])\n",
    "    minus_components = len(factor_dict['- factor_' + str(i)])\n",
    "    total_components = plus_components + minus_components\n",
    "    plus_pct = plus_components/total_components\n",
    "    minus_pct = minus_components/total_components\n",
    "    data_factors['factor_' + str(i)] =\\\n",
    "        (plus_pct * factors_plus_minus['+ factor_' + str(i)]) +\\\n",
    "        (minus_pct * (1 - factors_plus_minus['- factor_' + str(i)]))"
   ]
  },
  {
   "cell_type": "markdown",
   "metadata": {},
   "source": [
    "And now we have the 6 factors properly measured in a dataframe! Let's fix the column names and then take a look at the final product."
   ]
  },
  {
   "cell_type": "code",
   "execution_count": 26,
   "metadata": {
    "collapsed": false
   },
   "outputs": [
    {
     "data": {
      "text/html": [
       "<div>\n",
       "<style>\n",
       "    .dataframe thead tr:only-child th {\n",
       "        text-align: right;\n",
       "    }\n",
       "\n",
       "    .dataframe thead th {\n",
       "        text-align: left;\n",
       "    }\n",
       "\n",
       "    .dataframe tbody tr th {\n",
       "        vertical-align: top;\n",
       "    }\n",
       "</style>\n",
       "<table border=\"1\" class=\"dataframe\">\n",
       "  <thead>\n",
       "    <tr style=\"text-align: right;\">\n",
       "      <th></th>\n",
       "      <th>born_in_village</th>\n",
       "      <th>masculinity</th>\n",
       "      <th>openness</th>\n",
       "      <th>introversion</th>\n",
       "      <th>emotional_stability</th>\n",
       "      <th>impulsiveness</th>\n",
       "    </tr>\n",
       "  </thead>\n",
       "  <tbody>\n",
       "    <tr>\n",
       "      <th>0</th>\n",
       "      <td>1.0</td>\n",
       "      <td>0.428201</td>\n",
       "      <td>0.341463</td>\n",
       "      <td>0.472222</td>\n",
       "      <td>0.361111</td>\n",
       "      <td>0.0625</td>\n",
       "    </tr>\n",
       "    <tr>\n",
       "      <th>1</th>\n",
       "      <td>0.0</td>\n",
       "      <td>0.519031</td>\n",
       "      <td>0.317073</td>\n",
       "      <td>0.627874</td>\n",
       "      <td>0.638889</td>\n",
       "      <td>0.7500</td>\n",
       "    </tr>\n",
       "    <tr>\n",
       "      <th>2</th>\n",
       "      <td>0.0</td>\n",
       "      <td>0.274221</td>\n",
       "      <td>0.743902</td>\n",
       "      <td>0.483716</td>\n",
       "      <td>0.722222</td>\n",
       "      <td>0.9375</td>\n",
       "    </tr>\n",
       "    <tr>\n",
       "      <th>3</th>\n",
       "      <td>0.0</td>\n",
       "      <td>0.351211</td>\n",
       "      <td>0.500000</td>\n",
       "      <td>0.651341</td>\n",
       "      <td>0.138889</td>\n",
       "      <td>0.6250</td>\n",
       "    </tr>\n",
       "    <tr>\n",
       "      <th>4</th>\n",
       "      <td>1.0</td>\n",
       "      <td>0.503460</td>\n",
       "      <td>0.463415</td>\n",
       "      <td>0.472222</td>\n",
       "      <td>0.500000</td>\n",
       "      <td>0.4375</td>\n",
       "    </tr>\n",
       "  </tbody>\n",
       "</table>\n",
       "</div>"
      ],
      "text/plain": [
       "   born_in_village  masculinity  openness  introversion  emotional_stability  \\\n",
       "0              1.0     0.428201  0.341463      0.472222             0.361111   \n",
       "1              0.0     0.519031  0.317073      0.627874             0.638889   \n",
       "2              0.0     0.274221  0.743902      0.483716             0.722222   \n",
       "3              0.0     0.351211  0.500000      0.651341             0.138889   \n",
       "4              1.0     0.503460  0.463415      0.472222             0.500000   \n",
       "\n",
       "   impulsiveness  \n",
       "0         0.0625  \n",
       "1         0.7500  \n",
       "2         0.9375  \n",
       "3         0.6250  \n",
       "4         0.4375  "
      ]
     },
     "execution_count": 26,
     "metadata": {},
     "output_type": "execute_result"
    }
   ],
   "source": [
    "data_factors.columns = ['born_in_village', 'masculinity', 'openness', 'introversion',\n",
    "                        'emotional_stability', 'impulsiveness']\n",
    "\n",
    "data_factors.head()"
   ]
  },
  {
   "cell_type": "markdown",
   "metadata": {},
   "source": [
    "If we replace masculinity with [agreeableness](https://en.wikipedia.org/wiki/Agreeableness), then we have indeed discovered the [big five personality traits](https://en.wikipedia.org/wiki/Big_Five_personality_traits) proposed by psychologists. Interestingly, it is in fact agreeableness that tends to have the biggest difference between genders (women tend to be more agreeable).\n",
    "\n",
    "It's fascinating for me to reproduce such a fundamental psychological finding from scratch!\n",
    "\n",
    "I typically *don't* consider factor analysis to be good for dimensionality reduction, because principal component analysis can achieve similar results with much less code:"
   ]
  },
  {
   "cell_type": "code",
   "execution_count": 27,
   "metadata": {
    "collapsed": false
   },
   "outputs": [
    {
     "data": {
      "text/html": [
       "<div>\n",
       "<style>\n",
       "    .dataframe thead tr:only-child th {\n",
       "        text-align: right;\n",
       "    }\n",
       "\n",
       "    .dataframe thead th {\n",
       "        text-align: left;\n",
       "    }\n",
       "\n",
       "    .dataframe tbody tr th {\n",
       "        vertical-align: top;\n",
       "    }\n",
       "</style>\n",
       "<table border=\"1\" class=\"dataframe\">\n",
       "  <thead>\n",
       "    <tr style=\"text-align: right;\">\n",
       "      <th></th>\n",
       "      <th>0</th>\n",
       "      <th>1</th>\n",
       "      <th>2</th>\n",
       "      <th>3</th>\n",
       "      <th>4</th>\n",
       "      <th>5</th>\n",
       "    </tr>\n",
       "  </thead>\n",
       "  <tbody>\n",
       "    <tr>\n",
       "      <th>0</th>\n",
       "      <td>-0.291765</td>\n",
       "      <td>0.164556</td>\n",
       "      <td>-0.359605</td>\n",
       "      <td>-0.045645</td>\n",
       "      <td>-0.813542</td>\n",
       "      <td>0.472236</td>\n",
       "    </tr>\n",
       "    <tr>\n",
       "      <th>1</th>\n",
       "      <td>0.625620</td>\n",
       "      <td>-0.986896</td>\n",
       "      <td>0.443533</td>\n",
       "      <td>1.081974</td>\n",
       "      <td>0.338392</td>\n",
       "      <td>0.226812</td>\n",
       "    </tr>\n",
       "    <tr>\n",
       "      <th>2</th>\n",
       "      <td>-0.674904</td>\n",
       "      <td>-0.040445</td>\n",
       "      <td>1.844350</td>\n",
       "      <td>0.392315</td>\n",
       "      <td>1.153786</td>\n",
       "      <td>0.420346</td>\n",
       "    </tr>\n",
       "    <tr>\n",
       "      <th>3</th>\n",
       "      <td>-0.452809</td>\n",
       "      <td>-0.699606</td>\n",
       "      <td>-0.524305</td>\n",
       "      <td>0.888998</td>\n",
       "      <td>0.570622</td>\n",
       "      <td>0.949301</td>\n",
       "    </tr>\n",
       "    <tr>\n",
       "      <th>4</th>\n",
       "      <td>-0.429749</td>\n",
       "      <td>0.987838</td>\n",
       "      <td>-1.013416</td>\n",
       "      <td>0.131897</td>\n",
       "      <td>-0.574381</td>\n",
       "      <td>0.176093</td>\n",
       "    </tr>\n",
       "  </tbody>\n",
       "</table>\n",
       "</div>"
      ],
      "text/plain": [
       "          0         1         2         3         4         5\n",
       "0 -0.291765  0.164556 -0.359605 -0.045645 -0.813542  0.472236\n",
       "1  0.625620 -0.986896  0.443533  1.081974  0.338392  0.226812\n",
       "2 -0.674904 -0.040445  1.844350  0.392315  1.153786  0.420346\n",
       "3 -0.452809 -0.699606 -0.524305  0.888998  0.570622  0.949301\n",
       "4 -0.429749  0.987838 -1.013416  0.131897 -0.574381  0.176093"
      ]
     },
     "execution_count": 27,
     "metadata": {},
     "output_type": "execute_result"
    }
   ],
   "source": [
    "from sklearn.decomposition import PCA\n",
    "\n",
    "pca = PCA(n_components=6).fit(data)\n",
    "\n",
    "data_pca = pd.DataFrame(pca.fit_transform(data))\n",
    "\n",
    "data_pca.head()"
   ]
  },
  {
   "cell_type": "markdown",
   "metadata": {},
   "source": [
    "We could even dig in to this dataframe and see how each component correlates with our original features. In fact, let's do that real quick just for fun:"
   ]
  },
  {
   "cell_type": "code",
   "execution_count": 28,
   "metadata": {
    "collapsed": false
   },
   "outputs": [
    {
     "data": {
      "text/plain": [
       "i_am_always_on_time                                                          -0.769107\n",
       "punctuality_categorical_i am often running late                               0.688494\n",
       "punctuality_categorical_i am always on time                                  -0.647130\n",
       "alcohol_drink a lot                                                           0.425574\n",
       "alcohol_social drinker                                                       -0.306484\n",
       "i_try_to_do_tasks_as_soon_as_possible_and_not_leave_them_until_last_minute   -0.299157\n",
       "i_save_all_the_money_i_can                                                   -0.288075\n",
       "i_spend_a_lot_of_money_on_partying_and_socializing                            0.287648\n",
       "i_find_it_very_difficult_to_get_up_in_the_morning                             0.265920\n",
       "smoking_current smoker                                                        0.260198\n",
       "Name: 0, dtype: float64"
      ]
     },
     "execution_count": 28,
     "metadata": {},
     "output_type": "execute_result"
    }
   ],
   "source": [
    "# Because I love to sort by absolute values...\n",
    "component_4 = pd.DataFrame(data.corrwith(data_pca[4]))\n",
    "component_4['absol'] = np.abs(component_4[0])\n",
    "component_4.sort_values('absol', ascending=False)[0].head(10)"
   ]
  },
  {
   "cell_type": "markdown",
   "metadata": {},
   "source": [
    "You can see that principal component 4 has discovered impulsiveness as well! So what's the point of factor analysis?\n",
    "\n",
    "I like factor analysis because it provides additional insight into your features; it allows you to see which ones are effectively measuring the same latent variables, and then gives you a mathematically rigorous method for combining them to improve the reliability of your measurements. This is quite valuable when it comes to measuring something that's inherently unpredictable like human behavior.\n",
    "\n",
    "Let's look at one last example before wrapping this project up. Let's say we want to measure how extraverted and social someone is. Perhaps we start by trying this:"
   ]
  },
  {
   "cell_type": "code",
   "execution_count": 29,
   "metadata": {
    "collapsed": false
   },
   "outputs": [
    {
     "data": {
      "text/plain": [
       "<matplotlib.axes._subplots.AxesSubplot at 0x251b301fdd8>"
      ]
     },
     "execution_count": 29,
     "metadata": {},
     "output_type": "execute_result"
    },
    {
     "data": {
      "image/png": "[encoded data removed]",
      "text/plain": [
       "<matplotlib.figure.Figure at 0x251b2fdc438>"
      ]
     },
     "metadata": {},
     "output_type": "display_data"
    }
   ],
   "source": [
    "data['i_have_lots_of_friends'].hist(bins=5)"
   ]
  },
  {
   "cell_type": "markdown",
   "metadata": {},
   "source": [
    "This data is pretty low-resolution, wouldn't you say? Everyone had to rate how much they agreed with that statement from 1-5.\n",
    "\n",
    "Compare that to the \"introversion\" factor we discovered earlier:"
   ]
  },
  {
   "cell_type": "code",
   "execution_count": 30,
   "metadata": {
    "collapsed": false
   },
   "outputs": [
    {
     "data": {
      "text/plain": [
       "<matplotlib.axes._subplots.AxesSubplot at 0x251b326b978>"
      ]
     },
     "execution_count": 30,
     "metadata": {},
     "output_type": "execute_result"
    },
    {
     "data": {
      "image/png": "[encoded data removed]",
      "text/plain": [
       "<matplotlib.figure.Figure at 0x251b3204278>"
      ]
     },
     "metadata": {},
     "output_type": "display_data"
    }
   ],
   "source": [
    "data_factors['introversion'].hist(bins=11)"
   ]
  },
  {
   "cell_type": "markdown",
   "metadata": {},
   "source": [
    "Suddenly we have a much clearer idea of how extraverted someone is, rather than relying on just one question. And, to reiterate an important point, this vastly improves the reliability of your data.\n",
    "\n",
    "That wraps up my introduction to factor analysis. Hope you found it useful!"
   ]
  }
 ],
 "metadata": {
  "kernelspec": {
   "display_name": "Python 3",
   "language": "python",
   "name": "python3"
  },
  "language_info": {
   "codemirror_mode": {
    "name": "ipython",
    "version": 3
   },
   "file_extension": ".py",
   "mimetype": "text/x-python",
   "name": "python",
   "nbconvert_exporter": "python",
   "pygments_lexer": "ipython3",
   "version": "3.6.0"
  }
 },
 "nbformat": 4,
 "nbformat_minor": 2
}
