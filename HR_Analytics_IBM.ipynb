{
 "cells": [
  {
   "cell_type": "code",
   "execution_count": 1,
   "metadata": {
    "collapsed": false
   },
   "outputs": [
    {
     "name": "stdout",
     "output_type": "stream",
     "text": [
      "Populating the interactive namespace from numpy and matplotlib\n"
     ]
    }
   ],
   "source": [
    "import pandas as pd\n",
    "import numpy as np\n",
    "from sklearn.pipeline import make_pipeline\n",
    "import matplotlib.pyplot as plt\n",
    "import seaborn as sns\n",
    "\n",
    "from sklearn.metrics import *\n",
    "from sklearn.model_selection import KFold\n",
    "kf = KFold(n_splits=5, shuffle=True)\n",
    "\n",
    "import warnings\n",
    "warnings.filterwarnings('ignore')\n",
    "\n",
    "%pylab inline"
   ]
  },
  {
   "cell_type": "code",
   "execution_count": 2,
   "metadata": {
    "collapsed": false
   },
   "outputs": [
    {
     "name": "stdout",
     "output_type": "stream",
     "text": [
      "1470 employees and 35 features\n"
     ]
    }
   ],
   "source": [
    "data = pd.read_csv('Employee-Attrition.csv')\n",
    "data['Attrition'] = np.where(data['Attrition'] == 'Yes', 1, 0)\n",
    "\n",
    "print(data.shape[0], 'employees and', data.shape[1], 'features')"
   ]
  },
  {
   "cell_type": "code",
   "execution_count": 3,
   "metadata": {
    "collapsed": false
   },
   "outputs": [
    {
     "name": "stdout",
     "output_type": "stream",
     "text": [
      "Numeric features:\n",
      "Index(['Age', 'Attrition', 'DailyRate', 'DistanceFromHome', 'Education',\n",
      "       'EmployeeCount', 'EmployeeNumber', 'EnvironmentSatisfaction',\n",
      "       'HourlyRate', 'JobInvolvement', 'JobLevel', 'JobSatisfaction',\n",
      "       'MonthlyIncome', 'MonthlyRate', 'NumCompaniesWorked',\n",
      "       'PercentSalaryHike', 'PerformanceRating', 'RelationshipSatisfaction',\n",
      "       'StandardHours', 'StockOptionLevel', 'TotalWorkingYears',\n",
      "       'TrainingTimesLastYear', 'WorkLifeBalance', 'YearsAtCompany',\n",
      "       'YearsInCurrentRole', 'YearsSinceLastPromotion',\n",
      "       'YearsWithCurrManager'],\n",
      "      dtype='object')\n",
      "\n",
      "Categorical features:\n",
      "Index(['BusinessTravel', 'Department', 'EducationField', 'Gender', 'JobRole',\n",
      "       'MaritalStatus', 'Over18', 'OverTime'],\n",
      "      dtype='object')\n"
     ]
    }
   ],
   "source": [
    "print('Numeric features:')\n",
    "print(data.select_dtypes(include=[np.number]).columns)\n",
    "\n",
    "print()\n",
    "\n",
    "print('Categorical features:')\n",
    "print(data.select_dtypes(include=['O']).columns)"
   ]
  },
  {
   "cell_type": "code",
   "execution_count": 4,
   "metadata": {
    "collapsed": false
   },
   "outputs": [
    {
     "data": {
      "text/plain": [
       "(array([0, 1]), <a list of 2 Text xticklabel objects>)"
      ]
     },
     "execution_count": 4,
     "metadata": {},
     "output_type": "execute_result"
    },
    {
     "data": {
      "image/png": "[encoded data removed]",
      "text/plain": [
       "<matplotlib.figure.Figure at 0x277bfbca978>"
      ]
     },
     "metadata": {},
     "output_type": "display_data"
    }
   ],
   "source": [
    "data.Attrition.value_counts().plot.bar()\n",
    "plt.title('Attrition')\n",
    "plt.xticks(rotation=0)"
   ]
  },
  {
   "cell_type": "code",
   "execution_count": 5,
   "metadata": {
    "collapsed": false
   },
   "outputs": [],
   "source": [
    "# Dummify the categorical variables\n",
    "\n",
    "for i in data.select_dtypes(include=['O']).columns:\n",
    "    dums = pd.get_dummies(data[i])\n",
    "    dums.rename(columns=lambda x: str(i) + '_' + x, inplace=True)\n",
    "    del data[i]\n",
    "    data = pd.concat([data, dums], axis=1)"
   ]
  },
  {
   "cell_type": "markdown",
   "metadata": {},
   "source": [
    "Let's see what correlates with attrition."
   ]
  },
  {
   "cell_type": "code",
   "execution_count": 6,
   "metadata": {
    "collapsed": false
   },
   "outputs": [
    {
     "data": {
      "text/plain": [
       "<matplotlib.axes._subplots.AxesSubplot at 0x277bfbca748>"
      ]
     },
     "execution_count": 6,
     "metadata": {},
     "output_type": "execute_result"
    },
    {
     "data": {
      "image/png": "[encoded data removed]",
      "text/plain": [
       "<matplotlib.figure.Figure at 0x277c499e400>"
      ]
     },
     "metadata": {},
     "output_type": "display_data"
    }
   ],
   "source": [
    "def absolute_correlations(col, df=data, asc=False):\n",
    "    corrs = pd.DataFrame(df.select_dtypes(include=[np.number]).corrwith(df[col]), columns=['correlation'])\n",
    "    corrs['absol'] = np.abs(corrs['correlation'])\n",
    "    corrs = corrs[corrs.absol < .99]\n",
    "    return corrs.sort_values('absol', ascending=asc).drop('absol', axis=1)\n",
    "\n",
    "att = absolute_correlations('Attrition', df=data, asc=True)\n",
    "\n",
    "att[np.abs(att.correlation) > .1].plot(kind='barh', legend=False,\n",
    "                                       figsize=(8,5),\n",
    "                                       title='Correlations with Attrition')"
   ]
  },
  {
   "cell_type": "markdown",
   "metadata": {},
   "source": [
    "I think we already have a useful insight.\n",
    "\n",
    "Overtime is the best predictor of whether someone leaves. We might later find that other factors are equally (or even *more*) useful, but this squares with my intuition. Burnout appears to be a huge problem.\n",
    "\n",
    "Single employees are more likely to leave, but I'm not sure why.\n",
    "\n",
    "Salespeople (and likely the traveling ones) are also at increased risk. Again, this appears to be a burnout issue."
   ]
  },
  {
   "cell_type": "code",
   "execution_count": 7,
   "metadata": {
    "collapsed": false
   },
   "outputs": [
    {
     "data": {
      "text/plain": [
       "(array([0, 1]), <a list of 2 Text xticklabel objects>)"
      ]
     },
     "execution_count": 7,
     "metadata": {},
     "output_type": "execute_result"
    },
    {
     "data": {
      "image/png": "[encoded data removed]",
      "text/plain": [
       "<matplotlib.figure.Figure at 0x277c4907668>"
      ]
     },
     "metadata": {},
     "output_type": "display_data"
    }
   ],
   "source": [
    "# How many people are working overtime?\n",
    "\n",
    "data.OverTime_Yes.value_counts().plot.bar()\n",
    "plt.title('Overtime')\n",
    "plt.xticks(rotation=0)"
   ]
  },
  {
   "cell_type": "code",
   "execution_count": 8,
   "metadata": {
    "collapsed": false
   },
   "outputs": [
    {
     "data": {
      "text/plain": [
       "(array([0, 1]), <a list of 2 Text xticklabel objects>)"
      ]
     },
     "execution_count": 8,
     "metadata": {},
     "output_type": "execute_result"
    },
    {
     "data": {
      "image/png": "[encoded data removed]",
      "text/plain": [
       "<matplotlib.figure.Figure at 0x277c4e81390>"
      ]
     },
     "metadata": {},
     "output_type": "display_data"
    }
   ],
   "source": [
    "# How many people are single?\n",
    "\n",
    "data.MaritalStatus_Single.value_counts().plot.bar()\n",
    "plt.title('Single Employees')\n",
    "plt.xticks(rotation=0)"
   ]
  },
  {
   "cell_type": "markdown",
   "metadata": {},
   "source": [
    "Know what might be fun and interesting to try? Company Singles Parties. :)\n",
    "    \n",
    "It would be pretty funny (and cost-effective) if this actually reduced turnover!"
   ]
  },
  {
   "cell_type": "code",
   "execution_count": 9,
   "metadata": {
    "collapsed": false
   },
   "outputs": [
    {
     "data": {
      "text/plain": [
       "<matplotlib.text.Text at 0x277c4fbbeb8>"
      ]
     },
     "execution_count": 9,
     "metadata": {},
     "output_type": "execute_result"
    },
    {
     "data": {
      "image/png": "[encoded data removed]",
      "text/plain": [
       "<matplotlib.figure.Figure at 0x277c4f6c828>"
      ]
     },
     "metadata": {},
     "output_type": "display_data"
    }
   ],
   "source": [
    "# Years at the company\n",
    "\n",
    "data.TotalWorkingYears.hist(edgecolor='black')\n",
    "\n",
    "plt.title('Years at the Company')"
   ]
  },
  {
   "cell_type": "code",
   "execution_count": 10,
   "metadata": {
    "collapsed": false
   },
   "outputs": [
    {
     "data": {
      "text/plain": [
       "<matplotlib.text.Text at 0x277c507d5f8>"
      ]
     },
     "execution_count": 10,
     "metadata": {},
     "output_type": "execute_result"
    },
    {
     "data": {
      "image/png": "[encoded data removed]",
      "text/plain": [
       "<matplotlib.figure.Figure at 0x277c502d8d0>"
      ]
     },
     "metadata": {},
     "output_type": "display_data"
    }
   ],
   "source": [
    "data.Age.hist(edgecolor='black')\n",
    "\n",
    "plt.title('Employee Age')"
   ]
  },
  {
   "cell_type": "code",
   "execution_count": 11,
   "metadata": {
    "collapsed": false
   },
   "outputs": [
    {
     "data": {
      "text/plain": [
       "<matplotlib.text.Text at 0x277c5129d30>"
      ]
     },
     "execution_count": 11,
     "metadata": {},
     "output_type": "execute_result"
    },
    {
     "data": {
      "image/png": "[encoded data removed]",
      "text/plain": [
       "<matplotlib.figure.Figure at 0x277c50770b8>"
      ]
     },
     "metadata": {},
     "output_type": "display_data"
    }
   ],
   "source": [
    "data.MonthlyIncome.hist(edgecolor='black')\n",
    "\n",
    "plt.title('Monthly Income')"
   ]
  },
  {
   "cell_type": "code",
   "execution_count": 12,
   "metadata": {
    "collapsed": false
   },
   "outputs": [
    {
     "data": {
      "text/plain": [
       "<matplotlib.text.Text at 0x277c51f2320>"
      ]
     },
     "execution_count": 12,
     "metadata": {},
     "output_type": "execute_result"
    },
    {
     "data": {
      "image/png": "[encoded data removed]",
      "text/plain": [
       "<matplotlib.figure.Figure at 0x277c51babe0>"
      ]
     },
     "metadata": {},
     "output_type": "display_data"
    }
   ],
   "source": [
    "data.JobSatisfaction.hist(edgecolor='black', bins=4)\n",
    "\n",
    "plt.title('Job Satisfaction')"
   ]
  },
  {
   "cell_type": "markdown",
   "metadata": {},
   "source": [
    "Are we rewarding loyalty?"
   ]
  },
  {
   "cell_type": "code",
   "execution_count": 13,
   "metadata": {
    "collapsed": false
   },
   "outputs": [
    {
     "data": {
      "text/plain": [
       "0.51428482573319656"
      ]
     },
     "execution_count": 13,
     "metadata": {},
     "output_type": "execute_result"
    }
   ],
   "source": [
    "np.corrcoef(data.YearsAtCompany, data.MonthlyIncome)[0,1]"
   ]
  },
  {
   "cell_type": "markdown",
   "metadata": {},
   "source": [
    "Very well, in fact. We're seeing lots of evidence that it isn't our most senior people who are leaving."
   ]
  },
  {
   "cell_type": "markdown",
   "metadata": {},
   "source": [
    "# Machine Learning\n",
    "\n",
    "Let's create a machine learning model to predict attrition. I'll do it in two ways:\n",
    "\n",
    "1. Optimize for accuracy. I'll try different algorithms and techniques, and not worry about interpretability.\n",
    "\n",
    "2. Optimize for understanding. I'll build a simple decision tree managers can then refer to when making decisions.\n",
    "\n",
    "I'll use ROC-AUC as my metric because it works well for imbalanced classes. Classifiers typically predict a \"1\" when the pred_proba is above 0.50, but the ROC curve lets you see the tradeoff between sensitivity and specificity for all possible thresholds, rather than just the one that was chosen by the modeling technique."
   ]
  },
  {
   "cell_type": "code",
   "execution_count": 14,
   "metadata": {
    "collapsed": true
   },
   "outputs": [],
   "source": [
    "from sklearn.model_selection import train_test_split, cross_val_score, GridSearchCV\n",
    "\n",
    "y = data['Attrition']\n",
    "x = data.drop('Attrition', axis=1)\n",
    "\n",
    "xtrain, xtest, ytrain, ytest = train_test_split(x, y, test_size=.2)"
   ]
  },
  {
   "cell_type": "code",
   "execution_count": 15,
   "metadata": {
    "collapsed": false
   },
   "outputs": [
    {
     "name": "stdout",
     "output_type": "stream",
     "text": [
      "Mean score: 0.5\n",
      "Std Dev:    0.0\n"
     ]
    }
   ],
   "source": [
    "from sklearn.dummy import DummyClassifier\n",
    "\n",
    "clf = DummyClassifier(strategy='constant', constant=0)\n",
    "\n",
    "cv = cross_val_score(clf, x, y, cv=kf, scoring='roc_auc')\n",
    "\n",
    "# Naive AUC score is always 0.5\n",
    "print('Mean score:', cv.mean())\n",
    "print('Std Dev:   ', cv.std())"
   ]
  },
  {
   "cell_type": "code",
   "execution_count": 16,
   "metadata": {
    "collapsed": false
   },
   "outputs": [
    {
     "name": "stdout",
     "output_type": "stream",
     "text": [
      "LogisticRegression(C=0.5, class_weight=None, dual=False, fit_intercept=True,\n",
      "          intercept_scaling=1, max_iter=100, multi_class='ovr', n_jobs=1,\n",
      "          penalty='l2', random_state=None, solver='liblinear', tol=0.0001,\n",
      "          verbose=0, warm_start=False) \n",
      "\n",
      "Mean score: 0.837955689161\n",
      "Std Dev:    0.0225729220193\n"
     ]
    }
   ],
   "source": [
    "from sklearn.linear_model import LogisticRegression\n",
    "\n",
    "clf = LogisticRegression()\n",
    "params = {'penalty': ['l1', 'l2'],\n",
    "         'C': [.1, .5, .75, 1, 1.25, 1.5]}\n",
    "grid = GridSearchCV(clf, param_grid=params, cv=kf, scoring='roc_auc').fit(xtrain, ytrain)\n",
    "lr = grid.best_estimator_\n",
    "\n",
    "cv = cross_val_score(lr, xtrain, ytrain, cv=kf, scoring='roc_auc')\n",
    "\n",
    "print(lr, '\\n')\n",
    "print('Mean score:', cv.mean())\n",
    "print('Std Dev:   ', cv.std())"
   ]
  },
  {
   "cell_type": "code",
   "execution_count": 17,
   "metadata": {
    "collapsed": false
   },
   "outputs": [
    {
     "name": "stdout",
     "output_type": "stream",
     "text": [
      "Mean score: 0.789838333606\n",
      "Std Dev:    0.0176631184832\n"
     ]
    }
   ],
   "source": [
    "from sklearn.naive_bayes import GaussianNB\n",
    "\n",
    "nb = GaussianNB()\n",
    "\n",
    "cv = cross_val_score(nb, xtrain, ytrain, cv=kf, scoring='roc_auc')\n",
    "\n",
    "print('Mean score:', cv.mean())\n",
    "print('Std Dev:   ', cv.std())"
   ]
  },
  {
   "cell_type": "code",
   "execution_count": 18,
   "metadata": {
    "collapsed": false
   },
   "outputs": [
    {
     "name": "stdout",
     "output_type": "stream",
     "text": [
      "XGBClassifier(base_score=0.5, booster='gbtree', colsample_bylevel=1,\n",
      "       colsample_bytree=1, gamma=0, learning_rate=0.1, max_delta_step=0,\n",
      "       max_depth=3, min_child_weight=1, missing=None, n_estimators=100,\n",
      "       n_jobs=-1, nthread=-1, objective='binary:logistic', random_state=0,\n",
      "       reg_alpha=0, reg_lambda=1, scale_pos_weight=1, seed=0, silent=True,\n",
      "       subsample=1) \n",
      "\n",
      "Mean score: 0.81604839003\n",
      "Std Dev:    0.0500058805945\n"
     ]
    }
   ],
   "source": [
    "from xgboost import XGBClassifier\n",
    "\n",
    "clf = XGBClassifier(n_jobs=-1)\n",
    "params = {'max_depth': [2,3,4],\n",
    "         'n_estimators': [50, 75, 100, 125],\n",
    "         'learning_rate': [.1]}\n",
    "grid = GridSearchCV(clf, param_grid=params, cv=3, scoring='roc_auc').fit(x.values, y)\n",
    "xg = grid.best_estimator_\n",
    "\n",
    "cv = cross_val_score(xg, x.values, y, cv=kf, scoring='roc_auc')\n",
    "\n",
    "print(clf, '\\n')\n",
    "print('Mean score:', cv.mean())\n",
    "print('Std Dev:   ', cv.std())"
   ]
  },
  {
   "cell_type": "code",
   "execution_count": 19,
   "metadata": {
    "collapsed": false
   },
   "outputs": [
    {
     "name": "stdout",
     "output_type": "stream",
     "text": [
      "RandomForestClassifier(bootstrap=True, class_weight=None, criterion='gini',\n",
      "            max_depth=8, max_features='auto', max_leaf_nodes=None,\n",
      "            min_impurity_decrease=0.0, min_impurity_split=None,\n",
      "            min_samples_leaf=5, min_samples_split=15,\n",
      "            min_weight_fraction_leaf=0.0, n_estimators=10, n_jobs=-1,\n",
      "            oob_score=False, random_state=None, verbose=0,\n",
      "            warm_start=False) \n",
      "\n",
      "Mean score: 0.762068690808\n",
      "Std Dev:    0.0388191864529\n"
     ]
    }
   ],
   "source": [
    "from sklearn.ensemble import RandomForestClassifier\n",
    "\n",
    "clf = RandomForestClassifier(n_jobs=-1)\n",
    "params = {'max_depth': np.arange(5,13,1),\n",
    "         'n_estimators': [10],\n",
    "          'min_samples_leaf': [3,4,5,6,8],\n",
    "          'min_samples_split': [4,5,6,10,12,15]\n",
    "         }\n",
    "grid = GridSearchCV(clf, param_grid=params, cv=3, scoring='roc_auc').fit(x.values, y)\n",
    "rf = grid.best_estimator_\n",
    "\n",
    "cv = cross_val_score(rf, x.values, y, cv=kf, scoring='roc_auc')\n",
    "\n",
    "print(rf, '\\n')\n",
    "print('Mean score:', cv.mean())\n",
    "print('Std Dev:   ', cv.std())"
   ]
  },
  {
   "cell_type": "code",
   "execution_count": 20,
   "metadata": {
    "collapsed": false
   },
   "outputs": [
    {
     "name": "stdout",
     "output_type": "stream",
     "text": [
      "GradientBoostingClassifier(criterion='friedman_mse', init=None,\n",
      "              learning_rate=0.1, loss='deviance', max_depth=2,\n",
      "              max_features=None, max_leaf_nodes=None,\n",
      "              min_impurity_decrease=0.0, min_impurity_split=None,\n",
      "              min_samples_leaf=5, min_samples_split=4,\n",
      "              min_weight_fraction_leaf=0.0, n_estimators=450,\n",
      "              presort='auto', random_state=None, subsample=1.0, verbose=0,\n",
      "              warm_start=False) \n",
      "\n",
      "Mean score: 0.817006285929\n",
      "Std Dev:    0.0375079655949\n"
     ]
    }
   ],
   "source": [
    "from sklearn.ensemble import GradientBoostingClassifier\n",
    "\n",
    "clf = GradientBoostingClassifier()\n",
    "params = {'max_depth': [2],#np.arange(2,14,2),\n",
    "         'n_estimators': [450],\n",
    "         'min_samples_leaf': np.arange(4,7,1),#[1,2,3,4,5,6,10],\n",
    "         'min_samples_split': np.arange(4,7,1),#[2,3,4,5,6,10]\n",
    "         'loss': ['deviance']\n",
    "         }\n",
    "grid = GridSearchCV(clf, param_grid=params, cv=3, scoring='roc_auc').fit(x.values, y)\n",
    "gb = grid.best_estimator_\n",
    "\n",
    "cv = cross_val_score(gb, x.values, y, cv=kf, scoring='roc_auc')\n",
    "\n",
    "print(gb, '\\n')\n",
    "print('Mean score:', cv.mean())\n",
    "print('Std Dev:   ', cv.std())"
   ]
  },
  {
   "cell_type": "code",
   "execution_count": 21,
   "metadata": {
    "collapsed": false
   },
   "outputs": [
    {
     "name": "stdout",
     "output_type": "stream",
     "text": [
      "ExtraTreesClassifier(bootstrap=False, class_weight=None, criterion='gini',\n",
      "           max_depth=12, max_features='auto', max_leaf_nodes=None,\n",
      "           min_impurity_decrease=0.0, min_impurity_split=None,\n",
      "           min_samples_leaf=2, min_samples_split=8,\n",
      "           min_weight_fraction_leaf=0.0, n_estimators=75, n_jobs=1,\n",
      "           oob_score=False, random_state=None, verbose=0, warm_start=False) \n",
      "\n",
      "Mean score: 0.800478895852\n",
      "Std Dev:    0.0280308542306\n"
     ]
    }
   ],
   "source": [
    "from sklearn.ensemble import ExtraTreesClassifier\n",
    "\n",
    "clf = ExtraTreesClassifier()\n",
    "params = {'max_depth': np.arange(11,13,1),\n",
    "         'n_estimators': [50,75,100],\n",
    "         'min_samples_leaf': np.arange(1,11,1),\n",
    "         'min_samples_split': np.arange(2,11,1),\n",
    "         }\n",
    "grid = GridSearchCV(clf, param_grid=params, cv=kf, scoring='roc_auc').fit(x.values, y)\n",
    "et = grid.best_estimator_\n",
    "\n",
    "cv = cross_val_score(et, x.values, y, cv=kf, scoring='roc_auc')\n",
    "\n",
    "print(et, '\\n')\n",
    "print('Mean score:', cv.mean())\n",
    "print('Std Dev:   ', cv.std())"
   ]
  },
  {
   "cell_type": "code",
   "execution_count": 22,
   "metadata": {
    "collapsed": false
   },
   "outputs": [
    {
     "name": "stdout",
     "output_type": "stream",
     "text": [
      "KNeighborsClassifier(algorithm='auto', leaf_size=1, metric='minkowski',\n",
      "           metric_params=None, n_jobs=1, n_neighbors=29, p=12,\n",
      "           weights='uniform') \n",
      "\n",
      "Mean score: 0.642719359346\n",
      "Std Dev:    0.0356301930379\n"
     ]
    }
   ],
   "source": [
    "from sklearn.neighbors import KNeighborsClassifier\n",
    "\n",
    "clf = KNeighborsClassifier()\n",
    "params = {'n_neighbors': np.arange(23,33,2),\n",
    "          'p': np.arange(12,17,1),\n",
    "          'leaf_size': np.arange(1,5,1)\n",
    "         }\n",
    "grid = GridSearchCV(clf, param_grid=params, cv=kf, scoring='roc_auc').fit(x.values, y)\n",
    "knn = grid.best_estimator_\n",
    "\n",
    "cv = cross_val_score(knn, x.values, y, cv=kf, scoring='roc_auc')\n",
    "\n",
    "print(knn, '\\n')\n",
    "print('Mean score:', cv.mean())\n",
    "print('Std Dev:   ', cv.std())"
   ]
  },
  {
   "cell_type": "markdown",
   "metadata": {},
   "source": [
    "Now to finalize our model using a stacked classifier. We can use a grid search to determine which classifiers work best together -- it's pretty cool."
   ]
  },
  {
   "cell_type": "code",
   "execution_count": 23,
   "metadata": {
    "collapsed": false
   },
   "outputs": [
    {
     "name": "stdout",
     "output_type": "stream",
     "text": [
      "StackingClassifier(average_probas=True,\n",
      "          classifiers=[LogisticRegression(C=0.5, class_weight=None, dual=False, fit_intercept=True,\n",
      "          intercept_scaling=1, max_iter=100, multi_class='ovr', n_jobs=1,\n",
      "          penalty='l2', random_state=None, solver='liblinear', tol=0.0001,\n",
      "          verbose=0, warm_start=False), GradientBoostingClass...stimators=75, n_jobs=1,\n",
      "           oob_score=False, random_state=None, verbose=0, warm_start=False)],\n",
      "          meta_classifier=LogisticRegression(C=0.5, class_weight=None, dual=False, fit_intercept=True,\n",
      "          intercept_scaling=1, max_iter=100, multi_class='ovr', n_jobs=1,\n",
      "          penalty='l2', random_state=None, solver='liblinear', tol=0.0001,\n",
      "          verbose=0, warm_start=False),\n",
      "          use_features_in_secondary=False, use_probas=True, verbose=0) \n",
      "\n",
      "Mean score: 0.848145256994\n",
      "Std Dev:    0.0305031236413\n"
     ]
    }
   ],
   "source": [
    "from mlxtend.classifier import StackingClassifier\n",
    "from itertools import combinations\n",
    "regs = [lr, nb, xg, rf, gb, et, knn]\n",
    "reg_combinations =\\\n",
    "[list(i) for i in combinations(regs, 3)]\n",
    "\n",
    "stack = StackingClassifier(classifiers=[nb], meta_classifier=lr, use_probas=True, average_probas=True)\n",
    "\n",
    "params = {'classifiers': reg_combinations,\n",
    "    'meta_classifier': regs}\n",
    "\n",
    "grid = GridSearchCV(stack, param_grid=params, cv=3, scoring='roc_auc').fit(xtrain.values, ytrain)\n",
    "stack = grid.best_estimator_\n",
    "\n",
    "cv = cross_val_score(stack, xtrain, ytrain, cv=kf, scoring='roc_auc')\n",
    "\n",
    "print(stack, '\\n')\n",
    "print('Mean score:', cv.mean())\n",
    "print('Std Dev:   ', cv.std())"
   ]
  },
  {
   "cell_type": "markdown",
   "metadata": {},
   "source": [
    "Let's view the ROC curve next. I use a couple custom functions for this; one to save the predictor's results to a dataframe, and another to plot the dataframe I've created."
   ]
  },
  {
   "cell_type": "code",
   "execution_count": 24,
   "metadata": {
    "collapsed": false
   },
   "outputs": [],
   "source": [
    "def results_df(label_test, pred_proba):\n",
    "    '''\n",
    "    Compares how well the model is identifying people compared\n",
    "    to random chance.\n",
    "    '''\n",
    "    results = pd.DataFrame()\n",
    "\n",
    "    results['actual'] = label_test\n",
    "    results['predicted'] = pred_proba\n",
    "    \n",
    "    results.sort_values('predicted', ascending=False, inplace=True)\n",
    "    \n",
    "    # Counting positive observations\n",
    "    results['model_count'] = pd.Series.cumsum(results.actual)\n",
    "    results['percentage'] = 1/len(results)\n",
    "    results['random_count'] = pd.Series.cumsum(results['percentage']) * np.sum(results['actual'])\n",
    "    \n",
    "    # Percentage of the total found\n",
    "    results['model_select'] = results['model_count']/np.sum(results['actual'])\n",
    "    results['random_select'] = pd.Series.cumsum(results.percentage)\n",
    "\n",
    "    del results['percentage']\n",
    "    \n",
    "    return results\n",
    "\n",
    "res = results_df(ytest, stack.predict_proba(xtest)[:,1])"
   ]
  },
  {
   "cell_type": "code",
   "execution_count": 25,
   "metadata": {
    "collapsed": false
   },
   "outputs": [
    {
     "data": {
      "image/png": "[encoded data removed]",
      "text/plain": [
       "<matplotlib.figure.Figure at 0x277c54ae4e0>"
      ]
     },
     "metadata": {},
     "output_type": "display_data"
    }
   ],
   "source": [
    "def plot_curve(df):\n",
    "    plt.plot(df.random_select, df.model_select, color='red')\n",
    "    plt.plot(df.random_select, df.random_select, color='blue', linestyle='--')\n",
    "\n",
    "    plt.ylabel('Percent found')\n",
    "    plt.xlabel('Percent selected')\n",
    "\n",
    "    plt.ylim(0,1)\n",
    "    plt.xlim(0,1)\n",
    "\n",
    "    plt.xticks([0, .25, .5, .75, 1])\n",
    "    plt.yticks([.1, .2, .3, .4,\n",
    "                .5, .6, .7, .8, .9, 1])\n",
    "\n",
    "    from pylab import rcParams\n",
    "    rcParams['figure.figsize'] = 10, 6\n",
    "    \n",
    "plot_curve(res)"
   ]
  },
  {
   "cell_type": "markdown",
   "metadata": {},
   "source": [
    "You can see that we identify 65% of the leavers within the first 25% of people our model ranks. It reaches 80%+ of leavers after it has ranked the top 50%. I would consider this very good performance, indeed! "
   ]
  },
  {
   "cell_type": "markdown",
   "metadata": {},
   "source": [
    "# Clustering our former employees\n",
    "\n",
    "First, let's determine the ideal number of clusters."
   ]
  },
  {
   "cell_type": "code",
   "execution_count": 26,
   "metadata": {
    "collapsed": false
   },
   "outputs": [
    {
     "name": "stdout",
     "output_type": "stream",
     "text": [
      "2 0.500842068733\n",
      "3 0.390919131267\n",
      "4 0.394596685441\n",
      "5 0.423937852181\n",
      "6 0.402940626305\n",
      "7 0.426994378651\n",
      "8 0.417738824866\n",
      "9 0.413060794127\n",
      "10 0.4180392647\n"
     ]
    }
   ],
   "source": [
    "from sklearn.cluster import KMeans\n",
    "from sklearn.metrics import silhouette_score\n",
    "\n",
    "# Cluster those who left\n",
    "left = data[data.Attrition == 1]\n",
    "\n",
    "# Test different numbers of clusters\n",
    "for i in range(2,11):\n",
    "    cl = KMeans(n_clusters=i, random_state=42).fit(left.drop('Attrition', axis=1))\n",
    "    print(i, silhouette_score(left.drop('Attrition', axis=1), cl.labels_))"
   ]
  },
  {
   "cell_type": "code",
   "execution_count": 27,
   "metadata": {
    "collapsed": false
   },
   "outputs": [
    {
     "data": {
      "text/plain": [
       "(array([0, 1]), <a list of 2 Text xticklabel objects>)"
      ]
     },
     "execution_count": 27,
     "metadata": {},
     "output_type": "execute_result"
    },
    {
     "data": {
      "image/png": "[encoded data removed]",
      "text/plain": [
       "<matplotlib.figure.Figure at 0x277c5768438>"
      ]
     },
     "metadata": {},
     "output_type": "display_data"
    }
   ],
   "source": [
    "cl = KMeans(n_clusters=2, random_state=42).fit(left.drop('Attrition', axis=1))\n",
    "left['Cluster'] = cl.labels_ + 1\n",
    "\n",
    "left.Cluster.value_counts().plot.bar()\n",
    "plt.title('People in Each Cluster')\n",
    "rcParams['figure.figsize'] = 3, 3\n",
    "plt.xticks(rotation=0)"
   ]
  },
  {
   "cell_type": "markdown",
   "metadata": {},
   "source": [
    "Perfect -- they're about evenly distributed. Let's look at the characteristics of each cluster."
   ]
  },
  {
   "cell_type": "code",
   "execution_count": 28,
   "metadata": {
    "collapsed": false
   },
   "outputs": [
    {
     "data": {
      "text/html": [
       "<div>\n",
       "<style>\n",
       "    .dataframe thead tr:only-child th {\n",
       "        text-align: right;\n",
       "    }\n",
       "\n",
       "    .dataframe thead th {\n",
       "        text-align: left;\n",
       "    }\n",
       "\n",
       "    .dataframe tbody tr th {\n",
       "        vertical-align: top;\n",
       "    }\n",
       "</style>\n",
       "<table border=\"1\" class=\"dataframe\">\n",
       "  <thead>\n",
       "    <tr style=\"text-align: right;\">\n",
       "      <th>Cluster</th>\n",
       "      <th>1</th>\n",
       "      <th>2</th>\n",
       "      <th>Stayed</th>\n",
       "      <th>Difference_Cluster_1</th>\n",
       "      <th>Difference_Cluster_2</th>\n",
       "      <th>Difference_Cluster_1_abs</th>\n",
       "      <th>Difference_Cluster_2_abs</th>\n",
       "    </tr>\n",
       "  </thead>\n",
       "  <tbody>\n",
       "    <tr>\n",
       "      <th>Age</th>\n",
       "      <td>34.247934</td>\n",
       "      <td>32.939655</td>\n",
       "      <td>37.561233</td>\n",
       "      <td>-0.088211</td>\n",
       "      <td>-0.123041</td>\n",
       "      <td>0.088211</td>\n",
       "      <td>0.123041</td>\n",
       "    </tr>\n",
       "    <tr>\n",
       "      <th>DailyRate</th>\n",
       "      <td>780.611570</td>\n",
       "      <td>718.810345</td>\n",
       "      <td>812.504461</td>\n",
       "      <td>-0.039253</td>\n",
       "      <td>-0.115315</td>\n",
       "      <td>0.039253</td>\n",
       "      <td>0.115315</td>\n",
       "    </tr>\n",
       "    <tr>\n",
       "      <th>DistanceFromHome</th>\n",
       "      <td>10.851240</td>\n",
       "      <td>10.405172</td>\n",
       "      <td>8.915653</td>\n",
       "      <td>0.217100</td>\n",
       "      <td>0.167068</td>\n",
       "      <td>0.217100</td>\n",
       "      <td>0.167068</td>\n",
       "    </tr>\n",
       "    <tr>\n",
       "      <th>Education</th>\n",
       "      <td>2.818182</td>\n",
       "      <td>2.862069</td>\n",
       "      <td>2.927007</td>\n",
       "      <td>-0.037180</td>\n",
       "      <td>-0.022186</td>\n",
       "      <td>0.037180</td>\n",
       "      <td>0.022186</td>\n",
       "    </tr>\n",
       "    <tr>\n",
       "      <th>EmployeeCount</th>\n",
       "      <td>1.000000</td>\n",
       "      <td>1.000000</td>\n",
       "      <td>1.000000</td>\n",
       "      <td>0.000000</td>\n",
       "      <td>0.000000</td>\n",
       "      <td>0.000000</td>\n",
       "      <td>0.000000</td>\n",
       "    </tr>\n",
       "  </tbody>\n",
       "</table>\n",
       "</div>"
      ],
      "text/plain": [
       "Cluster                    1           2      Stayed  Difference_Cluster_1  \\\n",
       "Age                34.247934   32.939655   37.561233             -0.088211   \n",
       "DailyRate         780.611570  718.810345  812.504461             -0.039253   \n",
       "DistanceFromHome   10.851240   10.405172    8.915653              0.217100   \n",
       "Education           2.818182    2.862069    2.927007             -0.037180   \n",
       "EmployeeCount       1.000000    1.000000    1.000000              0.000000   \n",
       "\n",
       "Cluster           Difference_Cluster_2  Difference_Cluster_1_abs  \\\n",
       "Age                          -0.123041                  0.088211   \n",
       "DailyRate                    -0.115315                  0.039253   \n",
       "DistanceFromHome              0.167068                  0.217100   \n",
       "Education                    -0.022186                  0.037180   \n",
       "EmployeeCount                 0.000000                  0.000000   \n",
       "\n",
       "Cluster           Difference_Cluster_2_abs  \n",
       "Age                               0.123041  \n",
       "DailyRate                         0.115315  \n",
       "DistanceFromHome                  0.167068  \n",
       "Education                         0.022186  \n",
       "EmployeeCount                     0.000000  "
      ]
     },
     "execution_count": 28,
     "metadata": {},
     "output_type": "execute_result"
    }
   ],
   "source": [
    "differences = left.groupby('Cluster').mean().T\n",
    "differences['Stayed'] = data[data.Attrition == 0].mean()\n",
    "differences.drop('Attrition', inplace=True)\n",
    "\n",
    "# Calculate the percentage difference vs. those who stay\n",
    "differences['Difference_Cluster_1'] = (differences[1] - differences['Stayed'])/differences['Stayed']\n",
    "differences['Difference_Cluster_2'] = (differences[2] - differences['Stayed'])/differences['Stayed']\n",
    "\n",
    "# Absolute value, for sorting\n",
    "differences['Difference_Cluster_1_abs'] = np.abs(differences['Difference_Cluster_1'])\n",
    "differences['Difference_Cluster_2_abs'] = np.abs(differences['Difference_Cluster_2'])\n",
    "\n",
    "differences.head()"
   ]
  },
  {
   "cell_type": "code",
   "execution_count": 29,
   "metadata": {
    "collapsed": false
   },
   "outputs": [
    {
     "data": {
      "text/html": [
       "<div>\n",
       "<style>\n",
       "    .dataframe thead tr:only-child th {\n",
       "        text-align: right;\n",
       "    }\n",
       "\n",
       "    .dataframe thead th {\n",
       "        text-align: left;\n",
       "    }\n",
       "\n",
       "    .dataframe tbody tr th {\n",
       "        vertical-align: top;\n",
       "    }\n",
       "</style>\n",
       "<table border=\"1\" class=\"dataframe\">\n",
       "  <thead>\n",
       "    <tr style=\"text-align: right;\">\n",
       "      <th>Cluster</th>\n",
       "      <th>1</th>\n",
       "      <th>Stayed</th>\n",
       "      <th>Difference_Cluster_1</th>\n",
       "    </tr>\n",
       "  </thead>\n",
       "  <tbody>\n",
       "    <tr>\n",
       "      <th>JobRole_Sales Representative</th>\n",
       "      <td>0.132231</td>\n",
       "      <td>0.040552</td>\n",
       "      <td>2.260826</td>\n",
       "    </tr>\n",
       "    <tr>\n",
       "      <th>OverTime_Yes</th>\n",
       "      <td>0.528926</td>\n",
       "      <td>0.234388</td>\n",
       "      <td>1.256627</td>\n",
       "    </tr>\n",
       "    <tr>\n",
       "      <th>EducationField_Human Resources</th>\n",
       "      <td>0.033058</td>\n",
       "      <td>0.016221</td>\n",
       "      <td>1.038017</td>\n",
       "    </tr>\n",
       "    <tr>\n",
       "      <th>JobRole_Research Director</th>\n",
       "      <td>0.000000</td>\n",
       "      <td>0.063260</td>\n",
       "      <td>-1.000000</td>\n",
       "    </tr>\n",
       "    <tr>\n",
       "      <th>MaritalStatus_Single</th>\n",
       "      <td>0.520661</td>\n",
       "      <td>0.283861</td>\n",
       "      <td>0.834215</td>\n",
       "    </tr>\n",
       "    <tr>\n",
       "      <th>JobRole_Manager</th>\n",
       "      <td>0.016529</td>\n",
       "      <td>0.078670</td>\n",
       "      <td>-0.789895</td>\n",
       "    </tr>\n",
       "    <tr>\n",
       "      <th>JobRole_Human Resources</th>\n",
       "      <td>0.057851</td>\n",
       "      <td>0.032441</td>\n",
       "      <td>0.783264</td>\n",
       "    </tr>\n",
       "    <tr>\n",
       "      <th>BusinessTravel_Travel_Frequently</th>\n",
       "      <td>0.297521</td>\n",
       "      <td>0.168694</td>\n",
       "      <td>0.763668</td>\n",
       "    </tr>\n",
       "    <tr>\n",
       "      <th>JobRole_Laboratory Technician</th>\n",
       "      <td>0.280992</td>\n",
       "      <td>0.159773</td>\n",
       "      <td>0.758694</td>\n",
       "    </tr>\n",
       "    <tr>\n",
       "      <th>EducationField_Technical Degree</th>\n",
       "      <td>0.140496</td>\n",
       "      <td>0.081103</td>\n",
       "      <td>0.732314</td>\n",
       "    </tr>\n",
       "  </tbody>\n",
       "</table>\n",
       "</div>"
      ],
      "text/plain": [
       "Cluster                                  1    Stayed  Difference_Cluster_1\n",
       "JobRole_Sales Representative      0.132231  0.040552              2.260826\n",
       "OverTime_Yes                      0.528926  0.234388              1.256627\n",
       "EducationField_Human Resources    0.033058  0.016221              1.038017\n",
       "JobRole_Research Director         0.000000  0.063260             -1.000000\n",
       "MaritalStatus_Single              0.520661  0.283861              0.834215\n",
       "JobRole_Manager                   0.016529  0.078670             -0.789895\n",
       "JobRole_Human Resources           0.057851  0.032441              0.783264\n",
       "BusinessTravel_Travel_Frequently  0.297521  0.168694              0.763668\n",
       "JobRole_Laboratory Technician     0.280992  0.159773              0.758694\n",
       "EducationField_Technical Degree   0.140496  0.081103              0.732314"
      ]
     },
     "execution_count": 29,
     "metadata": {},
     "output_type": "execute_result"
    }
   ],
   "source": [
    "cl1 = differences.sort_values('Difference_Cluster_1_abs', ascending=False)[[1, 'Stayed', 'Difference_Cluster_1']]\n",
    "\n",
    "cl1.head(10)"
   ]
  },
  {
   "cell_type": "markdown",
   "metadata": {},
   "source": [
    "It appears that a big characteristic of cluster 1 is HR. People in HR are about twice as likely to leave."
   ]
  },
  {
   "cell_type": "code",
   "execution_count": 30,
   "metadata": {
    "collapsed": false
   },
   "outputs": [
    {
     "data": {
      "text/html": [
       "<div>\n",
       "<style>\n",
       "    .dataframe thead tr:only-child th {\n",
       "        text-align: right;\n",
       "    }\n",
       "\n",
       "    .dataframe thead th {\n",
       "        text-align: left;\n",
       "    }\n",
       "\n",
       "    .dataframe tbody tr th {\n",
       "        vertical-align: top;\n",
       "    }\n",
       "</style>\n",
       "<table border=\"1\" class=\"dataframe\">\n",
       "  <thead>\n",
       "    <tr style=\"text-align: right;\">\n",
       "      <th>Cluster</th>\n",
       "      <th>2</th>\n",
       "      <th>Stayed</th>\n",
       "      <th>Difference_Cluster_2</th>\n",
       "    </tr>\n",
       "  </thead>\n",
       "  <tbody>\n",
       "    <tr>\n",
       "      <th>JobRole_Sales Representative</th>\n",
       "      <td>0.146552</td>\n",
       "      <td>0.040552</td>\n",
       "      <td>2.613966</td>\n",
       "    </tr>\n",
       "    <tr>\n",
       "      <th>OverTime_Yes</th>\n",
       "      <td>0.543103</td>\n",
       "      <td>0.234388</td>\n",
       "      <td>1.317116</td>\n",
       "    </tr>\n",
       "    <tr>\n",
       "      <th>JobRole_Healthcare Representative</th>\n",
       "      <td>0.017241</td>\n",
       "      <td>0.098946</td>\n",
       "      <td>-0.825749</td>\n",
       "    </tr>\n",
       "    <tr>\n",
       "      <th>MaritalStatus_Single</th>\n",
       "      <td>0.491379</td>\n",
       "      <td>0.283861</td>\n",
       "      <td>0.731059</td>\n",
       "    </tr>\n",
       "    <tr>\n",
       "      <th>JobRole_Research Director</th>\n",
       "      <td>0.017241</td>\n",
       "      <td>0.063260</td>\n",
       "      <td>-0.727454</td>\n",
       "    </tr>\n",
       "    <tr>\n",
       "      <th>EducationField_Marketing</th>\n",
       "      <td>0.172414</td>\n",
       "      <td>0.100568</td>\n",
       "      <td>0.714405</td>\n",
       "    </tr>\n",
       "    <tr>\n",
       "      <th>BusinessTravel_Travel_Frequently</th>\n",
       "      <td>0.284483</td>\n",
       "      <td>0.168694</td>\n",
       "      <td>0.686381</td>\n",
       "    </tr>\n",
       "    <tr>\n",
       "      <th>JobRole_Manager</th>\n",
       "      <td>0.025862</td>\n",
       "      <td>0.078670</td>\n",
       "      <td>-0.671258</td>\n",
       "    </tr>\n",
       "    <tr>\n",
       "      <th>BusinessTravel_Non-Travel</th>\n",
       "      <td>0.043103</td>\n",
       "      <td>0.111922</td>\n",
       "      <td>-0.614880</td>\n",
       "    </tr>\n",
       "    <tr>\n",
       "      <th>JobRole_Manufacturing Director</th>\n",
       "      <td>0.043103</td>\n",
       "      <td>0.109489</td>\n",
       "      <td>-0.606322</td>\n",
       "    </tr>\n",
       "  </tbody>\n",
       "</table>\n",
       "</div>"
      ],
      "text/plain": [
       "Cluster                                   2    Stayed  Difference_Cluster_2\n",
       "JobRole_Sales Representative       0.146552  0.040552              2.613966\n",
       "OverTime_Yes                       0.543103  0.234388              1.317116\n",
       "JobRole_Healthcare Representative  0.017241  0.098946             -0.825749\n",
       "MaritalStatus_Single               0.491379  0.283861              0.731059\n",
       "JobRole_Research Director          0.017241  0.063260             -0.727454\n",
       "EducationField_Marketing           0.172414  0.100568              0.714405\n",
       "BusinessTravel_Travel_Frequently   0.284483  0.168694              0.686381\n",
       "JobRole_Manager                    0.025862  0.078670             -0.671258\n",
       "BusinessTravel_Non-Travel          0.043103  0.111922             -0.614880\n",
       "JobRole_Manufacturing Director     0.043103  0.109489             -0.606322"
      ]
     },
     "execution_count": 30,
     "metadata": {},
     "output_type": "execute_result"
    }
   ],
   "source": [
    "cl2 = differences.sort_values('Difference_Cluster_2_abs', ascending=False)[[2, 'Stayed', 'Difference_Cluster_2']]\n",
    "\n",
    "cl2.head(10)"
   ]
  },
  {
   "cell_type": "markdown",
   "metadata": {},
   "source": [
    "Meanwhile, cluster 2 is characterized by travel, marketing, and sales. Lets see why people leave in both of these departments/clusters."
   ]
  },
  {
   "cell_type": "code",
   "execution_count": 31,
   "metadata": {
    "collapsed": false
   },
   "outputs": [
    {
     "name": "stdout",
     "output_type": "stream",
     "text": [
      "58 people in HR and 554 in sales.\n"
     ]
    }
   ],
   "source": [
    "hr = data[(data['EducationField_Human Resources'] == 1) | (data['JobRole_Human Resources'] == 1)]\n",
    "sales = data[(data['JobRole_Healthcare Representative'] == 1) | (data['EducationField_Marketing'] == 1) |\\\n",
    "            (data['JobRole_Sales Representative'] == 1) | (data['JobRole_Sales Executive'] == 1)]\n",
    "\n",
    "print(hr.shape[0], 'people in HR and', sales.shape[0], 'in sales.')"
   ]
  },
  {
   "cell_type": "code",
   "execution_count": 32,
   "metadata": {
    "collapsed": false
   },
   "outputs": [
    {
     "data": {
      "text/plain": [
       "<matplotlib.axes._subplots.AxesSubplot at 0x277c68c6400>"
      ]
     },
     "execution_count": 32,
     "metadata": {},
     "output_type": "execute_result"
    },
    {
     "data": {
      "image/png": "[encoded data removed]",
      "text/plain": [
       "<matplotlib.figure.Figure at 0x277c689bb70>"
      ]
     },
     "metadata": {},
     "output_type": "display_data"
    }
   ],
   "source": [
    "att_hr = absolute_correlations('Attrition', df=hr, asc=True).T\n",
    "\n",
    "# Remove job role and dept\n",
    "att_hr = att_hr[[i for i in att_hr.columns if \"JobRole\" not in i and \"Department\" not in i]].T\n",
    "\n",
    "att_hr[np.abs(att_hr.correlation) > .2].plot(kind='barh', legend=False,\n",
    "                                       figsize=(8,5),\n",
    "                                       title='HR: Correlations with Attrition')"
   ]
  },
  {
   "cell_type": "markdown",
   "metadata": {},
   "source": [
    "HR folks don't like commuting or traveling. But if they settle in with the company, they tend to stick around."
   ]
  },
  {
   "cell_type": "code",
   "execution_count": 33,
   "metadata": {
    "collapsed": false
   },
   "outputs": [
    {
     "data": {
      "text/plain": [
       "<matplotlib.axes._subplots.AxesSubplot at 0x277c6780828>"
      ]
     },
     "execution_count": 33,
     "metadata": {},
     "output_type": "execute_result"
    },
    {
     "data": {
      "image/png": "[encoded data removed]",
      "text/plain": [
       "<matplotlib.figure.Figure at 0x277c6786c88>"
      ]
     },
     "metadata": {},
     "output_type": "display_data"
    }
   ],
   "source": [
    "att_sales = absolute_correlations('Attrition', df=sales, asc=True).T\n",
    "\n",
    "# Remove job role and dept\n",
    "att_sales = att_sales[[i for i in att_sales.columns if \"JobRole\" not in i and \"Department\" not in i]].T\n",
    "\n",
    "att_sales[np.abs(att_sales.correlation) > .1].plot(kind='barh', legend=False,\n",
    "                                       figsize=(10,5),\n",
    "                                       title='Sales: Correlations with Attrition')"
   ]
  },
  {
   "cell_type": "markdown",
   "metadata": {},
   "source": [
    "People in sales don't like overtime or traveling. It's interesting how *single* salespeople are more likely to leave. I would've expected the married folks to miss their families. This is why we analyze our data!"
   ]
  },
  {
   "cell_type": "markdown",
   "metadata": {},
   "source": [
    "# Manager Recommendations\n",
    "\n",
    "The model above is great for identifying employees at risk of leaving. But we should still pass along some guidelines to managers so they can reduce attrition risk on a day-to-day basis.\n",
    "\n",
    "To do this, I think a decision tree is the most appropriate technique."
   ]
  },
  {
   "cell_type": "code",
   "execution_count": 34,
   "metadata": {
    "collapsed": false
   },
   "outputs": [
    {
     "data": {
      "image/png": "[encoded data removed]",
      "text/plain": [
       "<IPython.core.display.Image object>"
      ]
     },
     "execution_count": 34,
     "metadata": {},
     "output_type": "execute_result"
    }
   ],
   "source": [
    "from sklearn.tree import DecisionTreeClassifier, export_graphviz\n",
    "from IPython.display import Image  \n",
    "import pydotplus\n",
    "\n",
    "# I also tried a max_depth of 3, but 2 works just about as well here\n",
    "tree = DecisionTreeClassifier(max_depth=2).fit(x,y)\n",
    "\n",
    "dot_data = export_graphviz(tree, out_file=None, \n",
    "                         feature_names=x.columns,  \n",
    "                         class_names=['Stay', 'Leave'],  \n",
    "                         filled=True, rounded=True,  \n",
    "                         special_characters=True)  \n",
    "\n",
    "graph = pydotplus.graph_from_dot_data(dot_data)\n",
    "\n",
    "Image(graph.create_png())"
   ]
  },
  {
   "cell_type": "markdown",
   "metadata": {},
   "source": [
    "This actually gives us a very simple rule of thumb: if an employee is working overtime and making less than $2475/month, they have nearly a 70% chance of leaving.\n",
    "\n",
    "The other valuable insight is that it's the new employees that are turning over at an increased rate. We might be able to address this by changing the our selection procedures, and finding people who are a better fit for the company. Or create a better onboarding process so new hires feel integrated into their teams and valued at the workplace."
   ]
  }
 ],
 "metadata": {
  "kernelspec": {
   "display_name": "Python 3",
   "language": "python",
   "name": "python3"
  },
  "language_info": {
   "codemirror_mode": {
    "name": "ipython",
    "version": 3
   },
   "file_extension": ".py",
   "mimetype": "text/x-python",
   "name": "python",
   "nbconvert_exporter": "python",
   "pygments_lexer": "ipython3",
   "version": "3.6.0"
  }
 },
 "nbformat": 4,
 "nbformat_minor": 2
}
