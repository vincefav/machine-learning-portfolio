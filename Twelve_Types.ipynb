{
 "cells": [
  {
   "cell_type": "markdown",
   "metadata": {},
   "source": [
    "# 12 Types of People\n",
    "#### A Tour of Unstructured Data\n",
    "\n",
    " \n",
    "I scraped the profiles of several thousand users on a popular website. Among the data on each profile is their favorite books, movies, TV shows, and even food. But this data is hard to make sense of; it's just a list of words.\n",
    "\n",
    "Using some natural language processing, however, we can tame this data and discover some interesting insights."
   ]
  },
  {
   "cell_type": "code",
   "execution_count": 1,
   "metadata": {
    "collapsed": false
   },
   "outputs": [
    {
     "name": "stdout",
     "output_type": "stream",
     "text": [
      "Populating the interactive namespace from numpy and matplotlib\n"
     ]
    }
   ],
   "source": [
    "import pandas as pd\n",
    "\n",
    "from nltk.stem import SnowballStemmer\n",
    "from nltk.tokenize import word_tokenize\n",
    "from nltk.corpus import stopwords\n",
    "from string import punctuation, digits\n",
    "\n",
    "from sklearn.cluster import KMeans\n",
    "from sklearn.feature_extraction.text import CountVectorizer\n",
    "from sklearn.metrics import recall_score, accuracy_score\n",
    "\n",
    "from collections import Counter\n",
    "\n",
    "import matplotlib.pyplot as plt\n",
    "import seaborn as sns\n",
    "\n",
    "%pylab inline"
   ]
  },
  {
   "cell_type": "code",
   "execution_count": 2,
   "metadata": {
    "collapsed": false
   },
   "outputs": [
    {
     "name": "stdout",
     "output_type": "stream",
     "text": [
      "Shape: (7116, 2)\n",
      "Columns: Index(['favorites', 'length'], dtype='object')\n"
     ]
    },
    {
     "data": {
      "text/html": [
       "<div>\n",
       "<style scoped>\n",
       "    .dataframe tbody tr th:only-of-type {\n",
       "        vertical-align: middle;\n",
       "    }\n",
       "\n",
       "    .dataframe tbody tr th {\n",
       "        vertical-align: top;\n",
       "    }\n",
       "\n",
       "    .dataframe thead th {\n",
       "        text-align: right;\n",
       "    }\n",
       "</style>\n",
       "<table border=\"1\" class=\"dataframe\">\n",
       "  <thead>\n",
       "    <tr style=\"text-align: right;\">\n",
       "      <th></th>\n",
       "      <th>favorites</th>\n",
       "      <th>length</th>\n",
       "    </tr>\n",
       "  </thead>\n",
       "  <tbody>\n",
       "    <tr>\n",
       "      <th>1763</th>\n",
       "      <td>BOOKS-Sleeping Arrangements, The Great Gatspy,...</td>\n",
       "      <td>652</td>\n",
       "    </tr>\n",
       "    <tr>\n",
       "      <th>3157</th>\n",
       "      <td>*No time for pleasure reading these days. Micr...</td>\n",
       "      <td>371</td>\n",
       "    </tr>\n",
       "    <tr>\n",
       "      <th>4716</th>\n",
       "      <td>My TV/Movie Heroes include:* Red Reddington fr...</td>\n",
       "      <td>320</td>\n",
       "    </tr>\n",
       "    <tr>\n",
       "      <th>5200</th>\n",
       "      <td>Fav books- most of Melody AnneMovies- so many,...</td>\n",
       "      <td>473</td>\n",
       "    </tr>\n",
       "    <tr>\n",
       "      <th>6731</th>\n",
       "      <td>Books:(So far what I have read, or read Most o...</td>\n",
       "      <td>440</td>\n",
       "    </tr>\n",
       "  </tbody>\n",
       "</table>\n",
       "</div>"
      ],
      "text/plain": [
       "                                              favorites  length\n",
       "1763  BOOKS-Sleeping Arrangements, The Great Gatspy,...     652\n",
       "3157  *No time for pleasure reading these days. Micr...     371\n",
       "4716  My TV/Movie Heroes include:* Red Reddington fr...     320\n",
       "5200  Fav books- most of Melody AnneMovies- so many,...     473\n",
       "6731  Books:(So far what I have read, or read Most o...     440"
      ]
     },
     "execution_count": 2,
     "metadata": {},
     "output_type": "execute_result"
    }
   ],
   "source": [
    "# I've pre-wrangled and saved the data, but we'll still need to do a bit more work\n",
    "\n",
    "data = pd.read_csv('favorites_data.csv')\n",
    "del data['Unnamed: 0']\n",
    "\n",
    "# Dataframe info\n",
    "print('Shape:',data.shape)\n",
    "print('Columns:', data.columns)\n",
    "\n",
    "# Sample entries\n",
    "data.sample(5)"
   ]
  },
  {
   "cell_type": "code",
   "execution_count": 3,
   "metadata": {
    "collapsed": false
   },
   "outputs": [
    {
     "data": {
      "text/plain": [
       "(7116, 2)"
      ]
     },
     "execution_count": 3,
     "metadata": {},
     "output_type": "execute_result"
    }
   ],
   "source": [
    "for i in punctuation:\n",
    "    data['favorites'] = data['favorites'].str.replace(i, ' ')\n",
    "    \n",
    "data['favorites'] = data['favorites'].str.lower()\n",
    "\n",
    "data = data[data.length > 2]\n",
    "\n",
    "data.shape"
   ]
  },
  {
   "cell_type": "code",
   "execution_count": 4,
   "metadata": {
    "collapsed": false
   },
   "outputs": [
    {
     "data": {
      "text/plain": [
       "TfidfVectorizer(analyzer='word', binary=False, decode_error='strict',\n",
       "        dtype=<class 'numpy.int64'>, encoding='utf-8', input='content',\n",
       "        lowercase=True, max_df=0.15, max_features=None, min_df=2,\n",
       "        ngram_range=(1, 1), norm='l2', preprocessor=None, smooth_idf=True,\n",
       "        stop_words=None, strip_accents=None, sublinear_tf=False,\n",
       "        token_pattern='(?u)\\\\b\\\\w\\\\w+\\\\b', tokenizer=None, use_idf=True,\n",
       "        vocabulary=None)"
      ]
     },
     "execution_count": 4,
     "metadata": {},
     "output_type": "execute_result"
    }
   ],
   "source": [
    "from sklearn.feature_extraction.text import TfidfVectorizer\n",
    "\n",
    "tf = TfidfVectorizer(max_df=.15, min_df=2)\n",
    "\n",
    "tf.fit(data.favorites)"
   ]
  },
  {
   "cell_type": "code",
   "execution_count": 5,
   "metadata": {
    "collapsed": false
   },
   "outputs": [],
   "source": [
    "def text_process(text, tf_stop_words):\n",
    "    \n",
    "    # Tfidf stopwords\n",
    "    cleaned = [word for word in text.split() if word not in tf_stop_words]\n",
    "    \n",
    "    # NLTK stopwords\n",
    "    cleaned = [word for word in cleaned if word not in stopwords.words('english')]\n",
    "    \n",
    "    cleaned = [word for word in cleaned if len(word) > 1]\n",
    "    \n",
    "    return cleaned\n",
    "\n",
    "\n",
    "data['favorites'] = data['favorites'].apply(text_process, tf_stop_words=tf.stop_words_)"
   ]
  },
  {
   "cell_type": "code",
   "execution_count": 6,
   "metadata": {
    "collapsed": false
   },
   "outputs": [
    {
     "data": {
      "text/plain": [
       "6509    [enjoy, military, history, literature, current...\n",
       "5836    [filme, serien, series, homeland, hannibal, tr...\n",
       "26      [many, hard, list, reader, whole, life, raised...\n",
       "4627    [lot, gym, interest, go, fried, foods, want, g...\n",
       "484     [regular, chick, flicks, note, book, great, ga...\n",
       "Name: favorites, dtype: object"
      ]
     },
     "execution_count": 6,
     "metadata": {},
     "output_type": "execute_result"
    }
   ],
   "source": [
    "data['favorites'].sample(5)"
   ]
  },
  {
   "cell_type": "code",
   "execution_count": 7,
   "metadata": {
    "collapsed": false
   },
   "outputs": [
    {
     "data": {
      "text/plain": [
       "[('things', 1250),\n",
       " ('big', 1164),\n",
       " ('one', 1152),\n",
       " ('book', 1129),\n",
       " ('many', 1128),\n",
       " ('lot', 1102),\n",
       " ('enjoy', 1100),\n",
       " ('series', 1092),\n",
       " ('black', 1046),\n",
       " ('pretty', 1046),\n",
       " ('everything', 1046),\n",
       " ('reading', 1045),\n",
       " ('movie', 1032),\n",
       " ('dead', 1003),\n",
       " ('thrones', 992),\n",
       " ('life', 988),\n",
       " ('american', 961),\n",
       " ('fiction', 959),\n",
       " ('house', 938),\n",
       " ('always', 933),\n",
       " ('show', 924),\n",
       " ('horror', 908),\n",
       " ('listen', 891),\n",
       " ('list', 857),\n",
       " ('eat', 817),\n",
       " ('country', 812),\n",
       " ('get', 795),\n",
       " ('etc', 792),\n",
       " ('bad', 775),\n",
       " ('harry', 771),\n",
       " ('favorites', 737),\n",
       " ('star', 730),\n",
       " ('go', 714),\n",
       " ('potter', 711),\n",
       " ('know', 704),\n",
       " ('stuff', 694),\n",
       " ('sushi', 688),\n",
       " ('old', 657),\n",
       " ('walking', 650),\n",
       " ('try', 641)]"
      ]
     },
     "execution_count": 7,
     "metadata": {},
     "output_type": "execute_result"
    }
   ],
   "source": [
    "things_liked = list(data['favorites'])\n",
    "\n",
    "# Expand list of lists\n",
    "everything_liked = [item for user in things_liked for item in user]\n",
    "\n",
    "results = Counter(everything_liked)\n",
    "results.most_common(40)"
   ]
  },
  {
   "cell_type": "markdown",
   "metadata": {
    "collapsed": false
   },
   "source": [
    "This a bag-of-words approach so it requires some pop-culture domain knowledge to interpret. Here's what I notice in the list:\n",
    "\n",
    "1. Rock music\n",
    "2. Game of Thrones\n",
    "3. The Walking Dead\n",
    "4. Harry Potter\n",
    "5. Sushi\n",
    "6. Italian food\n",
    "7. Pop music\n",
    "8. Thai food\n",
    "9. Mexican food\n",
    "10. Hip-hop music\n",
    " \n",
    "Things that \"might\" be mentioned (in no particular order):\n",
    "1. This American Life\n",
    "2. Black Mirror\n",
    "3. Orange is the New Black\n",
    "4. Clockwork Orange\n",
    "5. American Horror Story\n",
    "6. House, M.D.\n",
    "7. House music\n",
    "8. Star Wars\n",
    "9. Star Trek\n",
    "10. Family Guy\n",
    "11. Modern Family\n",
    "\n",
    "These are my educated guesses. People might be huge fans of *Little House on the Prairie*, but I doubt it."
   ]
  },
  {
   "cell_type": "markdown",
   "metadata": {},
   "source": [
    "# Creating the DataFrame\n",
    "This is where the real magic happens. I iterate over each word used, then (if necessary) create a new column with that word and assign it a value of 1. We can then look at correlations and create a simple recommender system.\n",
    "\n",
    "I saved the results to a csv, then put the code in a function. I only needed to run it once."
   ]
  },
  {
   "cell_type": "code",
   "execution_count": 8,
   "metadata": {
    "collapsed": false
   },
   "outputs": [],
   "source": [
    "def favorites_df(mentions=20, save=True):\n",
    "    df = pd.DataFrame()\n",
    "\n",
    "    for i in range(len(data)):\n",
    "\n",
    "        for j in things_liked[i]:\n",
    "            if results[j] >= mentions: #set a threshold\n",
    "                df.at[i, j] = 1\n",
    "\n",
    "    df.fillna(0, inplace=True)\n",
    "    \n",
    "    if save == True:\n",
    "        df.to_csv('favorites_processed.csv', encoding='utf-8')\n",
    "    \n",
    "    return df"
   ]
  },
  {
   "cell_type": "code",
   "execution_count": 9,
   "metadata": {
    "collapsed": false
   },
   "outputs": [
    {
     "data": {
      "text/html": [
       "<div>\n",
       "<style scoped>\n",
       "    .dataframe tbody tr th:only-of-type {\n",
       "        vertical-align: middle;\n",
       "    }\n",
       "\n",
       "    .dataframe tbody tr th {\n",
       "        vertical-align: top;\n",
       "    }\n",
       "\n",
       "    .dataframe thead th {\n",
       "        text-align: right;\n",
       "    }\n",
       "</style>\n",
       "<table border=\"1\" class=\"dataframe\">\n",
       "  <thead>\n",
       "    <tr style=\"text-align: right;\">\n",
       "      <th></th>\n",
       "      <th>broken</th>\n",
       "      <th>social</th>\n",
       "      <th>get</th>\n",
       "      <th>scissorhands</th>\n",
       "      <th>italo</th>\n",
       "      <th>calvino</th>\n",
       "      <th>dorothy</th>\n",
       "      <th>parker</th>\n",
       "      <th>forster</th>\n",
       "      <th>seen</th>\n",
       "      <th>...</th>\n",
       "      <th>mccaffrey</th>\n",
       "      <th>wwe</th>\n",
       "      <th>mobile</th>\n",
       "      <th>sevendust</th>\n",
       "      <th>whovian</th>\n",
       "      <th>viking</th>\n",
       "      <th>♪♫</th>\n",
       "      <th>msi</th>\n",
       "      <th>battlefield</th>\n",
       "      <th>1993</th>\n",
       "    </tr>\n",
       "  </thead>\n",
       "  <tbody>\n",
       "    <tr>\n",
       "      <th>0</th>\n",
       "      <td>1.0</td>\n",
       "      <td>1.0</td>\n",
       "      <td>1.0</td>\n",
       "      <td>1.0</td>\n",
       "      <td>0.0</td>\n",
       "      <td>0.0</td>\n",
       "      <td>0.0</td>\n",
       "      <td>0.0</td>\n",
       "      <td>0.0</td>\n",
       "      <td>0.0</td>\n",
       "      <td>...</td>\n",
       "      <td>0.0</td>\n",
       "      <td>0.0</td>\n",
       "      <td>0.0</td>\n",
       "      <td>0.0</td>\n",
       "      <td>0.0</td>\n",
       "      <td>0.0</td>\n",
       "      <td>0.0</td>\n",
       "      <td>0.0</td>\n",
       "      <td>0.0</td>\n",
       "      <td>0.0</td>\n",
       "    </tr>\n",
       "    <tr>\n",
       "      <th>1</th>\n",
       "      <td>0.0</td>\n",
       "      <td>0.0</td>\n",
       "      <td>0.0</td>\n",
       "      <td>0.0</td>\n",
       "      <td>1.0</td>\n",
       "      <td>1.0</td>\n",
       "      <td>1.0</td>\n",
       "      <td>1.0</td>\n",
       "      <td>1.0</td>\n",
       "      <td>1.0</td>\n",
       "      <td>...</td>\n",
       "      <td>0.0</td>\n",
       "      <td>0.0</td>\n",
       "      <td>0.0</td>\n",
       "      <td>0.0</td>\n",
       "      <td>0.0</td>\n",
       "      <td>0.0</td>\n",
       "      <td>0.0</td>\n",
       "      <td>0.0</td>\n",
       "      <td>0.0</td>\n",
       "      <td>0.0</td>\n",
       "    </tr>\n",
       "    <tr>\n",
       "      <th>2</th>\n",
       "      <td>0.0</td>\n",
       "      <td>0.0</td>\n",
       "      <td>0.0</td>\n",
       "      <td>0.0</td>\n",
       "      <td>0.0</td>\n",
       "      <td>0.0</td>\n",
       "      <td>0.0</td>\n",
       "      <td>0.0</td>\n",
       "      <td>0.0</td>\n",
       "      <td>0.0</td>\n",
       "      <td>...</td>\n",
       "      <td>0.0</td>\n",
       "      <td>0.0</td>\n",
       "      <td>0.0</td>\n",
       "      <td>0.0</td>\n",
       "      <td>0.0</td>\n",
       "      <td>0.0</td>\n",
       "      <td>0.0</td>\n",
       "      <td>0.0</td>\n",
       "      <td>0.0</td>\n",
       "      <td>0.0</td>\n",
       "    </tr>\n",
       "  </tbody>\n",
       "</table>\n",
       "<p>3 rows × 8584 columns</p>\n",
       "</div>"
      ],
      "text/plain": [
       "   broken  social  get  scissorhands  italo  calvino  dorothy  parker  \\\n",
       "0     1.0     1.0  1.0           1.0    0.0      0.0      0.0     0.0   \n",
       "1     0.0     0.0  0.0           0.0    1.0      1.0      1.0     1.0   \n",
       "2     0.0     0.0  0.0           0.0    0.0      0.0      0.0     0.0   \n",
       "\n",
       "   forster  seen  ...   mccaffrey  wwe  mobile  sevendust  whovian  viking  \\\n",
       "0      0.0   0.0  ...         0.0  0.0     0.0        0.0      0.0     0.0   \n",
       "1      1.0   1.0  ...         0.0  0.0     0.0        0.0      0.0     0.0   \n",
       "2      0.0   0.0  ...         0.0  0.0     0.0        0.0      0.0     0.0   \n",
       "\n",
       "    ♪♫  msi  battlefield  1993  \n",
       "0  0.0  0.0          0.0   0.0  \n",
       "1  0.0  0.0          0.0   0.0  \n",
       "2  0.0  0.0          0.0   0.0  \n",
       "\n",
       "[3 rows x 8584 columns]"
      ]
     },
     "execution_count": 9,
     "metadata": {},
     "output_type": "execute_result"
    }
   ],
   "source": [
    "# Retrieving the csv I saved with the previous function\n",
    "df = pd.read_csv('favorites_processed.csv')\n",
    "del df['Unnamed: 0'] # import bug\n",
    "\n",
    "df.head(3)"
   ]
  },
  {
   "cell_type": "code",
   "execution_count": 10,
   "metadata": {
    "collapsed": false
   },
   "outputs": [],
   "source": [
    "def corrs(corr_item=df['thrones'], df=df):\n",
    "    '''\n",
    "    Finds correlated words, then sorts by absolute value to account for\n",
    "    strong negative correlations.\n",
    "    '''\n",
    "    cor = df.select_dtypes(include=[np.number]).corrwith(corr_item)\n",
    "    df = pd.DataFrame(cor.sort_values(ascending=False),columns=['corr'])\n",
    "    df['absol'] = np.abs(df['corr'])\n",
    "    return df[df.absol < 1].sort_values('absol', ascending=False)['corr']         "
   ]
  },
  {
   "cell_type": "code",
   "execution_count": 11,
   "metadata": {
    "collapsed": false
   },
   "outputs": [],
   "source": [
    "# Titles that were ambiguous from our top results, or might\n",
    "# otherwise be hard to find. Not perfect, but works well enough.\n",
    "\n",
    "df['always_sunny'] = np.where((df.always == 1) & (df.sunny == 1), 1, 0)\n",
    "df['american_dad'] = np.where((df.american == 1) & (df.dad == 1) & (df.horror == 0), 1, 0)\n",
    "df['american_horror_story'] = np.where((df.american == 1) & (df.dad == 0) & (df.horror == 1), 1, 0)\n",
    "df['big_bang_theory'] = np.where((df.bang == 1) & (df.theory == 1), 1, 0)\n",
    "df['black_mirror'] = np.where((df.black == 1) & (df.mirror == 1), 1, 0)\n",
    "df['clockwork_orange'] = np.where((df.clockwork == 1) & (df.orange == 1), 1, 0)\n",
    "\n",
    "# People love to point out that they hate country music.\n",
    "df['country'] = np.where((df.country == 1) & (df['except'] == 0), 1, 0) \n",
    "\n",
    "df['crazy_ex_girlfriend'] = np.where((df.crazy == 1) & (df.ex == 1), 1, 0)\n",
    "df['criminal_minds'] = np.where((df.criminal == 1) & (df.minds == 1), 1, 0)\n",
    "df['family_guy'] = np.where((df.family == 1) & (df.guy == 1), 1, 0)\n",
    "df['final_fantasy'] = np.where((df.final == 1) & (df.fantasy == 1), 1, 0)\n",
    "df['lord_of_the_rings'] = np.where((df.lord == 1) & (df.rings == 1), 1, 0)\n",
    "df['modern_family'] = np.where((df.modern == 1) & (df.family == 1), 1, 0)\n",
    "df['name_of_the_wind'] = np.where((df.wind == 1) & (df.name == 1), 1, 0) # My favorite book!\n",
    "df['orange_is_the_new_black'] = np.where((df.black == 1) & (df.orange == 1), 1, 0)\n",
    "df['pans_labyrinth'] = np.where((df.pan == 1) & (df.labyrinth == 1), 1, 0)\n",
    "df['princess_bride'] = np.where((df.princess == 1) & (df.bride == 1), 1, 0)\n",
    "df['south_park'] = np.where((df.south == 1) & (df.park == 1), 1, 0)\n",
    "df['star_trek'] = np.where((df.star == 1) & (df.trek == 1), 1, 0) # Really, \"trek\" would be enough.\n",
    "df['star_wars'] = np.where((df.star == 1) & (df.wars == 1), 1, 0)\n",
    "df['the_office'] = np.where((df.office == 1) & (df.space == 0), 1, 0)\n",
    "df['this_american_life'] = np.where((df.american == 1) & (df.life == 1), 1, 0)\n",
    "df['whose_line'] = np.where((df.whose == 1) & (df.line == 1), 1, 0)\n",
    "df['fight_club'] = np.where((df.fight == 1) & (df.club == 1), 1, 0)\n",
    "df['game_of_thrones'] = df.thrones\n",
    "\n",
    "# Just tidying these up because they'll appear in the next cells otherwise\n",
    "del df['thrones']\n",
    "del df['fight']\n",
    "del df['club']\n",
    "\n",
    "# One of my favorite shows, and a huge pain to search for!\n",
    "df['lost_tv_show'] = np.where((df.lost == 1) & (df.translation == 0) &\\\n",
    "                              (df.boys == 0) & (df.paradise == 0) &\\\n",
    "                              (df.getting == 0) & (df.world == 0) &\\\n",
    "                              (df.souls == 0) & (df.children == 0) &\\\n",
    "                              (df.girl == 0), 1, 0)\n"
   ]
  },
  {
   "cell_type": "markdown",
   "metadata": {},
   "source": [
    "We can look at similarity in two ways; either by calculating correlations or cosine difference. Most recommender systems I've seen prefer cosine difference because it handles missing ratings more elegantly."
   ]
  },
  {
   "cell_type": "code",
   "execution_count": 12,
   "metadata": {
    "collapsed": false
   },
   "outputs": [
    {
     "data": {
      "text/plain": [
       "matrix          0.131429\n",
       "interstellar    0.126217\n",
       "memento         0.111756\n",
       "500             0.104910\n",
       "linkin          0.102768\n",
       "fight_club      0.100888\n",
       "knight          0.099501\n",
       "julian          0.089933\n",
       "assassin        0.088461\n",
       "hunting         0.087742\n",
       "Name: corr, dtype: float64"
      ]
     },
     "execution_count": 12,
     "metadata": {},
     "output_type": "execute_result"
    }
   ],
   "source": [
    "corrs(df.inception).head(10)"
   ]
  },
  {
   "cell_type": "code",
   "execution_count": 13,
   "metadata": {
    "collapsed": false
   },
   "outputs": [
    {
     "data": {
      "text/html": [
       "<div>\n",
       "<style scoped>\n",
       "    .dataframe tbody tr th:only-of-type {\n",
       "        vertical-align: middle;\n",
       "    }\n",
       "\n",
       "    .dataframe tbody tr th {\n",
       "        vertical-align: top;\n",
       "    }\n",
       "\n",
       "    .dataframe thead th {\n",
       "        text-align: right;\n",
       "    }\n",
       "</style>\n",
       "<table border=\"1\" class=\"dataframe\">\n",
       "  <thead>\n",
       "    <tr style=\"text-align: right;\">\n",
       "      <th></th>\n",
       "      <th>0</th>\n",
       "    </tr>\n",
       "  </thead>\n",
       "  <tbody>\n",
       "    <tr>\n",
       "      <th>matrix</th>\n",
       "      <td>0.144138</td>\n",
       "    </tr>\n",
       "    <tr>\n",
       "      <th>interstellar</th>\n",
       "      <td>0.135185</td>\n",
       "    </tr>\n",
       "    <tr>\n",
       "      <th>memento</th>\n",
       "      <td>0.121933</td>\n",
       "    </tr>\n",
       "    <tr>\n",
       "      <th>fight_club</th>\n",
       "      <td>0.119808</td>\n",
       "    </tr>\n",
       "    <tr>\n",
       "      <th>game_of_thrones</th>\n",
       "      <td>0.118384</td>\n",
       "    </tr>\n",
       "    <tr>\n",
       "      <th>500</th>\n",
       "      <td>0.114708</td>\n",
       "    </tr>\n",
       "    <tr>\n",
       "      <th>knight</th>\n",
       "      <td>0.112956</td>\n",
       "    </tr>\n",
       "    <tr>\n",
       "      <th>linkin</th>\n",
       "      <td>0.111694</td>\n",
       "    </tr>\n",
       "    <tr>\n",
       "      <th>potter</th>\n",
       "      <td>0.109619</td>\n",
       "    </tr>\n",
       "    <tr>\n",
       "      <th>men</th>\n",
       "      <td>0.106430</td>\n",
       "    </tr>\n",
       "  </tbody>\n",
       "</table>\n",
       "</div>"
      ],
      "text/plain": [
       "                        0\n",
       "matrix           0.144138\n",
       "interstellar     0.135185\n",
       "memento          0.121933\n",
       "fight_club       0.119808\n",
       "game_of_thrones  0.118384\n",
       "500              0.114708\n",
       "knight           0.112956\n",
       "linkin           0.111694\n",
       "potter           0.109619\n",
       "men              0.106430"
      ]
     },
     "execution_count": 13,
     "metadata": {},
     "output_type": "execute_result"
    }
   ],
   "source": [
    "from scipy.spatial.distance import cosine\n",
    "\n",
    "def get_cosine(title):\n",
    "    cos = {}\n",
    "    for i in df.columns:\n",
    "        cos[i] = 1 - cosine(df[title], df[i])\n",
    "\n",
    "    cos = pd.DataFrame([cos]).T.sort_values(0, ascending=False)\n",
    "\n",
    "    return cos[(cos[0] < 1)].head(10)\n",
    "\n",
    "get_cosine('inception')"
   ]
  },
  {
   "cell_type": "markdown",
   "metadata": {},
   "source": [
    "The difference between these methods is actually minimal. People who like Inception also tend to like:\n",
    "- The Matrix\n",
    "- Interstellar\n",
    "- Memento\n",
    "- 500 Days of Summer\n",
    "- Linkin Park\n",
    "- The Dark Knight\n",
    "- Fight Club\n",
    "- Harry Potter\n",
    "- Game of Thrones"
   ]
  },
  {
   "cell_type": "markdown",
   "metadata": {},
   "source": [
    "# Clusters\n",
    "What if there are certain \"types\" of people in terms of personal tastes? A cluster analysis could uncover this."
   ]
  },
  {
   "cell_type": "code",
   "execution_count": 14,
   "metadata": {
    "collapsed": false
   },
   "outputs": [],
   "source": [
    "# Create a new dataframe. We need to increase the popularity\n",
    "# threshold to 50 to reduce dimensionality.\n",
    "\n",
    "df_popular = favorites_df(mentions=50, save=False)"
   ]
  },
  {
   "cell_type": "code",
   "execution_count": 15,
   "metadata": {
    "collapsed": false
   },
   "outputs": [
    {
     "data": {
      "text/plain": [
       "(7083, 1476)"
      ]
     },
     "execution_count": 15,
     "metadata": {},
     "output_type": "execute_result"
    }
   ],
   "source": [
    "df_popular.shape"
   ]
  },
  {
   "cell_type": "markdown",
   "metadata": {},
   "source": [
    "There's no avoiding it: We'll have to reduce the number of dimensions in order to perform a cluster analysis. Let's see if we can find a point of diminishing returns."
   ]
  },
  {
   "cell_type": "code",
   "execution_count": 16,
   "metadata": {
    "collapsed": false
   },
   "outputs": [],
   "source": [
    "from sklearn.decomposition import PCA\n",
    "\n",
    "variance_dict = {}\n",
    "\n",
    "for i in range(1,1100,100):\n",
    "    pca = PCA(n_components=i, whiten=True).fit(df_popular)\n",
    "    variance_dict[i] = sum(pca.explained_variance_ratio_)"
   ]
  },
  {
   "cell_type": "code",
   "execution_count": 17,
   "metadata": {
    "collapsed": false
   },
   "outputs": [
    {
     "data": {
      "image/png": "[encoded data removed]",
      "text/plain": [
       "<matplotlib.figure.Figure at 0x2c69e25db38>"
      ]
     },
     "metadata": {},
     "output_type": "display_data"
    }
   ],
   "source": [
    "vdf = pd.DataFrame([variance_dict]).T.plot()"
   ]
  },
  {
   "cell_type": "markdown",
   "metadata": {},
   "source": [
    "There's an elbow at approximately 100, but that's still too many features for this data set."
   ]
  },
  {
   "cell_type": "code",
   "execution_count": 18,
   "metadata": {
    "collapsed": false
   },
   "outputs": [
    {
     "data": {
      "text/plain": [
       "<matplotlib.axes._subplots.AxesSubplot at 0x2c69e3990b8>"
      ]
     },
     "execution_count": 18,
     "metadata": {},
     "output_type": "execute_result"
    },
    {
     "data": {
      "image/png": "[encoded data removed]",
      "text/plain": [
       "<matplotlib.figure.Figure at 0x2c69e24cc88>"
      ]
     },
     "metadata": {},
     "output_type": "display_data"
    }
   ],
   "source": [
    "variance_dict = {}\n",
    "\n",
    "for i in range(1,210,20):\n",
    "    pca = PCA(n_components=i, whiten=True).fit(df_popular)\n",
    "    variance_dict[i] = sum(pca.explained_variance_ratio_)\n",
    "    \n",
    "pd.DataFrame([variance_dict]).T.plot()"
   ]
  },
  {
   "cell_type": "markdown",
   "metadata": {},
   "source": [
    "20 appears to be another good option. However, after much trial and error, I discovered that it's most effective to capture about 10% of the variance with only 10 features. It makes our clustering decisions much easier."
   ]
  },
  {
   "cell_type": "code",
   "execution_count": 19,
   "metadata": {
    "collapsed": false
   },
   "outputs": [
    {
     "name": "stdout",
     "output_type": "stream",
     "text": [
      "PCA explained variance: 0.09000227274426262\n",
      "Shape: (7083, 10)\n"
     ]
    }
   ],
   "source": [
    "pca = PCA(n_components=10, whiten=True).fit(df_popular)\n",
    "\n",
    "dframe = pca.transform(df_popular)\n",
    "\n",
    "print('PCA explained variance:', sum(pca.explained_variance_ratio_))\n",
    "print('Shape:', dframe.shape)"
   ]
  },
  {
   "cell_type": "markdown",
   "metadata": {},
   "source": [
    "We're only catching a tiny fraction of the variance, but it'll have to do.\n",
    "\n",
    "Next question: How many clusters should we have?"
   ]
  },
  {
   "cell_type": "code",
   "execution_count": 20,
   "metadata": {
    "collapsed": false
   },
   "outputs": [
    {
     "data": {
      "text/html": [
       "<div>\n",
       "<style scoped>\n",
       "    .dataframe tbody tr th:only-of-type {\n",
       "        vertical-align: middle;\n",
       "    }\n",
       "\n",
       "    .dataframe tbody tr th {\n",
       "        vertical-align: top;\n",
       "    }\n",
       "\n",
       "    .dataframe thead th {\n",
       "        text-align: right;\n",
       "    }\n",
       "</style>\n",
       "<table border=\"1\" class=\"dataframe\">\n",
       "  <thead>\n",
       "    <tr style=\"text-align: right;\">\n",
       "      <th></th>\n",
       "      <th>inertia</th>\n",
       "      <th>improvement</th>\n",
       "    </tr>\n",
       "  </thead>\n",
       "  <tbody>\n",
       "    <tr>\n",
       "      <th>2</th>\n",
       "      <td>65533.719015</td>\n",
       "      <td>NaN</td>\n",
       "    </tr>\n",
       "    <tr>\n",
       "      <th>3</th>\n",
       "      <td>60678.536845</td>\n",
       "      <td>0.074087</td>\n",
       "    </tr>\n",
       "    <tr>\n",
       "      <th>4</th>\n",
       "      <td>56775.822920</td>\n",
       "      <td>0.064318</td>\n",
       "    </tr>\n",
       "    <tr>\n",
       "      <th>5</th>\n",
       "      <td>52999.465204</td>\n",
       "      <td>0.066513</td>\n",
       "    </tr>\n",
       "    <tr>\n",
       "      <th>6</th>\n",
       "      <td>50154.666485</td>\n",
       "      <td>0.053676</td>\n",
       "    </tr>\n",
       "    <tr>\n",
       "      <th>7</th>\n",
       "      <td>47747.634201</td>\n",
       "      <td>0.047992</td>\n",
       "    </tr>\n",
       "    <tr>\n",
       "      <th>8</th>\n",
       "      <td>45663.922456</td>\n",
       "      <td>0.043640</td>\n",
       "    </tr>\n",
       "    <tr>\n",
       "      <th>9</th>\n",
       "      <td>43839.362268</td>\n",
       "      <td>0.039956</td>\n",
       "    </tr>\n",
       "    <tr>\n",
       "      <th>10</th>\n",
       "      <td>42184.491507</td>\n",
       "      <td>0.037749</td>\n",
       "    </tr>\n",
       "    <tr>\n",
       "      <th>11</th>\n",
       "      <td>40943.425373</td>\n",
       "      <td>0.029420</td>\n",
       "    </tr>\n",
       "    <tr>\n",
       "      <th>12</th>\n",
       "      <td>40143.887004</td>\n",
       "      <td>0.019528</td>\n",
       "    </tr>\n",
       "    <tr>\n",
       "      <th>13</th>\n",
       "      <td>39398.186476</td>\n",
       "      <td>0.018576</td>\n",
       "    </tr>\n",
       "    <tr>\n",
       "      <th>14</th>\n",
       "      <td>38700.672187</td>\n",
       "      <td>0.017704</td>\n",
       "    </tr>\n",
       "    <tr>\n",
       "      <th>15</th>\n",
       "      <td>38175.702825</td>\n",
       "      <td>0.013565</td>\n",
       "    </tr>\n",
       "    <tr>\n",
       "      <th>16</th>\n",
       "      <td>37492.609913</td>\n",
       "      <td>0.017893</td>\n",
       "    </tr>\n",
       "    <tr>\n",
       "      <th>17</th>\n",
       "      <td>36947.364914</td>\n",
       "      <td>0.014543</td>\n",
       "    </tr>\n",
       "    <tr>\n",
       "      <th>18</th>\n",
       "      <td>36430.087370</td>\n",
       "      <td>0.014000</td>\n",
       "    </tr>\n",
       "    <tr>\n",
       "      <th>19</th>\n",
       "      <td>36078.660983</td>\n",
       "      <td>0.009647</td>\n",
       "    </tr>\n",
       "  </tbody>\n",
       "</table>\n",
       "</div>"
      ],
      "text/plain": [
       "         inertia  improvement\n",
       "2   65533.719015          NaN\n",
       "3   60678.536845     0.074087\n",
       "4   56775.822920     0.064318\n",
       "5   52999.465204     0.066513\n",
       "6   50154.666485     0.053676\n",
       "7   47747.634201     0.047992\n",
       "8   45663.922456     0.043640\n",
       "9   43839.362268     0.039956\n",
       "10  42184.491507     0.037749\n",
       "11  40943.425373     0.029420\n",
       "12  40143.887004     0.019528\n",
       "13  39398.186476     0.018576\n",
       "14  38700.672187     0.017704\n",
       "15  38175.702825     0.013565\n",
       "16  37492.609913     0.017893\n",
       "17  36947.364914     0.014543\n",
       "18  36430.087370     0.014000\n",
       "19  36078.660983     0.009647"
      ]
     },
     "execution_count": 20,
     "metadata": {},
     "output_type": "execute_result"
    }
   ],
   "source": [
    "# Inertia measures the average distance to the nearest centroid.\n",
    "# We want it to be low, but adding more clusters is always going\n",
    "# to reduce it. So we need to find a point of diminishing returns.\n",
    "\n",
    "kdict = {}\n",
    "\n",
    "for i in range(2,20):\n",
    "    clf = KMeans(n_clusters=i)\n",
    "    clf.fit(dframe)\n",
    "    kdict[i] = clf.inertia_\n",
    "\n",
    "kframe = pd.DataFrame([kdict]).T\n",
    "kframe.columns = ['inertia']\n",
    "\n",
    "# Calculate the improvement as a percentage\n",
    "kframe['improvement'] = (kframe['inertia'].shift(1) - kframe['inertia'])/kframe['inertia'].shift(1)\n",
    "\n",
    "kframe"
   ]
  },
  {
   "cell_type": "code",
   "execution_count": 21,
   "metadata": {
    "collapsed": false
   },
   "outputs": [
    {
     "data": {
      "text/plain": [
       "<matplotlib.axes._subplots.AxesSubplot at 0x2c69e3b6208>"
      ]
     },
     "execution_count": 21,
     "metadata": {},
     "output_type": "execute_result"
    },
    {
     "data": {
      "image/png": "[encoded data removed]",
      "text/plain": [
       "<matplotlib.figure.Figure at 0x2c69e3f4780>"
      ]
     },
     "metadata": {},
     "output_type": "display_data"
    }
   ],
   "source": [
    "kframe.improvement.plot()"
   ]
  },
  {
   "cell_type": "markdown",
   "metadata": {},
   "source": [
    "12 appears to be a good number of clusters. We can also run a silhouette analysis to confirm this."
   ]
  },
  {
   "cell_type": "code",
   "execution_count": 22,
   "metadata": {
    "collapsed": false
   },
   "outputs": [
    {
     "name": "stdout",
     "output_type": "stream",
     "text": [
      "2 0.2141392720614083\n",
      "3 0.14638383982559514\n",
      "4 0.0860740576564094\n",
      "5 0.10042117821801128\n",
      "6 0.07777266361374029\n",
      "7 0.10583114110534803\n",
      "8 0.056456553136197136\n",
      "9 0.05911581401568933\n",
      "10 0.030487760350091087\n",
      "11 0.02294034015987766\n",
      "12 0.07169292841440145\n",
      "13 0.042319684641182395\n",
      "14 0.006826721875498327\n",
      "15 0.07012991500912334\n"
     ]
    }
   ],
   "source": [
    "from sklearn.cluster import KMeans\n",
    "from sklearn.metrics import silhouette_score\n",
    "\n",
    "for i in range(2,16):\n",
    "    cl = KMeans(n_clusters=i, random_state=42).fit(df_popular)\n",
    "    print(i, silhouette_score(df_popular, cl.labels_))"
   ]
  },
  {
   "cell_type": "markdown",
   "metadata": {},
   "source": [
    "When the data isn't in obvious clusters, a silhouette score is usually going to favor just 2 clusters. But that's no fun! 5, 7, 12, and 15 all look like good options, so let's stick with 12."
   ]
  },
  {
   "cell_type": "code",
   "execution_count": 23,
   "metadata": {
    "collapsed": false
   },
   "outputs": [
    {
     "data": {
      "text/plain": [
       "KMeans(algorithm='auto', copy_x=True, init='k-means++', max_iter=300,\n",
       "    n_clusters=12, n_init=10, n_jobs=1, precompute_distances='auto',\n",
       "    random_state=None, tol=0.0001, verbose=0)"
      ]
     },
     "execution_count": 23,
     "metadata": {},
     "output_type": "execute_result"
    }
   ],
   "source": [
    "clf = KMeans(n_clusters=12)\n",
    "clf.fit(df_popular)"
   ]
  },
  {
   "cell_type": "code",
   "execution_count": 24,
   "metadata": {
    "collapsed": true
   },
   "outputs": [],
   "source": [
    "df_popular['cluster'] = clf.labels_ + 1 # start counting at 1"
   ]
  },
  {
   "cell_type": "code",
   "execution_count": 25,
   "metadata": {
    "collapsed": false
   },
   "outputs": [],
   "source": [
    "groups = df_popular.groupby('cluster').mean()\n",
    "\n",
    "groups = groups[(groups > .1)]\n",
    "groups.dropna(how='all', axis=1, inplace=True)"
   ]
  },
  {
   "cell_type": "code",
   "execution_count": 26,
   "metadata": {
    "collapsed": true
   },
   "outputs": [],
   "source": [
    "groups = groups.dropna(how='all',axis=1).fillna(0)"
   ]
  },
  {
   "cell_type": "code",
   "execution_count": 28,
   "metadata": {
    "collapsed": false
   },
   "outputs": [
    {
     "name": "stdout",
     "output_type": "stream",
     "text": [
      "Cluster 1\n",
      "get, moment, south, secret, crime, 1984, life, think, series, house, black, family, guy, american, dad, arrested, development, scrubs, breaking, bad, anatomy, walking, dead, upon, metal, horror, things, would, world, night, heart, two, la, soul, history, lot, art, people, john, murder, school, last, pretty, full, different, ice, les, wild, alchemist, little, daily, true, case, modern, men, point, thrones, hunger, great, whole, kill, justice, castle, jane, fire, show, tonight, oliver, harry, potter, songs, club, atlas, perks, seinfeld, mad, hannibal, dexter, burgers, park, story, place, shakespeare, wind, king, pride, room, stewart, angel, away, adams, parks, five, phantom, sherlock, holmes, empire, archer, adventures, supernatural, death, color, tale, jimmy, alice, billy, chris, garden, bob, sense, prince, lord, rings, blue, gone, adventure, ted, attack, count, monte, detective, heroes, frank, blacklist, scandal, dragon, meet, half, wonderland, west, 30, blood, lie, remember, orphan, wing, code, glass, online, oscar, royal, prejudice, met, week, downton, abbey, veep, jon, bible, eyre, brothers, criminal, minds, ncis, looking, games, 13, psych, lost, middle, chicken, buffy, psycho, legend, father, mother, underground, heaven, gatsby, hunter, steven, universe, frankenstein, soup, cannot, recreation, anne, futurama, chronicles, slayer, vampire, diaries, note, darkness, pi, newsroom, firefly, avatar, simpsons, brave, oz, kimmy, schmidt, giver, arrow, unbreakable, together, cloud, stars, cristo, malcolm, \n",
      "\n",
      "Cluster 2\n",
      "house, orange, black, big, american, breaking, bad, walking, dead, things, men, thrones, harry, potter, \n",
      "\n",
      "Cluster 3\n",
      "talk, brown, south, sunshine, series, house, big, bang, family, guy, american, dad, eat, dead, try, cook, chuck, palahniuk, tom, world, mary, singing, heart, hip, star, dream, theory, find, pretty, full, little, dark, talking, child, past, trek, florence, machine, jay, men, dr, hunger, three, michael, chocolate, jane, virgin, show, tonight, city, lana, del, days, harry, potter, first, club, party, galaxy, beat, fast, perks, best, girls, ray, chance, park, boondock, saints, fight, eminem, man, sea, charlie, mars, angel, something, princess, authors, phantom, sherlock, holmes, miss, archer, beauty, opera, punch, white, jimmy, alice, paul, billy, joel, foster, chris, magic, prince, breakfast, mean, batman, adele, baby, dog, bride, jurassic, home, grace, back, future, hours, wonderland, avengers, boy, west, dave, bell, 30, making, lady, perfect, winter, wing, kids, alabama, easy, war, seasons, day, dan, iron, colbert, criminal, minds, games, rush, woman, 13, lost, sucker, angels, caribbean, buffy, stripes, forrest, gump, himym, god, paris, monsters, horrible, hunter, rain, max, america, diaries, rick, notebook, newsroom, drive, alone, steve, sia, simpsons, captain, hour, fantastic, matrix, sweet, ya, ii, \n",
      "\n",
      "Cluster 4\n",
      "\n",
      "\n",
      "Cluster 5\n",
      "favourites, moment, reading, mind, house, cards, big, american, friends, eat, mexican, documentaries, always, stranger, things, live, favourite, italian, shining, john, everything, case, french, jay, modern, 80s, stuff, flight, michael, 90s, show, japanese, first, right, seinfeld, girls, nick, king, van, authors, david, white, fleetwood, mac, paul, simon, hemingway, generally, drake, translation, ted, wine, york, eric, 70s, better, meat, leon, jack, easy, cole, inside, wife, iron, annie, hall, davis, brothers, 13, lost, bowie, father, midnight, paris, anderson, golden, christmas, morrison, fighters, miles, east, ii, message, cloud, \n",
      "\n",
      "Cluster 6\n",
      "get, many, reading, big, always, things, one, fiction, country, lot, listen, book, enjoy, pretty, everything, \n",
      "\n",
      "Cluster 7\n",
      "social, get, reading, life, series, american, arrested, development, person, one, fiction, quite, bit, especially, watching, reggae, two, band, people, open, last, enjoy, pretty, pop, often, comes, yes, except, mostly, ones, men, stuff, season, thrones, westworld, jane, though, romantic, harry, potter, taste, thing, earth, hot, man, funny, wind, lewis, novels, historical, ever, gone, summer, enjoyed, austen, thomas, graphic, better, space, st, memoirs, vincent, middle, original, silicon, valley, wes, anderson, belle, sebastian, scott, robin, terrible, alone, wet, killing, finished, naked, \n",
      "\n",
      "Cluster 8\n",
      "brown, south, life, girl, thai, indian, chinese, documentaries, night, italian, william, true, literature, funk, thrones, late, tree, michael, virgin, show, city, korean, harry, potter, first, blake, cry, park, story, man, hotel, van, studio, queen, sherlock, beauty, street, 12, white, billy, cuisine, sex, lord, arctic, monkeys, amy, winehouse, edward, baby, summer, wine, coldplay, penny, detective, hours, blood, society, war, royal, dan, air, colbert, lost, vincent, muse, motown, sarah, killers, pearl, sia, stephen, disco, aliens, \n",
      "\n",
      "Cluster 9\n",
      "south, mind, think, ask, house, black, order, punk, stranger, things, especially, heart, hip, hop, well, dream, art, open, kendrick, lamar, point, tastes, snow, particular, catcher, park, eminem, major, hell, hotel, rye, mr, robot, red, half, without, keys, war, hill, power, lcd, daft, steven, universe, rick, morty, electric, kitchen, dj, \n",
      "\n",
      "Cluster 10\n",
      "get, old, many, reading, mind, life, think, know, series, house, black, big, family, american, development, girl, eat, breaking, bad, dead, sushi, try, thai, etc, indian, horror, always, things, movie, could, one, would, fiction, world, even, especially, country, favorites, probably, list, well, star, lot, people, listen, john, fan, book, last, enjoy, pretty, pop, everything, currently, little, dark, mostly, almost, say, men, stuff, thrones, great, recently, still, way, fire, show, though, go, harry, potter, never, first, club, long, best, park, story, man, something, david, make, bob, ever, wars, back, films, better, classical, day, games, firefly, \n",
      "\n",
      "Cluster 11\n",
      "get, seen, brown, reading, mind, sushi, try, etc, documentaries, always, movie, sometimes, happy, makes, even, especially, genres, nina, simone, dance, hip, hop, probably, pho, beatles, list, dream, history, people, listen, john, steak, pretty, tacos, ice, cream, cheese, little, song, true, kendrick, point, comedies, literally, whole, still, go, amazing, kinds, romantic, young, wide, thousand, van, laugh, white, make, mac, pasta, eggs, quentin, tarantino, sex, amy, winehouse, drake, baby, beautiful, amelie, wine, future, rocky, dragon, basically, easy, shit, veggies, day, picky, romance, genre, range, scene, soundtrack, wonder, stevie, bread, sam, morrison, living, roots, goodfellas, otis, redding, times, sia, stupid, left, butter, told, brother, fruit, malcolm, \n",
      "\n",
      "Cluster 12\n",
      "dirty, think, black, big, girl, cooking, dead, etc, horror, always, things, movie, mary, film, night, sky, heart, star, history, people, usually, school, pretty, different, wild, except, little, trek, billie, holiday, modern, men, kendrick, mirror, great, michael, kill, fine, snow, go, city, lots, human, deadpool, girls, high, thing, earth, hot, boys, lebowski, man, holy, miss, files, evil, kiss, death, white, particularly, eggs, sex, gone, dawn, home, want, hours, mountain, better, society, women, broad, easy, memoirs, lives, romance, lost, god, paris, underground, comics, universe, childish, sauce, saga, america, vampire, rick, morty, roll, word, alone, joy, raw, division, tng, stephen, devil, kitchen, coming, artist, crowd, \n",
      "\n"
     ]
    }
   ],
   "source": [
    "for i in range(len(groups)):\n",
    "    print('Cluster', str(i+1))\n",
    "    for j in groups.columns:\n",
    "        if groups.iloc[i][j] > .2:\n",
    "            print(j, end=', ')\n",
    "    print()\n",
    "    print()"
   ]
  },
  {
   "cell_type": "markdown",
   "metadata": {},
   "source": [
    "# Machine Learning Your Tastes"
   ]
  },
  {
   "cell_type": "markdown",
   "metadata": {},
   "source": [
    "I like Game of Thrones, Breaking Bad, Lost, Ferris Bueller, and The Walking Dead. Would I like Margaret Atwood?"
   ]
  },
  {
   "cell_type": "code",
   "execution_count": 29,
   "metadata": {
    "collapsed": false
   },
   "outputs": [],
   "source": [
    "my_tastes = {'game_of_thrones': 1, 'breaking': 1, 'bad': 1, 'walking': 1, 'dead': 1,\n",
    "             'lost_tv_show': 1, 'name_of_the_wind': 1, 'ferris': 1, 'bueller': 1}\n",
    "\n",
    "df = df.append(my_tastes, ignore_index=True).fillna(0)"
   ]
  },
  {
   "cell_type": "code",
   "execution_count": 30,
   "metadata": {
    "collapsed": false
   },
   "outputs": [],
   "source": [
    "x = df.copy()\n",
    "y = x.pop('atwood')\n",
    "\n",
    "del x['handmaid']\n",
    "del x['margaret']\n",
    "del x['tale']\n",
    "del x['heart']\n",
    "del x['goes']\n",
    "del x['last']\n",
    "del x['year']"
   ]
  },
  {
   "cell_type": "code",
   "execution_count": 36,
   "metadata": {
    "collapsed": false
   },
   "outputs": [
    {
     "name": "stdout",
     "output_type": "stream",
     "text": [
      "XGBClassifier(base_score=0.5, colsample_bylevel=1, colsample_bytree=1,\n",
      "       gamma=0, learning_rate=0.1, max_delta_step=0, max_depth=3,\n",
      "       min_child_weight=1, missing=None, n_estimators=100, nthread=-1,\n",
      "       objective='binary:logistic', reg_alpha=0, reg_lambda=1.0,\n",
      "       scale_pos_weight=1, seed=0, silent=True, subsample=1) \n",
      "\n",
      "Mean score: 0.8247904567360391\n",
      "Std Dev:    0.05424798749327766\n"
     ]
    }
   ],
   "source": [
    "from sklearn.model_selection import train_test_split, GridSearchCV\n",
    "from xgboost import XGBClassifier\n",
    "\n",
    "# Pre-tested different parameters\n",
    "clf = XGBClassifier()\n",
    "params = {'max_depth': [3],\n",
    "         'reg_lambda': [1.0],\n",
    "         'n_estimators': [50, 100, 200]}\n",
    "grid = GridSearchCV(clf, param_grid=params, cv=3, scoring='roc_auc').fit(x, y)\n",
    "clf = grid.best_estimator_\n",
    "\n",
    "cv = cross_val_score(clf, x, y, cv=4, scoring='roc_auc')\n",
    "\n",
    "print(clf, '\\n')\n",
    "print('Mean score:', cv.mean())\n",
    "print('Std Dev:   ', cv.std())"
   ]
  },
  {
   "cell_type": "code",
   "execution_count": 37,
   "metadata": {
    "collapsed": false
   },
   "outputs": [
    {
     "data": {
      "text/html": [
       "<div>\n",
       "<style scoped>\n",
       "    .dataframe tbody tr th:only-of-type {\n",
       "        vertical-align: middle;\n",
       "    }\n",
       "\n",
       "    .dataframe tbody tr th {\n",
       "        vertical-align: top;\n",
       "    }\n",
       "\n",
       "    .dataframe thead th {\n",
       "        text-align: right;\n",
       "    }\n",
       "</style>\n",
       "<table border=\"1\" class=\"dataframe\">\n",
       "  <thead>\n",
       "    <tr style=\"text-align: right;\">\n",
       "      <th></th>\n",
       "      <th>feature</th>\n",
       "      <th>importance</th>\n",
       "    </tr>\n",
       "  </thead>\n",
       "  <tbody>\n",
       "    <tr>\n",
       "      <th>1761</th>\n",
       "      <td>eggers</td>\n",
       "      <td>0.0493562</td>\n",
       "    </tr>\n",
       "    <tr>\n",
       "      <th>3482</th>\n",
       "      <td>stan</td>\n",
       "      <td>0.0429185</td>\n",
       "    </tr>\n",
       "    <tr>\n",
       "      <th>42</th>\n",
       "      <td>reading</td>\n",
       "      <td>0.0407725</td>\n",
       "    </tr>\n",
       "    <tr>\n",
       "      <th>5028</th>\n",
       "      <td>gershwin</td>\n",
       "      <td>0.0300429</td>\n",
       "    </tr>\n",
       "    <tr>\n",
       "      <th>128</th>\n",
       "      <td>things</td>\n",
       "      <td>0.027897</td>\n",
       "    </tr>\n",
       "    <tr>\n",
       "      <th>5633</th>\n",
       "      <td>usa</td>\n",
       "      <td>0.027897</td>\n",
       "    </tr>\n",
       "    <tr>\n",
       "      <th>1760</th>\n",
       "      <td>dave</td>\n",
       "      <td>0.0214592</td>\n",
       "    </tr>\n",
       "    <tr>\n",
       "      <th>601</th>\n",
       "      <td>great</td>\n",
       "      <td>0.0214592</td>\n",
       "    </tr>\n",
       "    <tr>\n",
       "      <th>3300</th>\n",
       "      <td>gang</td>\n",
       "      <td>0.0214592</td>\n",
       "    </tr>\n",
       "    <tr>\n",
       "      <th>1109</th>\n",
       "      <td>mood</td>\n",
       "      <td>0.0214592</td>\n",
       "    </tr>\n",
       "  </tbody>\n",
       "</table>\n",
       "</div>"
      ],
      "text/plain": [
       "       feature importance\n",
       "1761    eggers  0.0493562\n",
       "3482      stan  0.0429185\n",
       "42     reading  0.0407725\n",
       "5028  gershwin  0.0300429\n",
       "128     things   0.027897\n",
       "5633       usa   0.027897\n",
       "1760      dave  0.0214592\n",
       "601      great  0.0214592\n",
       "3300      gang  0.0214592\n",
       "1109      mood  0.0214592"
      ]
     },
     "execution_count": 37,
     "metadata": {},
     "output_type": "execute_result"
    }
   ],
   "source": [
    "# What predicts liking Atwood, anyway?\n",
    "\n",
    "atwood = pd.DataFrame([df.columns, clf.feature_importances_, ]).transpose()\n",
    "atwood.columns = ['feature', 'importance']\n",
    "\n",
    "atwood.sort_values('importance', ascending=False).head(10)"
   ]
  },
  {
   "cell_type": "markdown",
   "metadata": {},
   "source": [
    "So, would I like Margaret Atwood?"
   ]
  },
  {
   "cell_type": "code",
   "execution_count": 67,
   "metadata": {
    "collapsed": false
   },
   "outputs": [],
   "source": [
    "preds = clf.predict_proba(x)[:, 1]"
   ]
  },
  {
   "cell_type": "code",
   "execution_count": 70,
   "metadata": {
    "collapsed": false
   },
   "outputs": [
    {
     "data": {
      "text/plain": [
       "-0.28276134"
      ]
     },
     "execution_count": 70,
     "metadata": {},
     "output_type": "execute_result"
    }
   ],
   "source": [
    "# z-score to compare me to other users\n",
    "preds[-1] - preds.mean() / preds.std()"
   ]
  },
  {
   "cell_type": "markdown",
   "metadata": {},
   "source": [
    "Apparently Margaret Atwood isn't for me. I probably would like her though -- I just didn't give the model enough to judge me on!"
   ]
  }
 ],
 "metadata": {
  "anaconda-cloud": {},
  "kernelspec": {
   "display_name": "Python [default]",
   "language": "python",
   "name": "python3"
  },
  "language_info": {
   "codemirror_mode": {
    "name": "ipython",
    "version": 3
   },
   "file_extension": ".py",
   "mimetype": "text/x-python",
   "name": "python",
   "nbconvert_exporter": "python",
   "pygments_lexer": "ipython3",
   "version": "3.5.2"
  }
 },
 "nbformat": 4,
 "nbformat_minor": 1
}
