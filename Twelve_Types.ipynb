{
 "cells": [
  {
   "cell_type": "markdown",
   "metadata": {
    "collapsed": true
   },
   "source": [
    "# 12 Kinds of People\n",
    "#### A Tour of Unstructured Data\n",
    "\n",
    "I scraped the profiles of several thousand users on a popular website. Among the data on each profile is their favorite books, movies, TV shows, and even food. But this data is hard to make sense of; it's just a list of words.\n",
    "\n",
    "Using some natural language processing, however, we can tame this data and discover some interesting insights."
   ]
  },
  {
   "cell_type": "code",
   "execution_count": 1,
   "metadata": {
    "collapsed": false
   },
   "outputs": [
    {
     "name": "stdout",
     "output_type": "stream",
     "text": [
      "Populating the interactive namespace from numpy and matplotlib\n"
     ]
    }
   ],
   "source": [
    "import pandas as pd\n",
    "\n",
    "from nltk.stem import SnowballStemmer\n",
    "from nltk.tokenize import word_tokenize\n",
    "from nltk.corpus import stopwords\n",
    "from string import punctuation, digits\n",
    "\n",
    "from sklearn.cluster import KMeans\n",
    "from sklearn.feature_extraction.text import CountVectorizer\n",
    "from sklearn.metrics import recall_score, accuracy_score\n",
    "\n",
    "from collections import Counter\n",
    "\n",
    "import matplotlib.pyplot as plt\n",
    "import seaborn as sns\n",
    "\n",
    "%pylab inline"
   ]
  },
  {
   "cell_type": "code",
   "execution_count": 2,
   "metadata": {
    "collapsed": false
   },
   "outputs": [
    {
     "name": "stdout",
     "output_type": "stream",
     "text": [
      "Shape: (7116, 2)\n",
      "Columns: Index(['favorites', 'length'], dtype='object')\n"
     ]
    },
    {
     "data": {
      "text/html": [
       "<div>\n",
       "<table border=\"1\" class=\"dataframe\">\n",
       "  <thead>\n",
       "    <tr style=\"text-align: right;\">\n",
       "      <th></th>\n",
       "      <th>favorites</th>\n",
       "      <th>length</th>\n",
       "    </tr>\n",
       "  </thead>\n",
       "  <tbody>\n",
       "    <tr>\n",
       "      <th>5745</th>\n",
       "      <td>Capital by Karl Marx, Dialetic of Enlightment,...</td>\n",
       "      <td>203</td>\n",
       "    </tr>\n",
       "    <tr>\n",
       "      <th>5838</th>\n",
       "      <td>Books/movies : The Green Mile, To Kill A Mocki...</td>\n",
       "      <td>324</td>\n",
       "    </tr>\n",
       "    <tr>\n",
       "      <th>3968</th>\n",
       "      <td>Read: Inferno of Dante, Into Thin Air, Mountai...</td>\n",
       "      <td>967</td>\n",
       "    </tr>\n",
       "    <tr>\n",
       "      <th>3640</th>\n",
       "      <td>In no particular order...Books: Princess Bride...</td>\n",
       "      <td>590</td>\n",
       "    </tr>\n",
       "    <tr>\n",
       "      <th>6816</th>\n",
       "      <td>My all time favorite book series is Stephen Ki...</td>\n",
       "      <td>425</td>\n",
       "    </tr>\n",
       "  </tbody>\n",
       "</table>\n",
       "</div>"
      ],
      "text/plain": [
       "                                              favorites  length\n",
       "5745  Capital by Karl Marx, Dialetic of Enlightment,...     203\n",
       "5838  Books/movies : The Green Mile, To Kill A Mocki...     324\n",
       "3968  Read: Inferno of Dante, Into Thin Air, Mountai...     967\n",
       "3640  In no particular order...Books: Princess Bride...     590\n",
       "6816  My all time favorite book series is Stephen Ki...     425"
      ]
     },
     "execution_count": 2,
     "metadata": {},
     "output_type": "execute_result"
    }
   ],
   "source": [
    "# I've pre-wrangled and saved the data, but we'll still need to do a bit more work\n",
    "data = pd.read_csv('favorites_data.csv')\n",
    "del data['Unnamed: 0']\n",
    "\n",
    "# Dataframe info\n",
    "print('Shape:',data.shape)\n",
    "print('Columns:', data.columns)\n",
    "\n",
    "# Sample entries\n",
    "data.sample(5)"
   ]
  },
  {
   "cell_type": "code",
   "execution_count": 3,
   "metadata": {
    "collapsed": false
   },
   "outputs": [],
   "source": [
    "# Processing the text using NLP\n",
    "\n",
    "st = SnowballStemmer(language='english')\n",
    "\n",
    "# Irrelevant words I noticed people using (e.g. \"I admit I mostly watch new movies\").\n",
    "other_stopwords = ['I', 'I’m', 'about', 'absolutely', 'actuality', 'admit', 'almost', 'also', 'am', 'anything',\n",
    "                   'area', 'asked', 'at', 'authors', 'back', 'better', 'big', 'book', 'books', 'born', 'can',\n",
    "                   'cant', 'coast', 'com', 'cook', 'could', 'couple', 'currently', 'do', 'doing', 'eat', 'else',\n",
    "                   'enjoy', 'enjoyed', 'especially', 'etc', 'even', 'everything', 'fav', 'fave', 'favorite',\n",
    "                   'favourite', 'favorites', 'favourites', 'fiction', 'films', 'find', 'finished', 'first',\n",
    "                   'food', 'food', 'generally', 'get', 'go', 'gonna', 'good', 'got', 'great', 'if', 'i’m',\n",
    "                   'include', 'keep', 'know', 'least', 'like', 'list', 'listen', 'listening', 'little', 'live',\n",
    "                   'lot', 'love', 'loved', 'mainly', 'make', 'man', 'many', 'me', 'most', 'mostly', 'movie',\n",
    "                   'movies', 'much', 'music', 'my', 'nan', 'need', 'never', 'new', 'next', 'often', 'on',\n",
    "                   'one', 'particular', 'person', 'personality', 'please', 'pretty', 'probably', 'profile',\n",
    "                   'raised', 'read', 'reading', 'really', 'recently', 'recommend', 'say', 'see', 'seem',\n",
    "                   'seen', 'self', 'series', 'should', 'show', 'shows','something', 'sometimes', 'spend'\n",
    "                   'still', 'stuff', 'summary', 'take', 'tells', 'thing', 'things', 'think', 'thinking',\n",
    "                   'though', 'time', 'to', 'try', 'tv', 'typical', 'unless', 'use', 'usually', 'wan', 'wanna',\n",
    "                   'want', 'watch', 'watching', 'way', 'well', 'went', 'what', 'with', 'without',\n",
    "                   'would', 'www', 'you', 'youtube', '•', '↣'] \n",
    "\n",
    "def text_process(text, stem=False, stops=True):\n",
    "    # Stopwords to remove\n",
    "    stopword_set = set(stopwords.words('english') + list(punctuation) +\\\n",
    "                        list(digits) + other_stopwords)\n",
    "    \n",
    "    # Removes punctuation inside of words (e.g., hip-hop -> hip hop)\n",
    "    for i in list(punctuation):\n",
    "        text = text.replace(i, ' ')\n",
    "        \n",
    "    # Clean the words\n",
    "    token = word_tokenize(text)\n",
    "    cleaned = [word.lower() for word in token]\n",
    "    \n",
    "    # In case I want to turn off stopwords\n",
    "    if stops == True:\n",
    "        cleaned = [word for word in cleaned if word not in stopword_set]\n",
    "    \n",
    "    # Stem the words (optional)\n",
    "    if stem == True:\n",
    "        cleaned = [st.stem(word) for word in cleaned]\n",
    "    \n",
    "    return cleaned"
   ]
  },
  {
   "cell_type": "code",
   "execution_count": 4,
   "metadata": {
    "collapsed": false
   },
   "outputs": [
    {
     "name": "stdout",
     "output_type": "stream",
     "text": [
      "Number of words in list: 343570\n"
     ]
    }
   ],
   "source": [
    "# Count the most popular words to get a feel for what people mention\n",
    "\n",
    "things_liked = data['favorites'].apply(text_process).copy()\n",
    "\n",
    "things_master_list = []\n",
    "\n",
    "for i in range(len(things_liked)):\n",
    "    try:\n",
    "        for j in things_liked[i]:\n",
    "            things_master_list.append(j)\n",
    "    except Exception:\n",
    "        continue\n",
    "\n",
    "# Some entries are blank, so let's remove them.\n",
    "bad_entries = [[],]\n",
    "\n",
    "things_master_list = [i for i in things_master_list if i not in bad_entries]\n",
    "\n",
    "print('Number of words in list:', len(things_master_list))"
   ]
  },
  {
   "cell_type": "code",
   "execution_count": 5,
   "metadata": {
    "collapsed": false
   },
   "outputs": [
    {
     "data": {
      "text/plain": [
       "[('rock', 1411),\n",
       " ('game', 1328),\n",
       " ('black', 1046),\n",
       " ('dead', 1003),\n",
       " ('thrones', 992),\n",
       " ('life', 988),\n",
       " ('american', 961),\n",
       " ('house', 938),\n",
       " ('always', 933),\n",
       " ('horror', 908),\n",
       " ('country', 812),\n",
       " ('bad', 775),\n",
       " ('harry', 771),\n",
       " ('star', 730),\n",
       " ('potter', 711),\n",
       " ('sushi', 688),\n",
       " ('old', 657),\n",
       " ('walking', 650),\n",
       " ('john', 619),\n",
       " ('italian', 601),\n",
       " ('pop', 598),\n",
       " ('mexican', 585),\n",
       " ('thai', 579),\n",
       " ('world', 577),\n",
       " ('fan', 574),\n",
       " ('girl', 569),\n",
       " ('last', 566),\n",
       " ('breaking', 560),\n",
       " ('family', 548),\n",
       " ('hop', 546),\n",
       " ('david', 542),\n",
       " ('hip', 536),\n",
       " ('men', 533),\n",
       " ('day', 520),\n",
       " ('comedy', 519),\n",
       " ('people', 503),\n",
       " ('story', 491),\n",
       " ('indian', 484),\n",
       " ('city', 482),\n",
       " ('metal', 481)]"
      ]
     },
     "execution_count": 5,
     "metadata": {},
     "output_type": "execute_result"
    }
   ],
   "source": [
    "results = Counter(things_master_list)\n",
    "results.most_common(40)"
   ]
  },
  {
   "cell_type": "markdown",
   "metadata": {
    "collapsed": false
   },
   "source": [
    "This a bag-of-words approach so it requires some pop-culture domain knowledge to interpret. Here's what I notice in the list:\n",
    "\n",
    "1. Rock music\n",
    "2. Game of Thrones\n",
    "3. The Walking Dead\n",
    "4. Harry Potter\n",
    "5. Sushi\n",
    "6. Italian food\n",
    "7. Pop music\n",
    "8. Thai food\n",
    "9. Mexican food\n",
    "10. Hip-hop music\n",
    " \n",
    "Things that \"might\" be mentioned (in no particular order):\n",
    "1. This American Life\n",
    "2. Black Mirror\n",
    "3. Orange is the New Black\n",
    "4. Clockwork Orange\n",
    "5. American Horror Story\n",
    "6. House, M.D.\n",
    "7. House music\n",
    "8. Star Wars\n",
    "9. Star Trek\n",
    "10. Family Guy\n",
    "11. Modern Family\n",
    "\n",
    "These are my educated guesses. People might be huge fans of *Little House on the Prairie*, but I doubt it."
   ]
  },
  {
   "cell_type": "markdown",
   "metadata": {},
   "source": [
    "# Creating the DataFrame\n",
    "This is where the real magic happens. I iterate over each word used, then (if necessary) create a new column with that word and assign it a value of 1. We can then look at correlations and create a simple recommender system.\n",
    "\n",
    "I saved the results to a csv, then put the code in a function. This will prove useful when we cluster the data and need to change the parameters."
   ]
  },
  {
   "cell_type": "code",
   "execution_count": 6,
   "metadata": {
    "collapsed": false
   },
   "outputs": [],
   "source": [
    "def favorites_df(mentions=20, save=True):\n",
    "    df = pd.DataFrame()\n",
    "\n",
    "    for i in range(len(data)):\n",
    "        things_list = []\n",
    "        things_liked = text_process(data.iloc[i]['favorites'], stem=False)\n",
    "        if len(things_liked) > 0:\n",
    "            for j in things_liked:\n",
    "                if results[j] >= mentions: #set a threshold\n",
    "                    df.set_value(i, j, 1)\n",
    "\n",
    "    df.fillna(0, inplace=True)\n",
    "    \n",
    "    if save == True:\n",
    "        df.to_csv('favorites_processed.csv', encoding='utf-8')\n",
    "    \n",
    "    return df"
   ]
  },
  {
   "cell_type": "code",
   "execution_count": 7,
   "metadata": {
    "collapsed": false
   },
   "outputs": [
    {
     "data": {
      "text/html": [
       "<div>\n",
       "<table border=\"1\" class=\"dataframe\">\n",
       "  <thead>\n",
       "    <tr style=\"text-align: right;\">\n",
       "      <th></th>\n",
       "      <th>broken</th>\n",
       "      <th>social</th>\n",
       "      <th>scissorhands</th>\n",
       "      <th>calvino</th>\n",
       "      <th>e</th>\n",
       "      <th>solid</th>\n",
       "      <th>moment</th>\n",
       "      <th>real</th>\n",
       "      <th>old</th>\n",
       "      <th>religion</th>\n",
       "      <th>...</th>\n",
       "      <th>lucy</th>\n",
       "      <th>patterson</th>\n",
       "      <th>rand</th>\n",
       "      <th>jump</th>\n",
       "      <th>dessert</th>\n",
       "      <th>elf</th>\n",
       "      <th>watcher</th>\n",
       "      <th>narrow</th>\n",
       "      <th>screen</th>\n",
       "      <th>☩</th>\n",
       "    </tr>\n",
       "  </thead>\n",
       "  <tbody>\n",
       "    <tr>\n",
       "      <th>0</th>\n",
       "      <td>1.0</td>\n",
       "      <td>1.0</td>\n",
       "      <td>1.0</td>\n",
       "      <td>0.0</td>\n",
       "      <td>0.0</td>\n",
       "      <td>0.0</td>\n",
       "      <td>0.0</td>\n",
       "      <td>0.0</td>\n",
       "      <td>0.0</td>\n",
       "      <td>0.0</td>\n",
       "      <td>...</td>\n",
       "      <td>0.0</td>\n",
       "      <td>0.0</td>\n",
       "      <td>0.0</td>\n",
       "      <td>0.0</td>\n",
       "      <td>0.0</td>\n",
       "      <td>0.0</td>\n",
       "      <td>0.0</td>\n",
       "      <td>0.0</td>\n",
       "      <td>0.0</td>\n",
       "      <td>0.0</td>\n",
       "    </tr>\n",
       "    <tr>\n",
       "      <th>1</th>\n",
       "      <td>0.0</td>\n",
       "      <td>0.0</td>\n",
       "      <td>0.0</td>\n",
       "      <td>1.0</td>\n",
       "      <td>1.0</td>\n",
       "      <td>1.0</td>\n",
       "      <td>1.0</td>\n",
       "      <td>1.0</td>\n",
       "      <td>1.0</td>\n",
       "      <td>1.0</td>\n",
       "      <td>...</td>\n",
       "      <td>0.0</td>\n",
       "      <td>0.0</td>\n",
       "      <td>0.0</td>\n",
       "      <td>0.0</td>\n",
       "      <td>0.0</td>\n",
       "      <td>0.0</td>\n",
       "      <td>0.0</td>\n",
       "      <td>0.0</td>\n",
       "      <td>0.0</td>\n",
       "      <td>0.0</td>\n",
       "    </tr>\n",
       "    <tr>\n",
       "      <th>2</th>\n",
       "      <td>0.0</td>\n",
       "      <td>0.0</td>\n",
       "      <td>0.0</td>\n",
       "      <td>0.0</td>\n",
       "      <td>0.0</td>\n",
       "      <td>0.0</td>\n",
       "      <td>1.0</td>\n",
       "      <td>0.0</td>\n",
       "      <td>0.0</td>\n",
       "      <td>0.0</td>\n",
       "      <td>...</td>\n",
       "      <td>0.0</td>\n",
       "      <td>0.0</td>\n",
       "      <td>0.0</td>\n",
       "      <td>0.0</td>\n",
       "      <td>0.0</td>\n",
       "      <td>0.0</td>\n",
       "      <td>0.0</td>\n",
       "      <td>0.0</td>\n",
       "      <td>0.0</td>\n",
       "      <td>0.0</td>\n",
       "    </tr>\n",
       "  </tbody>\n",
       "</table>\n",
       "<p>3 rows × 2941 columns</p>\n",
       "</div>"
      ],
      "text/plain": [
       "   broken  social  scissorhands  calvino    e  solid  moment  real  old  \\\n",
       "0     1.0     1.0           1.0      0.0  0.0    0.0     0.0   0.0  0.0   \n",
       "1     0.0     0.0           0.0      1.0  1.0    1.0     1.0   1.0  1.0   \n",
       "2     0.0     0.0           0.0      0.0  0.0    0.0     1.0   0.0  0.0   \n",
       "\n",
       "   religion ...   lucy  patterson  rand  jump  dessert  elf  watcher  narrow  \\\n",
       "0       0.0 ...    0.0        0.0   0.0   0.0      0.0  0.0      0.0     0.0   \n",
       "1       1.0 ...    0.0        0.0   0.0   0.0      0.0  0.0      0.0     0.0   \n",
       "2       0.0 ...    0.0        0.0   0.0   0.0      0.0  0.0      0.0     0.0   \n",
       "\n",
       "   screen    ☩  \n",
       "0     0.0  0.0  \n",
       "1     0.0  0.0  \n",
       "2     0.0  0.0  \n",
       "\n",
       "[3 rows x 2941 columns]"
      ]
     },
     "execution_count": 7,
     "metadata": {},
     "output_type": "execute_result"
    }
   ],
   "source": [
    "# Retrieving the csv I saved with the previous function\n",
    "df = pd.read_csv('favorites_processed.csv')\n",
    "\n",
    "df.head(3)"
   ]
  },
  {
   "cell_type": "code",
   "execution_count": 8,
   "metadata": {
    "collapsed": false
   },
   "outputs": [],
   "source": [
    "# Building my simpler recommender system\n",
    "\n",
    "def corrs(corr_item=df['thrones'], df=df):\n",
    "    '''\n",
    "    Finds correlated words, then sorts by absolute value to account for\n",
    "    strong negative correlations.\n",
    "    '''\n",
    "    cor = df.select_dtypes(include=[np.number]).corrwith(corr_item)\n",
    "    df = pd.DataFrame(cor.sort_values(ascending=False),columns=['corr'])\n",
    "    df['absol'] = np.abs(df['corr'])\n",
    "    return df[df.absol < 1].sort_values('absol', ascending=False)['corr']         "
   ]
  },
  {
   "cell_type": "code",
   "execution_count": 9,
   "metadata": {
    "collapsed": false
   },
   "outputs": [],
   "source": [
    "# Titles that were ambiguous from our top results, or might\n",
    "# otherwise be hard to find. Not perfect, but works well enough.\n",
    "\n",
    "df['always_sunny'] = np.where((df.always == 1) & (df.sunny == 1), 1, 0)\n",
    "df['american_dad'] = np.where((df.american == 1) & (df.dad == 1) & (df.horror == 0), 1, 0)\n",
    "df['american_horror_story'] = np.where((df.american == 1) & (df.dad == 0) & (df.horror == 1), 1, 0)\n",
    "df['big_bang_theory'] = np.where((df.bang == 1) & (df.theory == 1), 1, 0)\n",
    "df['black_mirror'] = np.where((df.black == 1) & (df.mirror == 1), 1, 0)\n",
    "df['clockwork_orange'] = np.where((df.clockwork == 1) & (df.orange == 1), 1, 0)\n",
    "\n",
    "# People love to point out that they hate country music.\n",
    "df['country'] = np.where((df.country == 1) & (df['except'] == 0), 1, 0) \n",
    "\n",
    "df['crazy_ex_girlfriend'] = np.where((df.crazy == 1) & (df.ex == 1), 1, 0)\n",
    "df['criminal_minds'] = np.where((df.criminal == 1) & (df.minds == 1), 1, 0)\n",
    "df['family_guy'] = np.where((df.family == 1) & (df.guy == 1), 1, 0)\n",
    "df['final_fantasy'] = np.where((df.final == 1) & (df.fantasy == 1), 1, 0)\n",
    "df['game_of_thrones'] = np.where((df.game == 1) & (df.thrones == 1), 1, 0)\n",
    "df['lord_of_the_rings'] = np.where((df.lord == 1) & (df.rings == 1), 1, 0)\n",
    "df['modern_family'] = np.where((df.modern == 1) & (df.family == 1), 1, 0)\n",
    "df['name_of_the_wind'] = np.where((df.wind == 1) & (df.name == 1), 1, 0) # My favorite book!\n",
    "df['orange_is_the_new_black'] = np.where((df.black == 1) & (df.orange == 1), 1, 0)\n",
    "df['pans_labyrinth'] = np.where((df.pan == 1) & (df.labyrinth == 1), 1, 0)\n",
    "df['princess_bride'] = np.where((df.princess == 1) & (df.bride == 1), 1, 0)\n",
    "df['south_park'] = np.where((df.south == 1) & (df.park == 1), 1, 0)\n",
    "df['star_trek'] = np.where((df.star == 1) & (df.trek == 1), 1, 0) # Really, \"trek\" would be enough.\n",
    "df['star_wars'] = np.where((df.star == 1) & (df.wars == 1), 1, 0)\n",
    "df['the_office'] = np.where((df.office == 1) & (df.space == 0), 1, 0)\n",
    "df['this_american_life'] = np.where((df.american == 1) & (df.life == 1), 1, 0)\n",
    "df['whose_line'] = np.where((df.whose == 1) & (df.line == 1), 1, 0)\n",
    "\n",
    "# One of my favorite shows, and a huge pain to search for!\n",
    "df['lost_tv_show'] = np.where((df.lost == 1) & (df.translation == 0) &\\\n",
    "                              (df.boys == 0) & (df.paradise == 0) &\\\n",
    "                              (df.getting == 0) & (df.world == 0) &\\\n",
    "                              (df.souls == 0) & (df.children == 0) &\\\n",
    "                              (df.girl == 0), 1, 0)\n"
   ]
  },
  {
   "cell_type": "code",
   "execution_count": 10,
   "metadata": {
    "collapsed": false
   },
   "outputs": [
    {
     "data": {
      "text/plain": [
       "matrix          0.131394\n",
       "interstellar    0.126193\n",
       "memento         0.111728\n",
       "500             0.104884\n",
       "linkin          0.102744\n",
       "knight          0.099465\n",
       "fight           0.089651\n",
       "club            0.088107\n",
       "hunting         0.087711\n",
       "nemo            0.085528\n",
       "Name: corr, dtype: float64"
      ]
     },
     "execution_count": 10,
     "metadata": {},
     "output_type": "execute_result"
    }
   ],
   "source": [
    "corrs(df.inception).head(10)"
   ]
  },
  {
   "cell_type": "markdown",
   "metadata": {},
   "source": [
    "People who like Inception also tend to like:\n",
    "- The Matrix\n",
    "- Interstellar\n",
    "- Memento\n",
    "- 500 Days of Summer\n",
    "- Linkin Park\n",
    "- The Dark Knight\n",
    "- Fight Club\n",
    "- Hunting Nemo\n",
    "\n",
    "Wait, that's not the name of the movie! Does \"hunting\" refer to *Good Will Hunting*? Let's make sure."
   ]
  },
  {
   "cell_type": "code",
   "execution_count": 11,
   "metadata": {
    "collapsed": false
   },
   "outputs": [
    {
     "data": {
      "text/plain": [
       "bourne           0.151105\n",
       "beautiful        0.109918\n",
       "frozen           0.093225\n",
       "redemption       0.092339\n",
       "bareilles        0.090978\n",
       "inception        0.087711\n",
       "departed         0.087251\n",
       "society          0.084507\n",
       "shawshank        0.081715\n",
       "mediterranean    0.080939\n",
       "Name: corr, dtype: float64"
      ]
     },
     "execution_count": 11,
     "metadata": {},
     "output_type": "execute_result"
    }
   ],
   "source": [
    "corrs(df['hunting']).head(10)"
   ]
  },
  {
   "cell_type": "markdown",
   "metadata": {},
   "source": [
    "It would appear so. It's interesting to note that it's pretty common to simply be a \"Matt Damon\" fan (e.g., Jason Bourne, The Departed).\n",
    "\n",
    "So, what about *Good Will Hunting*?"
   ]
  },
  {
   "cell_type": "code",
   "execution_count": 12,
   "metadata": {
    "collapsed": false
   },
   "outputs": [],
   "source": [
    "#corrs(df['will'])"
   ]
  },
  {
   "cell_type": "markdown",
   "metadata": {},
   "source": [
    "I won't run it, but this results in a KeyError! The problem with my stopwords is that they sometimes filter out names of titles, such as \"Finding\" Nemo or Good \"Will\" Hunting.\n",
    "\n",
    "However, I'd argue this is more a problem with unstructured data, than the use of stopwords."
   ]
  },
  {
   "cell_type": "markdown",
   "metadata": {},
   "source": [
    "# Clusters\n",
    "What if there are certain \"types\" of people in terms of personal tastes? A cluster analysis could uncover this."
   ]
  },
  {
   "cell_type": "code",
   "execution_count": 13,
   "metadata": {
    "collapsed": false
   },
   "outputs": [],
   "source": [
    "# Create a new dataframe. We need to increase the popularity\n",
    "# threshold from 20 to 50 to reduce dimensionality.\n",
    "\n",
    "df_popular = favorites_df(mentions=50, save=False)"
   ]
  },
  {
   "cell_type": "code",
   "execution_count": 14,
   "metadata": {
    "collapsed": false
   },
   "outputs": [
    {
     "data": {
      "text/plain": [
       "(7073, 1400)"
      ]
     },
     "execution_count": 14,
     "metadata": {},
     "output_type": "execute_result"
    }
   ],
   "source": [
    "df_popular.shape"
   ]
  },
  {
   "cell_type": "markdown",
   "metadata": {},
   "source": [
    "There's no avoiding it: We'll have to reduce the number of dimensions in order to perform a cluster analysis. Let's see if we can find a point of diminishing returns."
   ]
  },
  {
   "cell_type": "code",
   "execution_count": 15,
   "metadata": {
    "collapsed": false
   },
   "outputs": [],
   "source": [
    "from sklearn.decomposition import PCA\n",
    "\n",
    "variance_dict = {}\n",
    "\n",
    "for i in range(1,1100,100):\n",
    "    pca = PCA(n_components=i, whiten=True).fit(df_popular)\n",
    "    variance_dict[i] = sum(pca.explained_variance_ratio_)"
   ]
  },
  {
   "cell_type": "code",
   "execution_count": 16,
   "metadata": {
    "collapsed": false
   },
   "outputs": [
    {
     "data": {
      "image/png": "[encoded data removed]",
      "text/plain": [
       "<matplotlib.figure.Figure at 0x1dc24921588>"
      ]
     },
     "metadata": {},
     "output_type": "display_data"
    }
   ],
   "source": [
    "vdf = pd.DataFrame([variance_dict]).T.plot()"
   ]
  },
  {
   "cell_type": "markdown",
   "metadata": {},
   "source": [
    "There's an elbow at approximately 100, but that's still too many features for this data set."
   ]
  },
  {
   "cell_type": "code",
   "execution_count": 17,
   "metadata": {
    "collapsed": false
   },
   "outputs": [
    {
     "data": {
      "text/plain": [
       "<matplotlib.axes._subplots.AxesSubplot at 0x1dc24828ef0>"
      ]
     },
     "execution_count": 17,
     "metadata": {},
     "output_type": "execute_result"
    },
    {
     "data": {
      "image/png": "[encoded data removed]",
      "text/plain": [
       "<matplotlib.figure.Figure at 0x1dc24921630>"
      ]
     },
     "metadata": {},
     "output_type": "display_data"
    }
   ],
   "source": [
    "variance_dict = {}\n",
    "\n",
    "for i in range(1,210,20):\n",
    "    pca = PCA(n_components=i, whiten=True).fit(df_popular)\n",
    "    variance_dict[i] = sum(pca.explained_variance_ratio_)\n",
    "    \n",
    "pd.DataFrame([variance_dict]).T.plot()"
   ]
  },
  {
   "cell_type": "markdown",
   "metadata": {},
   "source": [
    "20 appears to be another good option. However, after much trial and error, I discovered that it's most effective to capture about 10% of the variance with only 10 features. It makes our clustering decisions much easier."
   ]
  },
  {
   "cell_type": "code",
   "execution_count": 18,
   "metadata": {
    "collapsed": false
   },
   "outputs": [
    {
     "name": "stdout",
     "output_type": "stream",
     "text": [
      "PCA explained variance: 0.0944641399422\n",
      "Shape: (7073, 10)\n"
     ]
    }
   ],
   "source": [
    "pca = PCA(n_components=10, whiten=True).fit(df_popular)\n",
    "\n",
    "dframe = pca.transform(df_popular)\n",
    "\n",
    "print('PCA explained variance:', sum(pca.explained_variance_ratio_))\n",
    "print('Shape:', dframe.shape)"
   ]
  },
  {
   "cell_type": "markdown",
   "metadata": {},
   "source": [
    "We're only catching a tiny fraction of the variance, but it'll have to do.\n",
    "\n",
    "Next question: How many clusters should we have?"
   ]
  },
  {
   "cell_type": "code",
   "execution_count": 19,
   "metadata": {
    "collapsed": false
   },
   "outputs": [
    {
     "data": {
      "text/html": [
       "<div>\n",
       "<table border=\"1\" class=\"dataframe\">\n",
       "  <thead>\n",
       "    <tr style=\"text-align: right;\">\n",
       "      <th></th>\n",
       "      <th>inertia</th>\n",
       "      <th>improvement</th>\n",
       "    </tr>\n",
       "  </thead>\n",
       "  <tbody>\n",
       "    <tr>\n",
       "      <th>2</th>\n",
       "      <td>64337.311835</td>\n",
       "      <td>NaN</td>\n",
       "    </tr>\n",
       "    <tr>\n",
       "      <th>3</th>\n",
       "      <td>59860.945783</td>\n",
       "      <td>0.069577</td>\n",
       "    </tr>\n",
       "    <tr>\n",
       "      <th>4</th>\n",
       "      <td>55662.874914</td>\n",
       "      <td>0.070130</td>\n",
       "    </tr>\n",
       "    <tr>\n",
       "      <th>5</th>\n",
       "      <td>52696.798054</td>\n",
       "      <td>0.053286</td>\n",
       "    </tr>\n",
       "    <tr>\n",
       "      <th>6</th>\n",
       "      <td>49684.660504</td>\n",
       "      <td>0.057160</td>\n",
       "    </tr>\n",
       "    <tr>\n",
       "      <th>7</th>\n",
       "      <td>46762.733374</td>\n",
       "      <td>0.058809</td>\n",
       "    </tr>\n",
       "    <tr>\n",
       "      <th>8</th>\n",
       "      <td>44752.937465</td>\n",
       "      <td>0.042979</td>\n",
       "    </tr>\n",
       "    <tr>\n",
       "      <th>9</th>\n",
       "      <td>42655.432837</td>\n",
       "      <td>0.046869</td>\n",
       "    </tr>\n",
       "    <tr>\n",
       "      <th>10</th>\n",
       "      <td>40929.314653</td>\n",
       "      <td>0.040467</td>\n",
       "    </tr>\n",
       "    <tr>\n",
       "      <th>11</th>\n",
       "      <td>39432.124966</td>\n",
       "      <td>0.036580</td>\n",
       "    </tr>\n",
       "    <tr>\n",
       "      <th>12</th>\n",
       "      <td>38635.156055</td>\n",
       "      <td>0.020211</td>\n",
       "    </tr>\n",
       "    <tr>\n",
       "      <th>13</th>\n",
       "      <td>37903.023562</td>\n",
       "      <td>0.018950</td>\n",
       "    </tr>\n",
       "    <tr>\n",
       "      <th>14</th>\n",
       "      <td>37202.255621</td>\n",
       "      <td>0.018488</td>\n",
       "    </tr>\n",
       "    <tr>\n",
       "      <th>15</th>\n",
       "      <td>36366.636333</td>\n",
       "      <td>0.022462</td>\n",
       "    </tr>\n",
       "    <tr>\n",
       "      <th>16</th>\n",
       "      <td>35915.789711</td>\n",
       "      <td>0.012397</td>\n",
       "    </tr>\n",
       "    <tr>\n",
       "      <th>17</th>\n",
       "      <td>35428.234224</td>\n",
       "      <td>0.013575</td>\n",
       "    </tr>\n",
       "    <tr>\n",
       "      <th>18</th>\n",
       "      <td>34797.715366</td>\n",
       "      <td>0.017797</td>\n",
       "    </tr>\n",
       "    <tr>\n",
       "      <th>19</th>\n",
       "      <td>34279.034697</td>\n",
       "      <td>0.014906</td>\n",
       "    </tr>\n",
       "  </tbody>\n",
       "</table>\n",
       "</div>"
      ],
      "text/plain": [
       "         inertia  improvement\n",
       "2   64337.311835          NaN\n",
       "3   59860.945783     0.069577\n",
       "4   55662.874914     0.070130\n",
       "5   52696.798054     0.053286\n",
       "6   49684.660504     0.057160\n",
       "7   46762.733374     0.058809\n",
       "8   44752.937465     0.042979\n",
       "9   42655.432837     0.046869\n",
       "10  40929.314653     0.040467\n",
       "11  39432.124966     0.036580\n",
       "12  38635.156055     0.020211\n",
       "13  37903.023562     0.018950\n",
       "14  37202.255621     0.018488\n",
       "15  36366.636333     0.022462\n",
       "16  35915.789711     0.012397\n",
       "17  35428.234224     0.013575\n",
       "18  34797.715366     0.017797\n",
       "19  34279.034697     0.014906"
      ]
     },
     "execution_count": 19,
     "metadata": {},
     "output_type": "execute_result"
    }
   ],
   "source": [
    "# Inertia measures the average distance to the nearest centroid.\n",
    "# We want it to be low, but adding more clusters is always going\n",
    "# to reduce it. So we need to find a point of diminishing returns.\n",
    "\n",
    "kdict = {}\n",
    "\n",
    "for i in range(2,20):\n",
    "    clf = KMeans(n_clusters=i)\n",
    "    clf.fit(dframe)\n",
    "    kdict[i] = clf.inertia_\n",
    "\n",
    "kframe = pd.DataFrame([kdict]).T\n",
    "kframe.columns = ['inertia']\n",
    "\n",
    "# Calculate the improvement as a percentage\n",
    "kframe['improvement'] = (kframe['inertia'].shift(1) - kframe['inertia'])/kframe['inertia'].shift(1)\n",
    "\n",
    "kframe"
   ]
  },
  {
   "cell_type": "code",
   "execution_count": 20,
   "metadata": {
    "collapsed": false
   },
   "outputs": [
    {
     "data": {
      "text/plain": [
       "<matplotlib.axes._subplots.AxesSubplot at 0x1dc248469e8>"
      ]
     },
     "execution_count": 20,
     "metadata": {},
     "output_type": "execute_result"
    },
    {
     "data": {
      "image/png": "[encoded data removed]",
      "text/plain": [
       "<matplotlib.figure.Figure at 0x1dc3168dd68>"
      ]
     },
     "metadata": {},
     "output_type": "display_data"
    }
   ],
   "source": [
    "kframe.improvement.plot()"
   ]
  },
  {
   "cell_type": "markdown",
   "metadata": {},
   "source": [
    "12 appears to be a good number of clusters."
   ]
  },
  {
   "cell_type": "code",
   "execution_count": 21,
   "metadata": {
    "collapsed": false
   },
   "outputs": [
    {
     "data": {
      "text/plain": [
       "KMeans(algorithm='auto', copy_x=True, init='k-means++', max_iter=300,\n",
       "    n_clusters=12, n_init=10, n_jobs=1, precompute_distances='auto',\n",
       "    random_state=None, tol=0.0001, verbose=0)"
      ]
     },
     "execution_count": 21,
     "metadata": {},
     "output_type": "execute_result"
    }
   ],
   "source": [
    "clf = KMeans(n_clusters=12)\n",
    "clf.fit(df_popular)"
   ]
  },
  {
   "cell_type": "code",
   "execution_count": 22,
   "metadata": {
    "collapsed": true
   },
   "outputs": [],
   "source": [
    "df_popular['cluster'] = clf.labels_ + 1"
   ]
  },
  {
   "cell_type": "code",
   "execution_count": 23,
   "metadata": {
    "collapsed": false
   },
   "outputs": [],
   "source": [
    "groups = df_popular.groupby('cluster').mean()\n",
    "\n",
    "# Shrink the dataframe to only mention the most common words.\n",
    "groups = groups[(groups > .1)]\n",
    "groups.dropna(how='all', axis=1, inplace=True)"
   ]
  },
  {
   "cell_type": "code",
   "execution_count": 24,
   "metadata": {
    "collapsed": false
   },
   "outputs": [
    {
     "name": "stdout",
     "output_type": "stream",
     "text": [
      "Cluster 1\n",
      "sushi, mexican, thai, indian, italian, \n",
      "\n",
      "Cluster 2\n",
      "life, house, black, american, development, rock, bad, john, city, \n",
      "\n",
      "Cluster 3\n",
      "house, bad, walking, dead, game, thrones, harry, potter, \n",
      "\n",
      "Cluster 4\n",
      "real, old, talk, house, cards, black, american, breaking, bad, thai, folk, indian, vietnamese, documentaries, always, sunny, philadelphia, feel, italian, soul, band, john, bill, school, coffee, wild, alchemist, top, biographies, light, cheese, daily, true, french, men, indie, season, late, blues, still, hbo, name, days, songs, seinfeld, mad, spicy, david, classics, peter, hemingway, tarantino, coen, others, allen, detective, woody, eric, rom, meet, narcos, perfect, curb, enthusiasm, alabama, easy, special, getting, brothers, political, kubrick, sucker, mother, wes, anderson, written, foreign, year, sia, brother, williams, jason, joan, \n",
      "\n",
      "Cluster 5\n",
      "old, sunshine, mind, life, house, orange, black, family, guy, american, arrested, development, rock, girl, breaking, bad, walking, dead, sushi, thai, punk, indian, horror, always, world, beatles, star, history, people, john, last, true, dark, trek, men, game, thrones, fire, city, harry, potter, club, girls, mad, hot, burgers, park, x, story, king, princess, sherlock, david, archer, death, white, bob, lord, wars, red, doctor, day, brothers, trilogy, games, lost, bowie, firefly, \n",
      "\n",
      "Cluster 6\n",
      "rock, r, b, hip, hop, country, pop, \n",
      "\n",
      "Cluster 7\n",
      "rock, bad, horror, pizza, give, film, every, hard, general, alternative, pink, floyd, band, school, ice, comes, anyone, les, yet, song, past, words, serious, spend, still, fire, work, fast, cry, place, walk, sorry, interested, home, count, version, musical, musicals, means, basically, theatre, based, idea, money, addicted, trip, times, heard, enjoying, \n",
      "\n",
      "Cluster 8\n",
      "social, brown, mind, life, house, cards, black, office, friends, rock, bad, sushi, wave, punk, indian, chinese, horror, always, pizza, non, chuck, give, world, happy, makes, soft, heart, alternative, howard, art, people, brian, catch, artists, john, cage, william, marvel, 90, tacos, k, shameless, 80, morning, dark, wise, french, sound, indie, 22, comedies, sci, fi, game, thrones, kill, mockingbird, justice, still, hbo, appreciate, amazing, hate, reality, college, galaxy, jones, taste, fast, best, earth, james, documentary, x, story, place, wire, alan, sad, anime, studio, parks, rec, community, none, phantom, sherlock, miss, ghost, adventures, files, dc, death, novels, paul, ethiopian, post, twin, stop, peaks, ever, coen, prince, batman, blue, mr, picture, version, dramas, rocky, dumb, fresh, thomas, graphic, meat, actually, forever, bbc, doctor, bunch, west, short, stories, vonnegut, matter, 30, perfect, spot, jessica, jeff, shit, luke, oscar, royal, neil, serial, invisible, veep, brothers, woman, power, kubrick, psychological, inch, gaiman, works, anderson, horrible, foreign, writing, burritos, soup, angry, morrison, guess, leaves, america, note, jim, second, writers, lolita, kafka, guide, feeling, misfits, important, kimmy, schmidt, captain, stick, unbreakable, moore, dig, \n",
      "\n",
      "Cluster 9\n",
      "crime, life, black, american, thai, classic, metal, punk, chinese, always, stranger, jazz, tend, feel, genres, b, heart, dance, hop, latin, start, la, beatles, jimi, hendrix, pink, band, electronic, star, people, fan, open, different, pop, cream, comes, plays, 80, radiohead, far, dark, talking, literature, french, trek, types, cold, modern, blues, whole, chocolate, working, thought, fine, name, amazing, lots, nine, seafood, romantic, various, club, cry, pulp, x, fight, deep, plus, lee, smiths, spicy, david, miss, opera, classics, peter, cuisine, historical, obsessed, asian, wars, crazy, help, musical, rather, meat, vegetarian, doctor, classical, eating, spot, orphan, kids, doors, online, theatre, war, animal, voice, seasons, day, picky, iron, depeche, mode, age, anymore, television, curry, bowie, inch, velvet, underground, foreign, since, sauce, limited, trip, contemporary, year, novel, part, rolling, stones, style, chick, pi, pleasure, joy, foo, fighters, race, division, tng, early, heads, might, coming, matrix, side, \n",
      "\n",
      "Cluster 10\n",
      "life, american, rock, cooking, sushi, mexican, thai, electronica, folk, vietnamese, always, r, b, dance, hip, hop, reggae, country, soul, radiolab, nerd, 80, except, game, podcasts, beer, spend, made, playing, salsa, party, story, moving, nothing, ethiopian, home, meat, day, genre, fish, \n",
      "\n",
      "Cluster 11\n",
      "rock, metal, horror, always, country, pop, sci, fi, \n",
      "\n",
      "Cluster 12\n",
      "\n",
      "\n"
     ]
    }
   ],
   "source": [
    "# I created a graphic below this output; scroll down\n",
    "# if you just want to see the highlights!\n",
    "\n",
    "for i in range(len(groups)):\n",
    "    print('Cluster', str(i+1))\n",
    "    for j in groups.columns:\n",
    "        if groups.iloc[i][j] > .2:\n",
    "            print(j, end=', ')\n",
    "    print()\n",
    "    print()"
   ]
  },
  {
   "cell_type": "markdown",
   "metadata": {},
   "source": [
    "![12 Clusters](http://databrain.org/wp-content/uploads/2017/01/Clusters.png)"
   ]
  },
  {
   "cell_type": "markdown",
   "metadata": {},
   "source": [
    "# Machine Learning Your Tastes\n",
    "\n",
    "Is it possible to use machine learning on this data? Let's find out!"
   ]
  },
  {
   "cell_type": "markdown",
   "metadata": {},
   "source": [
    "I've heard lots of good things about Margaret Atwood, but I've never read her books.\n",
    "\n",
    "Let's say I like Game of Thrones, Breaking Bad, Lost, Ferris Bueller, and The Walking Dead. Would I like Margaret Atwood?"
   ]
  },
  {
   "cell_type": "code",
   "execution_count": 25,
   "metadata": {
    "collapsed": false
   },
   "outputs": [],
   "source": [
    "my_tastes = {'game_of_thrones': 1, 'breaking': 1, 'bad': 1, 'walking': 1, 'dead': 1,\n",
    "             'lost_tv_show': 1, 'name_of_the_wind': 1, 'ferris': 1, 'bueller': 1}\n",
    "\n",
    "df = df.append(my_tastes, ignore_index=True).fillna(0)"
   ]
  },
  {
   "cell_type": "code",
   "execution_count": 26,
   "metadata": {
    "collapsed": false
   },
   "outputs": [],
   "source": [
    "x = df.copy()\n",
    "y = x.pop('atwood')\n",
    "\n",
    "# Remove her book titles\n",
    "del x['margaret']\n",
    "del x['handmaid']\n",
    "del x['tale']\n",
    "del x['heart']\n",
    "del x['goes']\n",
    "del x['last']\n",
    "del x['year']"
   ]
  },
  {
   "cell_type": "code",
   "execution_count": 27,
   "metadata": {
    "collapsed": false
   },
   "outputs": [
    {
     "data": {
      "text/plain": [
       "0.98660084626234135"
      ]
     },
     "execution_count": 27,
     "metadata": {},
     "output_type": "execute_result"
    }
   ],
   "source": [
    "from sklearn.model_selection import train_test_split\n",
    "from sklearn.ensemble import RandomForestClassifier\n",
    "\n",
    "xtrain, xtest, ytrain, ytest = train_test_split(x, y, test_size=.20)\n",
    "\n",
    "clf = RandomForestClassifier(n_estimators=500) # We need a lot of estimators to create precise predictions.\n",
    "clf.fit(xtrain, ytrain)\n",
    "pred = clf.predict(xtest)\n",
    "pred_proba = clf.predict_proba(xtest)\n",
    "\n",
    "accuracy_score(ytest, pred)"
   ]
  },
  {
   "cell_type": "code",
   "execution_count": 28,
   "metadata": {
    "collapsed": false
   },
   "outputs": [
    {
     "data": {
      "text/plain": [
       "0.0"
      ]
     },
     "execution_count": 28,
     "metadata": {},
     "output_type": "execute_result"
    }
   ],
   "source": [
    "pred.sum()"
   ]
  },
  {
   "cell_type": "markdown",
   "metadata": {},
   "source": [
    "We have a problem! There's a huge class imbalance, and the model is going to be 99% accurate just by predicting that no one likes Margaret Atwood.\n",
    "\n",
    "I'm quite willing to have some false positives, so let's create a custom set of predictions."
   ]
  },
  {
   "cell_type": "code",
   "execution_count": 29,
   "metadata": {
    "collapsed": false
   },
   "outputs": [
    {
     "name": "stdout",
     "output_type": "stream",
     "text": [
      "Average probability of liking Margaret Atwood: 0.0058293370945\n",
      "Standard deviation: 0.0131091409547\n"
     ]
    }
   ],
   "source": [
    "atwood_average = pred_proba[:,1].mean()\n",
    "atwood_std = pred_proba[:,1].std()\n",
    "\n",
    "print(\"Average probability of liking Margaret Atwood:\", atwood_average)\n",
    "print(\"Standard deviation:\", atwood_std)"
   ]
  },
  {
   "cell_type": "markdown",
   "metadata": {},
   "source": [
    "Let's combine them, and say that if your probability is one standard deviation above the average, then you're predicted to like her."
   ]
  },
  {
   "cell_type": "code",
   "execution_count": 30,
   "metadata": {
    "collapsed": false
   },
   "outputs": [
    {
     "data": {
      "text/plain": [
       "130"
      ]
     },
     "execution_count": 30,
     "metadata": {},
     "output_type": "execute_result"
    }
   ],
   "source": [
    "predicted_to_like = atwood_average + atwood_std\n",
    "pred_custom = []\n",
    "\n",
    "for i in pred_proba[:,1]:\n",
    "    if i >= predicted_to_like:\n",
    "        pred_custom.append(1)\n",
    "    else:\n",
    "        pred_custom.append(0)\n",
    "\n",
    "np.sum(pred_custom)"
   ]
  },
  {
   "cell_type": "markdown",
   "metadata": {},
   "source": [
    "Woohoo! Now many people are predicted to like her. Let's now evaluate this using recall score, rather than accuracy. This benchmark is more appropriate, considering I'm okay with false positives."
   ]
  },
  {
   "cell_type": "code",
   "execution_count": 31,
   "metadata": {
    "collapsed": false
   },
   "outputs": [
    {
     "data": {
      "text/plain": [
       "0.26315789473684209"
      ]
     },
     "execution_count": 31,
     "metadata": {},
     "output_type": "execute_result"
    }
   ],
   "source": [
    "recall_score(ytest, pred_custom)"
   ]
  },
  {
   "cell_type": "code",
   "execution_count": 32,
   "metadata": {
    "collapsed": false
   },
   "outputs": [
    {
     "data": {
      "text/plain": [
       "0.0"
      ]
     },
     "execution_count": 32,
     "metadata": {},
     "output_type": "execute_result"
    }
   ],
   "source": [
    "# Compare it to my original predictions. \n",
    "recall_score(ytest, pred)"
   ]
  },
  {
   "cell_type": "markdown",
   "metadata": {},
   "source": [
    "Much better!"
   ]
  },
  {
   "cell_type": "code",
   "execution_count": 33,
   "metadata": {
    "collapsed": false
   },
   "outputs": [
    {
     "data": {
      "text/html": [
       "<div>\n",
       "<table border=\"1\" class=\"dataframe\">\n",
       "  <thead>\n",
       "    <tr style=\"text-align: right;\">\n",
       "      <th></th>\n",
       "      <th>feature</th>\n",
       "      <th>importance</th>\n",
       "    </tr>\n",
       "  </thead>\n",
       "  <tbody>\n",
       "    <tr>\n",
       "      <th>2645</th>\n",
       "      <td>mann</td>\n",
       "      <td>0.00512163</td>\n",
       "    </tr>\n",
       "    <tr>\n",
       "      <th>1220</th>\n",
       "      <td>eggers</td>\n",
       "      <td>0.00395789</td>\n",
       "    </tr>\n",
       "    <tr>\n",
       "      <th>2466</th>\n",
       "      <td>dwarf</td>\n",
       "      <td>0.00366785</td>\n",
       "    </tr>\n",
       "    <tr>\n",
       "      <th>427</th>\n",
       "      <td>slow</td>\n",
       "      <td>0.00327189</td>\n",
       "    </tr>\n",
       "    <tr>\n",
       "      <th>1995</th>\n",
       "      <td>craft</td>\n",
       "      <td>0.00321687</td>\n",
       "    </tr>\n",
       "    <tr>\n",
       "      <th>2120</th>\n",
       "      <td>rome</td>\n",
       "      <td>0.00320266</td>\n",
       "    </tr>\n",
       "    <tr>\n",
       "      <th>2646</th>\n",
       "      <td>neal</td>\n",
       "      <td>0.00306542</td>\n",
       "    </tr>\n",
       "    <tr>\n",
       "      <th>768</th>\n",
       "      <td>douglas</td>\n",
       "      <td>0.00268902</td>\n",
       "    </tr>\n",
       "    <tr>\n",
       "      <th>777</th>\n",
       "      <td>zone</td>\n",
       "      <td>0.00266965</td>\n",
       "    </tr>\n",
       "    <tr>\n",
       "      <th>2052</th>\n",
       "      <td>touch</td>\n",
       "      <td>0.00258543</td>\n",
       "    </tr>\n",
       "  </tbody>\n",
       "</table>\n",
       "</div>"
      ],
      "text/plain": [
       "      feature  importance\n",
       "2645     mann  0.00512163\n",
       "1220   eggers  0.00395789\n",
       "2466    dwarf  0.00366785\n",
       "427      slow  0.00327189\n",
       "1995    craft  0.00321687\n",
       "2120     rome  0.00320266\n",
       "2646     neal  0.00306542\n",
       "768   douglas  0.00268902\n",
       "777      zone  0.00266965\n",
       "2052    touch  0.00258543"
      ]
     },
     "execution_count": 33,
     "metadata": {},
     "output_type": "execute_result"
    }
   ],
   "source": [
    "# Feature importances\n",
    "atwood = pd.DataFrame([df.columns, clf.feature_importances_, ]).transpose()\n",
    "atwood.columns = ['feature', 'importance']\n",
    "\n",
    "atwood.sort_values('importance', ascending=False).head(10)"
   ]
  },
  {
   "cell_type": "markdown",
   "metadata": {},
   "source": [
    "We went off on a tangent. The original question was whether I'd like Margaret Atwood."
   ]
  },
  {
   "cell_type": "code",
   "execution_count": 34,
   "metadata": {
    "collapsed": false
   },
   "outputs": [],
   "source": [
    "pred_me = clf.predict_proba(x.iloc[-1].reshape(1, -1))"
   ]
  },
  {
   "cell_type": "code",
   "execution_count": 35,
   "metadata": {
    "collapsed": false
   },
   "outputs": [
    {
     "data": {
      "text/plain": [
       "0.0"
      ]
     },
     "execution_count": 35,
     "metadata": {},
     "output_type": "execute_result"
    }
   ],
   "source": [
    "pred_me[0,1]"
   ]
  },
  {
   "cell_type": "markdown",
   "metadata": {},
   "source": [
    "Apparently Margaret Atwood isn't for me. In fact, the model was bold enough to assign a 0% probability! Which makes me wonder -- is it assigning binary labels to everyone?"
   ]
  },
  {
   "cell_type": "code",
   "execution_count": 36,
   "metadata": {
    "collapsed": false
   },
   "outputs": [
    {
     "data": {
      "text/plain": [
       "array([ 0.   ,  0.006,  0.002,  0.002,  0.   ])"
      ]
     },
     "execution_count": 36,
     "metadata": {},
     "output_type": "execute_result"
    }
   ],
   "source": [
    "clf.predict_proba(x)[:,1][:5]"
   ]
  },
  {
   "cell_type": "markdown",
   "metadata": {},
   "source": [
    "Nope, it just really thinks I won't like her. Thanks, model!"
   ]
  },
  {
   "cell_type": "markdown",
   "metadata": {},
   "source": [
    "There a lot more things we could do with this data, but I'll leave it at this for now."
   ]
  }
 ],
 "metadata": {
  "anaconda-cloud": {},
  "kernelspec": {
   "display_name": "Python 3",
   "language": "python",
   "name": "python3"
  },
  "language_info": {
   "codemirror_mode": {
    "name": "ipython",
    "version": 3
   },
   "file_extension": ".py",
   "mimetype": "text/x-python",
   "name": "python",
   "nbconvert_exporter": "python",
   "pygments_lexer": "ipython3",
   "version": "3.5.1"
  }
 },
 "nbformat": 4,
 "nbformat_minor": 1
}
